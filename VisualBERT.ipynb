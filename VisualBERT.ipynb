{
  "nbformat": 4,
  "nbformat_minor": 0,
  "metadata": {
    "colab": {
      "provenance": [],
      "include_colab_link": true
    },
    "kernelspec": {
      "name": "python3",
      "display_name": "Python 3"
    },
    "language_info": {
      "name": "python"
    },
    "gpuClass": "standard",
    "accelerator": "GPU",
    "widgets": {
      "application/vnd.jupyter.widget-state+json": {
        "4f2d9a2babd248838d74814e98e17ad7": {
          "model_module": "@jupyter-widgets/controls",
          "model_name": "HBoxModel",
          "model_module_version": "1.5.0",
          "state": {
            "_dom_classes": [],
            "_model_module": "@jupyter-widgets/controls",
            "_model_module_version": "1.5.0",
            "_model_name": "HBoxModel",
            "_view_count": null,
            "_view_module": "@jupyter-widgets/controls",
            "_view_module_version": "1.5.0",
            "_view_name": "HBoxView",
            "box_style": "",
            "children": [
              "IPY_MODEL_4f16f05d2b2e4c4dbefecf3f76be4db5",
              "IPY_MODEL_84088cb4d1d4435588a5e57f6e1af0d4",
              "IPY_MODEL_9df0330aa177405b96bb5b28c89c23c4"
            ],
            "layout": "IPY_MODEL_4dd2d04f71f34f57b284809506a2e413"
          }
        },
        "4f16f05d2b2e4c4dbefecf3f76be4db5": {
          "model_module": "@jupyter-widgets/controls",
          "model_name": "HTMLModel",
          "model_module_version": "1.5.0",
          "state": {
            "_dom_classes": [],
            "_model_module": "@jupyter-widgets/controls",
            "_model_module_version": "1.5.0",
            "_model_name": "HTMLModel",
            "_view_count": null,
            "_view_module": "@jupyter-widgets/controls",
            "_view_module_version": "1.5.0",
            "_view_name": "HTMLView",
            "description": "",
            "description_tooltip": null,
            "layout": "IPY_MODEL_084e3713638a4f868f122df4c77545fb",
            "placeholder": "​",
            "style": "IPY_MODEL_1d30353fbfa34cd5b52c822ed45a6ce9",
            "value": "Downloading (…)lve/main/config.json: 100%"
          }
        },
        "84088cb4d1d4435588a5e57f6e1af0d4": {
          "model_module": "@jupyter-widgets/controls",
          "model_name": "FloatProgressModel",
          "model_module_version": "1.5.0",
          "state": {
            "_dom_classes": [],
            "_model_module": "@jupyter-widgets/controls",
            "_model_module_version": "1.5.0",
            "_model_name": "FloatProgressModel",
            "_view_count": null,
            "_view_module": "@jupyter-widgets/controls",
            "_view_module_version": "1.5.0",
            "_view_name": "ProgressView",
            "bar_style": "success",
            "description": "",
            "description_tooltip": null,
            "layout": "IPY_MODEL_c3d51c95522b444c87cf1476b808697a",
            "max": 631,
            "min": 0,
            "orientation": "horizontal",
            "style": "IPY_MODEL_5687cd89ee184dacaaadadc4cdd32137",
            "value": 631
          }
        },
        "9df0330aa177405b96bb5b28c89c23c4": {
          "model_module": "@jupyter-widgets/controls",
          "model_name": "HTMLModel",
          "model_module_version": "1.5.0",
          "state": {
            "_dom_classes": [],
            "_model_module": "@jupyter-widgets/controls",
            "_model_module_version": "1.5.0",
            "_model_name": "HTMLModel",
            "_view_count": null,
            "_view_module": "@jupyter-widgets/controls",
            "_view_module_version": "1.5.0",
            "_view_name": "HTMLView",
            "description": "",
            "description_tooltip": null,
            "layout": "IPY_MODEL_f221f1146e8c47bcaa44a27071f67b07",
            "placeholder": "​",
            "style": "IPY_MODEL_70ba325191e44173b27fdc35221f982a",
            "value": " 631/631 [00:00&lt;00:00, 35.7kB/s]"
          }
        },
        "4dd2d04f71f34f57b284809506a2e413": {
          "model_module": "@jupyter-widgets/base",
          "model_name": "LayoutModel",
          "model_module_version": "1.2.0",
          "state": {
            "_model_module": "@jupyter-widgets/base",
            "_model_module_version": "1.2.0",
            "_model_name": "LayoutModel",
            "_view_count": null,
            "_view_module": "@jupyter-widgets/base",
            "_view_module_version": "1.2.0",
            "_view_name": "LayoutView",
            "align_content": null,
            "align_items": null,
            "align_self": null,
            "border": null,
            "bottom": null,
            "display": null,
            "flex": null,
            "flex_flow": null,
            "grid_area": null,
            "grid_auto_columns": null,
            "grid_auto_flow": null,
            "grid_auto_rows": null,
            "grid_column": null,
            "grid_gap": null,
            "grid_row": null,
            "grid_template_areas": null,
            "grid_template_columns": null,
            "grid_template_rows": null,
            "height": null,
            "justify_content": null,
            "justify_items": null,
            "left": null,
            "margin": null,
            "max_height": null,
            "max_width": null,
            "min_height": null,
            "min_width": null,
            "object_fit": null,
            "object_position": null,
            "order": null,
            "overflow": null,
            "overflow_x": null,
            "overflow_y": null,
            "padding": null,
            "right": null,
            "top": null,
            "visibility": null,
            "width": null
          }
        },
        "084e3713638a4f868f122df4c77545fb": {
          "model_module": "@jupyter-widgets/base",
          "model_name": "LayoutModel",
          "model_module_version": "1.2.0",
          "state": {
            "_model_module": "@jupyter-widgets/base",
            "_model_module_version": "1.2.0",
            "_model_name": "LayoutModel",
            "_view_count": null,
            "_view_module": "@jupyter-widgets/base",
            "_view_module_version": "1.2.0",
            "_view_name": "LayoutView",
            "align_content": null,
            "align_items": null,
            "align_self": null,
            "border": null,
            "bottom": null,
            "display": null,
            "flex": null,
            "flex_flow": null,
            "grid_area": null,
            "grid_auto_columns": null,
            "grid_auto_flow": null,
            "grid_auto_rows": null,
            "grid_column": null,
            "grid_gap": null,
            "grid_row": null,
            "grid_template_areas": null,
            "grid_template_columns": null,
            "grid_template_rows": null,
            "height": null,
            "justify_content": null,
            "justify_items": null,
            "left": null,
            "margin": null,
            "max_height": null,
            "max_width": null,
            "min_height": null,
            "min_width": null,
            "object_fit": null,
            "object_position": null,
            "order": null,
            "overflow": null,
            "overflow_x": null,
            "overflow_y": null,
            "padding": null,
            "right": null,
            "top": null,
            "visibility": null,
            "width": null
          }
        },
        "1d30353fbfa34cd5b52c822ed45a6ce9": {
          "model_module": "@jupyter-widgets/controls",
          "model_name": "DescriptionStyleModel",
          "model_module_version": "1.5.0",
          "state": {
            "_model_module": "@jupyter-widgets/controls",
            "_model_module_version": "1.5.0",
            "_model_name": "DescriptionStyleModel",
            "_view_count": null,
            "_view_module": "@jupyter-widgets/base",
            "_view_module_version": "1.2.0",
            "_view_name": "StyleView",
            "description_width": ""
          }
        },
        "c3d51c95522b444c87cf1476b808697a": {
          "model_module": "@jupyter-widgets/base",
          "model_name": "LayoutModel",
          "model_module_version": "1.2.0",
          "state": {
            "_model_module": "@jupyter-widgets/base",
            "_model_module_version": "1.2.0",
            "_model_name": "LayoutModel",
            "_view_count": null,
            "_view_module": "@jupyter-widgets/base",
            "_view_module_version": "1.2.0",
            "_view_name": "LayoutView",
            "align_content": null,
            "align_items": null,
            "align_self": null,
            "border": null,
            "bottom": null,
            "display": null,
            "flex": null,
            "flex_flow": null,
            "grid_area": null,
            "grid_auto_columns": null,
            "grid_auto_flow": null,
            "grid_auto_rows": null,
            "grid_column": null,
            "grid_gap": null,
            "grid_row": null,
            "grid_template_areas": null,
            "grid_template_columns": null,
            "grid_template_rows": null,
            "height": null,
            "justify_content": null,
            "justify_items": null,
            "left": null,
            "margin": null,
            "max_height": null,
            "max_width": null,
            "min_height": null,
            "min_width": null,
            "object_fit": null,
            "object_position": null,
            "order": null,
            "overflow": null,
            "overflow_x": null,
            "overflow_y": null,
            "padding": null,
            "right": null,
            "top": null,
            "visibility": null,
            "width": null
          }
        },
        "5687cd89ee184dacaaadadc4cdd32137": {
          "model_module": "@jupyter-widgets/controls",
          "model_name": "ProgressStyleModel",
          "model_module_version": "1.5.0",
          "state": {
            "_model_module": "@jupyter-widgets/controls",
            "_model_module_version": "1.5.0",
            "_model_name": "ProgressStyleModel",
            "_view_count": null,
            "_view_module": "@jupyter-widgets/base",
            "_view_module_version": "1.2.0",
            "_view_name": "StyleView",
            "bar_color": null,
            "description_width": ""
          }
        },
        "f221f1146e8c47bcaa44a27071f67b07": {
          "model_module": "@jupyter-widgets/base",
          "model_name": "LayoutModel",
          "model_module_version": "1.2.0",
          "state": {
            "_model_module": "@jupyter-widgets/base",
            "_model_module_version": "1.2.0",
            "_model_name": "LayoutModel",
            "_view_count": null,
            "_view_module": "@jupyter-widgets/base",
            "_view_module_version": "1.2.0",
            "_view_name": "LayoutView",
            "align_content": null,
            "align_items": null,
            "align_self": null,
            "border": null,
            "bottom": null,
            "display": null,
            "flex": null,
            "flex_flow": null,
            "grid_area": null,
            "grid_auto_columns": null,
            "grid_auto_flow": null,
            "grid_auto_rows": null,
            "grid_column": null,
            "grid_gap": null,
            "grid_row": null,
            "grid_template_areas": null,
            "grid_template_columns": null,
            "grid_template_rows": null,
            "height": null,
            "justify_content": null,
            "justify_items": null,
            "left": null,
            "margin": null,
            "max_height": null,
            "max_width": null,
            "min_height": null,
            "min_width": null,
            "object_fit": null,
            "object_position": null,
            "order": null,
            "overflow": null,
            "overflow_x": null,
            "overflow_y": null,
            "padding": null,
            "right": null,
            "top": null,
            "visibility": null,
            "width": null
          }
        },
        "70ba325191e44173b27fdc35221f982a": {
          "model_module": "@jupyter-widgets/controls",
          "model_name": "DescriptionStyleModel",
          "model_module_version": "1.5.0",
          "state": {
            "_model_module": "@jupyter-widgets/controls",
            "_model_module_version": "1.5.0",
            "_model_name": "DescriptionStyleModel",
            "_view_count": null,
            "_view_module": "@jupyter-widgets/base",
            "_view_module_version": "1.2.0",
            "_view_name": "StyleView",
            "description_width": ""
          }
        },
        "b2ca4aea64664f0f9e86ac7ad8a665d2": {
          "model_module": "@jupyter-widgets/controls",
          "model_name": "HBoxModel",
          "model_module_version": "1.5.0",
          "state": {
            "_dom_classes": [],
            "_model_module": "@jupyter-widgets/controls",
            "_model_module_version": "1.5.0",
            "_model_name": "HBoxModel",
            "_view_count": null,
            "_view_module": "@jupyter-widgets/controls",
            "_view_module_version": "1.5.0",
            "_view_name": "HBoxView",
            "box_style": "",
            "children": [
              "IPY_MODEL_7d054a7e3dca45d983cce7b065a61d22",
              "IPY_MODEL_220ac2be174d4c2eb3935808bdba403e",
              "IPY_MODEL_e3722f1d7d8a4f038ab80a6a537dbca8"
            ],
            "layout": "IPY_MODEL_d479c71b30df470a8023b620766b5cf3"
          }
        },
        "7d054a7e3dca45d983cce7b065a61d22": {
          "model_module": "@jupyter-widgets/controls",
          "model_name": "HTMLModel",
          "model_module_version": "1.5.0",
          "state": {
            "_dom_classes": [],
            "_model_module": "@jupyter-widgets/controls",
            "_model_module_version": "1.5.0",
            "_model_name": "HTMLModel",
            "_view_count": null,
            "_view_module": "@jupyter-widgets/controls",
            "_view_module_version": "1.5.0",
            "_view_name": "HTMLView",
            "description": "",
            "description_tooltip": null,
            "layout": "IPY_MODEL_fab0852d7d5347d885bddcc1e14e2e73",
            "placeholder": "​",
            "style": "IPY_MODEL_4c0c0c8627ac419eb2663dc916356b01",
            "value": "Downloading pytorch_model.bin: 100%"
          }
        },
        "220ac2be174d4c2eb3935808bdba403e": {
          "model_module": "@jupyter-widgets/controls",
          "model_name": "FloatProgressModel",
          "model_module_version": "1.5.0",
          "state": {
            "_dom_classes": [],
            "_model_module": "@jupyter-widgets/controls",
            "_model_module_version": "1.5.0",
            "_model_name": "FloatProgressModel",
            "_view_count": null,
            "_view_module": "@jupyter-widgets/controls",
            "_view_module_version": "1.5.0",
            "_view_name": "ProgressView",
            "bar_style": "success",
            "description": "",
            "description_tooltip": null,
            "layout": "IPY_MODEL_ec3c52d730f64dd4bc0a0fe5662c3203",
            "max": 448356189,
            "min": 0,
            "orientation": "horizontal",
            "style": "IPY_MODEL_cbaf087c18bf42aa8e05b28153d96123",
            "value": 448356189
          }
        },
        "e3722f1d7d8a4f038ab80a6a537dbca8": {
          "model_module": "@jupyter-widgets/controls",
          "model_name": "HTMLModel",
          "model_module_version": "1.5.0",
          "state": {
            "_dom_classes": [],
            "_model_module": "@jupyter-widgets/controls",
            "_model_module_version": "1.5.0",
            "_model_name": "HTMLModel",
            "_view_count": null,
            "_view_module": "@jupyter-widgets/controls",
            "_view_module_version": "1.5.0",
            "_view_name": "HTMLView",
            "description": "",
            "description_tooltip": null,
            "layout": "IPY_MODEL_7068a63fb59c4aeeb4d3348967dc146f",
            "placeholder": "​",
            "style": "IPY_MODEL_673a36ec9e744867a42dad58b84afe8b",
            "value": " 448M/448M [00:01&lt;00:00, 195MB/s]"
          }
        },
        "d479c71b30df470a8023b620766b5cf3": {
          "model_module": "@jupyter-widgets/base",
          "model_name": "LayoutModel",
          "model_module_version": "1.2.0",
          "state": {
            "_model_module": "@jupyter-widgets/base",
            "_model_module_version": "1.2.0",
            "_model_name": "LayoutModel",
            "_view_count": null,
            "_view_module": "@jupyter-widgets/base",
            "_view_module_version": "1.2.0",
            "_view_name": "LayoutView",
            "align_content": null,
            "align_items": null,
            "align_self": null,
            "border": null,
            "bottom": null,
            "display": null,
            "flex": null,
            "flex_flow": null,
            "grid_area": null,
            "grid_auto_columns": null,
            "grid_auto_flow": null,
            "grid_auto_rows": null,
            "grid_column": null,
            "grid_gap": null,
            "grid_row": null,
            "grid_template_areas": null,
            "grid_template_columns": null,
            "grid_template_rows": null,
            "height": null,
            "justify_content": null,
            "justify_items": null,
            "left": null,
            "margin": null,
            "max_height": null,
            "max_width": null,
            "min_height": null,
            "min_width": null,
            "object_fit": null,
            "object_position": null,
            "order": null,
            "overflow": null,
            "overflow_x": null,
            "overflow_y": null,
            "padding": null,
            "right": null,
            "top": null,
            "visibility": null,
            "width": null
          }
        },
        "fab0852d7d5347d885bddcc1e14e2e73": {
          "model_module": "@jupyter-widgets/base",
          "model_name": "LayoutModel",
          "model_module_version": "1.2.0",
          "state": {
            "_model_module": "@jupyter-widgets/base",
            "_model_module_version": "1.2.0",
            "_model_name": "LayoutModel",
            "_view_count": null,
            "_view_module": "@jupyter-widgets/base",
            "_view_module_version": "1.2.0",
            "_view_name": "LayoutView",
            "align_content": null,
            "align_items": null,
            "align_self": null,
            "border": null,
            "bottom": null,
            "display": null,
            "flex": null,
            "flex_flow": null,
            "grid_area": null,
            "grid_auto_columns": null,
            "grid_auto_flow": null,
            "grid_auto_rows": null,
            "grid_column": null,
            "grid_gap": null,
            "grid_row": null,
            "grid_template_areas": null,
            "grid_template_columns": null,
            "grid_template_rows": null,
            "height": null,
            "justify_content": null,
            "justify_items": null,
            "left": null,
            "margin": null,
            "max_height": null,
            "max_width": null,
            "min_height": null,
            "min_width": null,
            "object_fit": null,
            "object_position": null,
            "order": null,
            "overflow": null,
            "overflow_x": null,
            "overflow_y": null,
            "padding": null,
            "right": null,
            "top": null,
            "visibility": null,
            "width": null
          }
        },
        "4c0c0c8627ac419eb2663dc916356b01": {
          "model_module": "@jupyter-widgets/controls",
          "model_name": "DescriptionStyleModel",
          "model_module_version": "1.5.0",
          "state": {
            "_model_module": "@jupyter-widgets/controls",
            "_model_module_version": "1.5.0",
            "_model_name": "DescriptionStyleModel",
            "_view_count": null,
            "_view_module": "@jupyter-widgets/base",
            "_view_module_version": "1.2.0",
            "_view_name": "StyleView",
            "description_width": ""
          }
        },
        "ec3c52d730f64dd4bc0a0fe5662c3203": {
          "model_module": "@jupyter-widgets/base",
          "model_name": "LayoutModel",
          "model_module_version": "1.2.0",
          "state": {
            "_model_module": "@jupyter-widgets/base",
            "_model_module_version": "1.2.0",
            "_model_name": "LayoutModel",
            "_view_count": null,
            "_view_module": "@jupyter-widgets/base",
            "_view_module_version": "1.2.0",
            "_view_name": "LayoutView",
            "align_content": null,
            "align_items": null,
            "align_self": null,
            "border": null,
            "bottom": null,
            "display": null,
            "flex": null,
            "flex_flow": null,
            "grid_area": null,
            "grid_auto_columns": null,
            "grid_auto_flow": null,
            "grid_auto_rows": null,
            "grid_column": null,
            "grid_gap": null,
            "grid_row": null,
            "grid_template_areas": null,
            "grid_template_columns": null,
            "grid_template_rows": null,
            "height": null,
            "justify_content": null,
            "justify_items": null,
            "left": null,
            "margin": null,
            "max_height": null,
            "max_width": null,
            "min_height": null,
            "min_width": null,
            "object_fit": null,
            "object_position": null,
            "order": null,
            "overflow": null,
            "overflow_x": null,
            "overflow_y": null,
            "padding": null,
            "right": null,
            "top": null,
            "visibility": null,
            "width": null
          }
        },
        "cbaf087c18bf42aa8e05b28153d96123": {
          "model_module": "@jupyter-widgets/controls",
          "model_name": "ProgressStyleModel",
          "model_module_version": "1.5.0",
          "state": {
            "_model_module": "@jupyter-widgets/controls",
            "_model_module_version": "1.5.0",
            "_model_name": "ProgressStyleModel",
            "_view_count": null,
            "_view_module": "@jupyter-widgets/base",
            "_view_module_version": "1.2.0",
            "_view_name": "StyleView",
            "bar_color": null,
            "description_width": ""
          }
        },
        "7068a63fb59c4aeeb4d3348967dc146f": {
          "model_module": "@jupyter-widgets/base",
          "model_name": "LayoutModel",
          "model_module_version": "1.2.0",
          "state": {
            "_model_module": "@jupyter-widgets/base",
            "_model_module_version": "1.2.0",
            "_model_name": "LayoutModel",
            "_view_count": null,
            "_view_module": "@jupyter-widgets/base",
            "_view_module_version": "1.2.0",
            "_view_name": "LayoutView",
            "align_content": null,
            "align_items": null,
            "align_self": null,
            "border": null,
            "bottom": null,
            "display": null,
            "flex": null,
            "flex_flow": null,
            "grid_area": null,
            "grid_auto_columns": null,
            "grid_auto_flow": null,
            "grid_auto_rows": null,
            "grid_column": null,
            "grid_gap": null,
            "grid_row": null,
            "grid_template_areas": null,
            "grid_template_columns": null,
            "grid_template_rows": null,
            "height": null,
            "justify_content": null,
            "justify_items": null,
            "left": null,
            "margin": null,
            "max_height": null,
            "max_width": null,
            "min_height": null,
            "min_width": null,
            "object_fit": null,
            "object_position": null,
            "order": null,
            "overflow": null,
            "overflow_x": null,
            "overflow_y": null,
            "padding": null,
            "right": null,
            "top": null,
            "visibility": null,
            "width": null
          }
        },
        "673a36ec9e744867a42dad58b84afe8b": {
          "model_module": "@jupyter-widgets/controls",
          "model_name": "DescriptionStyleModel",
          "model_module_version": "1.5.0",
          "state": {
            "_model_module": "@jupyter-widgets/controls",
            "_model_module_version": "1.5.0",
            "_model_name": "DescriptionStyleModel",
            "_view_count": null,
            "_view_module": "@jupyter-widgets/base",
            "_view_module_version": "1.2.0",
            "_view_name": "StyleView",
            "description_width": ""
          }
        },
        "adb7327ea97e44c882640487b3e0f064": {
          "model_module": "@jupyter-widgets/controls",
          "model_name": "HBoxModel",
          "model_module_version": "1.5.0",
          "state": {
            "_dom_classes": [],
            "_model_module": "@jupyter-widgets/controls",
            "_model_module_version": "1.5.0",
            "_model_name": "HBoxModel",
            "_view_count": null,
            "_view_module": "@jupyter-widgets/controls",
            "_view_module_version": "1.5.0",
            "_view_name": "HBoxView",
            "box_style": "",
            "children": [
              "IPY_MODEL_3399b74b3f8a460bb39b540f940b748f",
              "IPY_MODEL_85211ac190c34b1d81ee97a55cae1ff2",
              "IPY_MODEL_b43020b5d3634d4d9599dbae9b8b7008"
            ],
            "layout": "IPY_MODEL_34948469de484ca1a1a986429a3eccf6"
          }
        },
        "3399b74b3f8a460bb39b540f940b748f": {
          "model_module": "@jupyter-widgets/controls",
          "model_name": "HTMLModel",
          "model_module_version": "1.5.0",
          "state": {
            "_dom_classes": [],
            "_model_module": "@jupyter-widgets/controls",
            "_model_module_version": "1.5.0",
            "_model_name": "HTMLModel",
            "_view_count": null,
            "_view_module": "@jupyter-widgets/controls",
            "_view_module_version": "1.5.0",
            "_view_name": "HTMLView",
            "description": "",
            "description_tooltip": null,
            "layout": "IPY_MODEL_380e05c903d24ea9ad71ba85bc7d7669",
            "placeholder": "​",
            "style": "IPY_MODEL_bfc0add09a1f4a43863025042d2b2baf",
            "value": "Downloading (…)solve/main/vocab.txt: 100%"
          }
        },
        "85211ac190c34b1d81ee97a55cae1ff2": {
          "model_module": "@jupyter-widgets/controls",
          "model_name": "FloatProgressModel",
          "model_module_version": "1.5.0",
          "state": {
            "_dom_classes": [],
            "_model_module": "@jupyter-widgets/controls",
            "_model_module_version": "1.5.0",
            "_model_name": "FloatProgressModel",
            "_view_count": null,
            "_view_module": "@jupyter-widgets/controls",
            "_view_module_version": "1.5.0",
            "_view_name": "ProgressView",
            "bar_style": "success",
            "description": "",
            "description_tooltip": null,
            "layout": "IPY_MODEL_52d59e55965745f5b87d832d4fd6a9d4",
            "max": 231508,
            "min": 0,
            "orientation": "horizontal",
            "style": "IPY_MODEL_d12de615dc244c73a50fc8e622ce0e4d",
            "value": 231508
          }
        },
        "b43020b5d3634d4d9599dbae9b8b7008": {
          "model_module": "@jupyter-widgets/controls",
          "model_name": "HTMLModel",
          "model_module_version": "1.5.0",
          "state": {
            "_dom_classes": [],
            "_model_module": "@jupyter-widgets/controls",
            "_model_module_version": "1.5.0",
            "_model_name": "HTMLModel",
            "_view_count": null,
            "_view_module": "@jupyter-widgets/controls",
            "_view_module_version": "1.5.0",
            "_view_name": "HTMLView",
            "description": "",
            "description_tooltip": null,
            "layout": "IPY_MODEL_9b0f98970c694344a4c3b16f0ce8f56d",
            "placeholder": "​",
            "style": "IPY_MODEL_58de1e05a0b64ba590e44e3f8f7cfa48",
            "value": " 232k/232k [00:00&lt;00:00, 2.88MB/s]"
          }
        },
        "34948469de484ca1a1a986429a3eccf6": {
          "model_module": "@jupyter-widgets/base",
          "model_name": "LayoutModel",
          "model_module_version": "1.2.0",
          "state": {
            "_model_module": "@jupyter-widgets/base",
            "_model_module_version": "1.2.0",
            "_model_name": "LayoutModel",
            "_view_count": null,
            "_view_module": "@jupyter-widgets/base",
            "_view_module_version": "1.2.0",
            "_view_name": "LayoutView",
            "align_content": null,
            "align_items": null,
            "align_self": null,
            "border": null,
            "bottom": null,
            "display": null,
            "flex": null,
            "flex_flow": null,
            "grid_area": null,
            "grid_auto_columns": null,
            "grid_auto_flow": null,
            "grid_auto_rows": null,
            "grid_column": null,
            "grid_gap": null,
            "grid_row": null,
            "grid_template_areas": null,
            "grid_template_columns": null,
            "grid_template_rows": null,
            "height": null,
            "justify_content": null,
            "justify_items": null,
            "left": null,
            "margin": null,
            "max_height": null,
            "max_width": null,
            "min_height": null,
            "min_width": null,
            "object_fit": null,
            "object_position": null,
            "order": null,
            "overflow": null,
            "overflow_x": null,
            "overflow_y": null,
            "padding": null,
            "right": null,
            "top": null,
            "visibility": null,
            "width": null
          }
        },
        "380e05c903d24ea9ad71ba85bc7d7669": {
          "model_module": "@jupyter-widgets/base",
          "model_name": "LayoutModel",
          "model_module_version": "1.2.0",
          "state": {
            "_model_module": "@jupyter-widgets/base",
            "_model_module_version": "1.2.0",
            "_model_name": "LayoutModel",
            "_view_count": null,
            "_view_module": "@jupyter-widgets/base",
            "_view_module_version": "1.2.0",
            "_view_name": "LayoutView",
            "align_content": null,
            "align_items": null,
            "align_self": null,
            "border": null,
            "bottom": null,
            "display": null,
            "flex": null,
            "flex_flow": null,
            "grid_area": null,
            "grid_auto_columns": null,
            "grid_auto_flow": null,
            "grid_auto_rows": null,
            "grid_column": null,
            "grid_gap": null,
            "grid_row": null,
            "grid_template_areas": null,
            "grid_template_columns": null,
            "grid_template_rows": null,
            "height": null,
            "justify_content": null,
            "justify_items": null,
            "left": null,
            "margin": null,
            "max_height": null,
            "max_width": null,
            "min_height": null,
            "min_width": null,
            "object_fit": null,
            "object_position": null,
            "order": null,
            "overflow": null,
            "overflow_x": null,
            "overflow_y": null,
            "padding": null,
            "right": null,
            "top": null,
            "visibility": null,
            "width": null
          }
        },
        "bfc0add09a1f4a43863025042d2b2baf": {
          "model_module": "@jupyter-widgets/controls",
          "model_name": "DescriptionStyleModel",
          "model_module_version": "1.5.0",
          "state": {
            "_model_module": "@jupyter-widgets/controls",
            "_model_module_version": "1.5.0",
            "_model_name": "DescriptionStyleModel",
            "_view_count": null,
            "_view_module": "@jupyter-widgets/base",
            "_view_module_version": "1.2.0",
            "_view_name": "StyleView",
            "description_width": ""
          }
        },
        "52d59e55965745f5b87d832d4fd6a9d4": {
          "model_module": "@jupyter-widgets/base",
          "model_name": "LayoutModel",
          "model_module_version": "1.2.0",
          "state": {
            "_model_module": "@jupyter-widgets/base",
            "_model_module_version": "1.2.0",
            "_model_name": "LayoutModel",
            "_view_count": null,
            "_view_module": "@jupyter-widgets/base",
            "_view_module_version": "1.2.0",
            "_view_name": "LayoutView",
            "align_content": null,
            "align_items": null,
            "align_self": null,
            "border": null,
            "bottom": null,
            "display": null,
            "flex": null,
            "flex_flow": null,
            "grid_area": null,
            "grid_auto_columns": null,
            "grid_auto_flow": null,
            "grid_auto_rows": null,
            "grid_column": null,
            "grid_gap": null,
            "grid_row": null,
            "grid_template_areas": null,
            "grid_template_columns": null,
            "grid_template_rows": null,
            "height": null,
            "justify_content": null,
            "justify_items": null,
            "left": null,
            "margin": null,
            "max_height": null,
            "max_width": null,
            "min_height": null,
            "min_width": null,
            "object_fit": null,
            "object_position": null,
            "order": null,
            "overflow": null,
            "overflow_x": null,
            "overflow_y": null,
            "padding": null,
            "right": null,
            "top": null,
            "visibility": null,
            "width": null
          }
        },
        "d12de615dc244c73a50fc8e622ce0e4d": {
          "model_module": "@jupyter-widgets/controls",
          "model_name": "ProgressStyleModel",
          "model_module_version": "1.5.0",
          "state": {
            "_model_module": "@jupyter-widgets/controls",
            "_model_module_version": "1.5.0",
            "_model_name": "ProgressStyleModel",
            "_view_count": null,
            "_view_module": "@jupyter-widgets/base",
            "_view_module_version": "1.2.0",
            "_view_name": "StyleView",
            "bar_color": null,
            "description_width": ""
          }
        },
        "9b0f98970c694344a4c3b16f0ce8f56d": {
          "model_module": "@jupyter-widgets/base",
          "model_name": "LayoutModel",
          "model_module_version": "1.2.0",
          "state": {
            "_model_module": "@jupyter-widgets/base",
            "_model_module_version": "1.2.0",
            "_model_name": "LayoutModel",
            "_view_count": null,
            "_view_module": "@jupyter-widgets/base",
            "_view_module_version": "1.2.0",
            "_view_name": "LayoutView",
            "align_content": null,
            "align_items": null,
            "align_self": null,
            "border": null,
            "bottom": null,
            "display": null,
            "flex": null,
            "flex_flow": null,
            "grid_area": null,
            "grid_auto_columns": null,
            "grid_auto_flow": null,
            "grid_auto_rows": null,
            "grid_column": null,
            "grid_gap": null,
            "grid_row": null,
            "grid_template_areas": null,
            "grid_template_columns": null,
            "grid_template_rows": null,
            "height": null,
            "justify_content": null,
            "justify_items": null,
            "left": null,
            "margin": null,
            "max_height": null,
            "max_width": null,
            "min_height": null,
            "min_width": null,
            "object_fit": null,
            "object_position": null,
            "order": null,
            "overflow": null,
            "overflow_x": null,
            "overflow_y": null,
            "padding": null,
            "right": null,
            "top": null,
            "visibility": null,
            "width": null
          }
        },
        "58de1e05a0b64ba590e44e3f8f7cfa48": {
          "model_module": "@jupyter-widgets/controls",
          "model_name": "DescriptionStyleModel",
          "model_module_version": "1.5.0",
          "state": {
            "_model_module": "@jupyter-widgets/controls",
            "_model_module_version": "1.5.0",
            "_model_name": "DescriptionStyleModel",
            "_view_count": null,
            "_view_module": "@jupyter-widgets/base",
            "_view_module_version": "1.2.0",
            "_view_name": "StyleView",
            "description_width": ""
          }
        },
        "70f2a93a43384863ae73aa9fd30b1412": {
          "model_module": "@jupyter-widgets/controls",
          "model_name": "HBoxModel",
          "model_module_version": "1.5.0",
          "state": {
            "_dom_classes": [],
            "_model_module": "@jupyter-widgets/controls",
            "_model_module_version": "1.5.0",
            "_model_name": "HBoxModel",
            "_view_count": null,
            "_view_module": "@jupyter-widgets/controls",
            "_view_module_version": "1.5.0",
            "_view_name": "HBoxView",
            "box_style": "",
            "children": [
              "IPY_MODEL_5a93ce0210634a11ab0c56753a84f794",
              "IPY_MODEL_eb0a1bc6d9814f7993230ce908876f14",
              "IPY_MODEL_46bea1e8ecb545ff99cd2cc225c47647"
            ],
            "layout": "IPY_MODEL_2cefa06a8ef0410ebafe443d64e959c0"
          }
        },
        "5a93ce0210634a11ab0c56753a84f794": {
          "model_module": "@jupyter-widgets/controls",
          "model_name": "HTMLModel",
          "model_module_version": "1.5.0",
          "state": {
            "_dom_classes": [],
            "_model_module": "@jupyter-widgets/controls",
            "_model_module_version": "1.5.0",
            "_model_name": "HTMLModel",
            "_view_count": null,
            "_view_module": "@jupyter-widgets/controls",
            "_view_module_version": "1.5.0",
            "_view_name": "HTMLView",
            "description": "",
            "description_tooltip": null,
            "layout": "IPY_MODEL_6cdd3d5e02d7405ab59ca831f96e074b",
            "placeholder": "​",
            "style": "IPY_MODEL_1b5ffac4e2f740d781f5b0c57957c85b",
            "value": "Downloading (…)okenizer_config.json: 100%"
          }
        },
        "eb0a1bc6d9814f7993230ce908876f14": {
          "model_module": "@jupyter-widgets/controls",
          "model_name": "FloatProgressModel",
          "model_module_version": "1.5.0",
          "state": {
            "_dom_classes": [],
            "_model_module": "@jupyter-widgets/controls",
            "_model_module_version": "1.5.0",
            "_model_name": "FloatProgressModel",
            "_view_count": null,
            "_view_module": "@jupyter-widgets/controls",
            "_view_module_version": "1.5.0",
            "_view_name": "ProgressView",
            "bar_style": "success",
            "description": "",
            "description_tooltip": null,
            "layout": "IPY_MODEL_e5b299cc679d4f058c462d81aacc0a85",
            "max": 28,
            "min": 0,
            "orientation": "horizontal",
            "style": "IPY_MODEL_74c3b15e928e4036883d8c2832c43104",
            "value": 28
          }
        },
        "46bea1e8ecb545ff99cd2cc225c47647": {
          "model_module": "@jupyter-widgets/controls",
          "model_name": "HTMLModel",
          "model_module_version": "1.5.0",
          "state": {
            "_dom_classes": [],
            "_model_module": "@jupyter-widgets/controls",
            "_model_module_version": "1.5.0",
            "_model_name": "HTMLModel",
            "_view_count": null,
            "_view_module": "@jupyter-widgets/controls",
            "_view_module_version": "1.5.0",
            "_view_name": "HTMLView",
            "description": "",
            "description_tooltip": null,
            "layout": "IPY_MODEL_474bf4cd304746c786c32d57872cb74d",
            "placeholder": "​",
            "style": "IPY_MODEL_7e3a88e1ee5a44a896e7d8bb6638e49a",
            "value": " 28.0/28.0 [00:00&lt;00:00, 1.91kB/s]"
          }
        },
        "2cefa06a8ef0410ebafe443d64e959c0": {
          "model_module": "@jupyter-widgets/base",
          "model_name": "LayoutModel",
          "model_module_version": "1.2.0",
          "state": {
            "_model_module": "@jupyter-widgets/base",
            "_model_module_version": "1.2.0",
            "_model_name": "LayoutModel",
            "_view_count": null,
            "_view_module": "@jupyter-widgets/base",
            "_view_module_version": "1.2.0",
            "_view_name": "LayoutView",
            "align_content": null,
            "align_items": null,
            "align_self": null,
            "border": null,
            "bottom": null,
            "display": null,
            "flex": null,
            "flex_flow": null,
            "grid_area": null,
            "grid_auto_columns": null,
            "grid_auto_flow": null,
            "grid_auto_rows": null,
            "grid_column": null,
            "grid_gap": null,
            "grid_row": null,
            "grid_template_areas": null,
            "grid_template_columns": null,
            "grid_template_rows": null,
            "height": null,
            "justify_content": null,
            "justify_items": null,
            "left": null,
            "margin": null,
            "max_height": null,
            "max_width": null,
            "min_height": null,
            "min_width": null,
            "object_fit": null,
            "object_position": null,
            "order": null,
            "overflow": null,
            "overflow_x": null,
            "overflow_y": null,
            "padding": null,
            "right": null,
            "top": null,
            "visibility": null,
            "width": null
          }
        },
        "6cdd3d5e02d7405ab59ca831f96e074b": {
          "model_module": "@jupyter-widgets/base",
          "model_name": "LayoutModel",
          "model_module_version": "1.2.0",
          "state": {
            "_model_module": "@jupyter-widgets/base",
            "_model_module_version": "1.2.0",
            "_model_name": "LayoutModel",
            "_view_count": null,
            "_view_module": "@jupyter-widgets/base",
            "_view_module_version": "1.2.0",
            "_view_name": "LayoutView",
            "align_content": null,
            "align_items": null,
            "align_self": null,
            "border": null,
            "bottom": null,
            "display": null,
            "flex": null,
            "flex_flow": null,
            "grid_area": null,
            "grid_auto_columns": null,
            "grid_auto_flow": null,
            "grid_auto_rows": null,
            "grid_column": null,
            "grid_gap": null,
            "grid_row": null,
            "grid_template_areas": null,
            "grid_template_columns": null,
            "grid_template_rows": null,
            "height": null,
            "justify_content": null,
            "justify_items": null,
            "left": null,
            "margin": null,
            "max_height": null,
            "max_width": null,
            "min_height": null,
            "min_width": null,
            "object_fit": null,
            "object_position": null,
            "order": null,
            "overflow": null,
            "overflow_x": null,
            "overflow_y": null,
            "padding": null,
            "right": null,
            "top": null,
            "visibility": null,
            "width": null
          }
        },
        "1b5ffac4e2f740d781f5b0c57957c85b": {
          "model_module": "@jupyter-widgets/controls",
          "model_name": "DescriptionStyleModel",
          "model_module_version": "1.5.0",
          "state": {
            "_model_module": "@jupyter-widgets/controls",
            "_model_module_version": "1.5.0",
            "_model_name": "DescriptionStyleModel",
            "_view_count": null,
            "_view_module": "@jupyter-widgets/base",
            "_view_module_version": "1.2.0",
            "_view_name": "StyleView",
            "description_width": ""
          }
        },
        "e5b299cc679d4f058c462d81aacc0a85": {
          "model_module": "@jupyter-widgets/base",
          "model_name": "LayoutModel",
          "model_module_version": "1.2.0",
          "state": {
            "_model_module": "@jupyter-widgets/base",
            "_model_module_version": "1.2.0",
            "_model_name": "LayoutModel",
            "_view_count": null,
            "_view_module": "@jupyter-widgets/base",
            "_view_module_version": "1.2.0",
            "_view_name": "LayoutView",
            "align_content": null,
            "align_items": null,
            "align_self": null,
            "border": null,
            "bottom": null,
            "display": null,
            "flex": null,
            "flex_flow": null,
            "grid_area": null,
            "grid_auto_columns": null,
            "grid_auto_flow": null,
            "grid_auto_rows": null,
            "grid_column": null,
            "grid_gap": null,
            "grid_row": null,
            "grid_template_areas": null,
            "grid_template_columns": null,
            "grid_template_rows": null,
            "height": null,
            "justify_content": null,
            "justify_items": null,
            "left": null,
            "margin": null,
            "max_height": null,
            "max_width": null,
            "min_height": null,
            "min_width": null,
            "object_fit": null,
            "object_position": null,
            "order": null,
            "overflow": null,
            "overflow_x": null,
            "overflow_y": null,
            "padding": null,
            "right": null,
            "top": null,
            "visibility": null,
            "width": null
          }
        },
        "74c3b15e928e4036883d8c2832c43104": {
          "model_module": "@jupyter-widgets/controls",
          "model_name": "ProgressStyleModel",
          "model_module_version": "1.5.0",
          "state": {
            "_model_module": "@jupyter-widgets/controls",
            "_model_module_version": "1.5.0",
            "_model_name": "ProgressStyleModel",
            "_view_count": null,
            "_view_module": "@jupyter-widgets/base",
            "_view_module_version": "1.2.0",
            "_view_name": "StyleView",
            "bar_color": null,
            "description_width": ""
          }
        },
        "474bf4cd304746c786c32d57872cb74d": {
          "model_module": "@jupyter-widgets/base",
          "model_name": "LayoutModel",
          "model_module_version": "1.2.0",
          "state": {
            "_model_module": "@jupyter-widgets/base",
            "_model_module_version": "1.2.0",
            "_model_name": "LayoutModel",
            "_view_count": null,
            "_view_module": "@jupyter-widgets/base",
            "_view_module_version": "1.2.0",
            "_view_name": "LayoutView",
            "align_content": null,
            "align_items": null,
            "align_self": null,
            "border": null,
            "bottom": null,
            "display": null,
            "flex": null,
            "flex_flow": null,
            "grid_area": null,
            "grid_auto_columns": null,
            "grid_auto_flow": null,
            "grid_auto_rows": null,
            "grid_column": null,
            "grid_gap": null,
            "grid_row": null,
            "grid_template_areas": null,
            "grid_template_columns": null,
            "grid_template_rows": null,
            "height": null,
            "justify_content": null,
            "justify_items": null,
            "left": null,
            "margin": null,
            "max_height": null,
            "max_width": null,
            "min_height": null,
            "min_width": null,
            "object_fit": null,
            "object_position": null,
            "order": null,
            "overflow": null,
            "overflow_x": null,
            "overflow_y": null,
            "padding": null,
            "right": null,
            "top": null,
            "visibility": null,
            "width": null
          }
        },
        "7e3a88e1ee5a44a896e7d8bb6638e49a": {
          "model_module": "@jupyter-widgets/controls",
          "model_name": "DescriptionStyleModel",
          "model_module_version": "1.5.0",
          "state": {
            "_model_module": "@jupyter-widgets/controls",
            "_model_module_version": "1.5.0",
            "_model_name": "DescriptionStyleModel",
            "_view_count": null,
            "_view_module": "@jupyter-widgets/base",
            "_view_module_version": "1.2.0",
            "_view_name": "StyleView",
            "description_width": ""
          }
        },
        "ec9c298fe55341f7b405c63d4443086b": {
          "model_module": "@jupyter-widgets/controls",
          "model_name": "HBoxModel",
          "model_module_version": "1.5.0",
          "state": {
            "_dom_classes": [],
            "_model_module": "@jupyter-widgets/controls",
            "_model_module_version": "1.5.0",
            "_model_name": "HBoxModel",
            "_view_count": null,
            "_view_module": "@jupyter-widgets/controls",
            "_view_module_version": "1.5.0",
            "_view_name": "HBoxView",
            "box_style": "",
            "children": [
              "IPY_MODEL_5d51aecfffaa4bafaba22f3914769165",
              "IPY_MODEL_6f67c75ab7c043cb8edc4a621e40864f",
              "IPY_MODEL_8a21875a044144a4843249bcab2f2346"
            ],
            "layout": "IPY_MODEL_091e06bfce934c2f8349209ff51018ea"
          }
        },
        "5d51aecfffaa4bafaba22f3914769165": {
          "model_module": "@jupyter-widgets/controls",
          "model_name": "HTMLModel",
          "model_module_version": "1.5.0",
          "state": {
            "_dom_classes": [],
            "_model_module": "@jupyter-widgets/controls",
            "_model_module_version": "1.5.0",
            "_model_name": "HTMLModel",
            "_view_count": null,
            "_view_module": "@jupyter-widgets/controls",
            "_view_module_version": "1.5.0",
            "_view_name": "HTMLView",
            "description": "",
            "description_tooltip": null,
            "layout": "IPY_MODEL_f30d1b9bd2a14e309924462d46c9f232",
            "placeholder": "​",
            "style": "IPY_MODEL_4f9d0c68fdb249b286413c3d12be5911",
            "value": "Downloading (…)lve/main/config.json: 100%"
          }
        },
        "6f67c75ab7c043cb8edc4a621e40864f": {
          "model_module": "@jupyter-widgets/controls",
          "model_name": "FloatProgressModel",
          "model_module_version": "1.5.0",
          "state": {
            "_dom_classes": [],
            "_model_module": "@jupyter-widgets/controls",
            "_model_module_version": "1.5.0",
            "_model_name": "FloatProgressModel",
            "_view_count": null,
            "_view_module": "@jupyter-widgets/controls",
            "_view_module_version": "1.5.0",
            "_view_name": "ProgressView",
            "bar_style": "success",
            "description": "",
            "description_tooltip": null,
            "layout": "IPY_MODEL_0da6355f5d2a4859944a7b790c7e5664",
            "max": 570,
            "min": 0,
            "orientation": "horizontal",
            "style": "IPY_MODEL_eb7254a54e8a4f1dbc3c5432b5101e65",
            "value": 570
          }
        },
        "8a21875a044144a4843249bcab2f2346": {
          "model_module": "@jupyter-widgets/controls",
          "model_name": "HTMLModel",
          "model_module_version": "1.5.0",
          "state": {
            "_dom_classes": [],
            "_model_module": "@jupyter-widgets/controls",
            "_model_module_version": "1.5.0",
            "_model_name": "HTMLModel",
            "_view_count": null,
            "_view_module": "@jupyter-widgets/controls",
            "_view_module_version": "1.5.0",
            "_view_name": "HTMLView",
            "description": "",
            "description_tooltip": null,
            "layout": "IPY_MODEL_e51e8e69e6114fe985b8772cb2489601",
            "placeholder": "​",
            "style": "IPY_MODEL_616aa880b82d4b568448b8ddd587eb40",
            "value": " 570/570 [00:00&lt;00:00, 31.8kB/s]"
          }
        },
        "091e06bfce934c2f8349209ff51018ea": {
          "model_module": "@jupyter-widgets/base",
          "model_name": "LayoutModel",
          "model_module_version": "1.2.0",
          "state": {
            "_model_module": "@jupyter-widgets/base",
            "_model_module_version": "1.2.0",
            "_model_name": "LayoutModel",
            "_view_count": null,
            "_view_module": "@jupyter-widgets/base",
            "_view_module_version": "1.2.0",
            "_view_name": "LayoutView",
            "align_content": null,
            "align_items": null,
            "align_self": null,
            "border": null,
            "bottom": null,
            "display": null,
            "flex": null,
            "flex_flow": null,
            "grid_area": null,
            "grid_auto_columns": null,
            "grid_auto_flow": null,
            "grid_auto_rows": null,
            "grid_column": null,
            "grid_gap": null,
            "grid_row": null,
            "grid_template_areas": null,
            "grid_template_columns": null,
            "grid_template_rows": null,
            "height": null,
            "justify_content": null,
            "justify_items": null,
            "left": null,
            "margin": null,
            "max_height": null,
            "max_width": null,
            "min_height": null,
            "min_width": null,
            "object_fit": null,
            "object_position": null,
            "order": null,
            "overflow": null,
            "overflow_x": null,
            "overflow_y": null,
            "padding": null,
            "right": null,
            "top": null,
            "visibility": null,
            "width": null
          }
        },
        "f30d1b9bd2a14e309924462d46c9f232": {
          "model_module": "@jupyter-widgets/base",
          "model_name": "LayoutModel",
          "model_module_version": "1.2.0",
          "state": {
            "_model_module": "@jupyter-widgets/base",
            "_model_module_version": "1.2.0",
            "_model_name": "LayoutModel",
            "_view_count": null,
            "_view_module": "@jupyter-widgets/base",
            "_view_module_version": "1.2.0",
            "_view_name": "LayoutView",
            "align_content": null,
            "align_items": null,
            "align_self": null,
            "border": null,
            "bottom": null,
            "display": null,
            "flex": null,
            "flex_flow": null,
            "grid_area": null,
            "grid_auto_columns": null,
            "grid_auto_flow": null,
            "grid_auto_rows": null,
            "grid_column": null,
            "grid_gap": null,
            "grid_row": null,
            "grid_template_areas": null,
            "grid_template_columns": null,
            "grid_template_rows": null,
            "height": null,
            "justify_content": null,
            "justify_items": null,
            "left": null,
            "margin": null,
            "max_height": null,
            "max_width": null,
            "min_height": null,
            "min_width": null,
            "object_fit": null,
            "object_position": null,
            "order": null,
            "overflow": null,
            "overflow_x": null,
            "overflow_y": null,
            "padding": null,
            "right": null,
            "top": null,
            "visibility": null,
            "width": null
          }
        },
        "4f9d0c68fdb249b286413c3d12be5911": {
          "model_module": "@jupyter-widgets/controls",
          "model_name": "DescriptionStyleModel",
          "model_module_version": "1.5.0",
          "state": {
            "_model_module": "@jupyter-widgets/controls",
            "_model_module_version": "1.5.0",
            "_model_name": "DescriptionStyleModel",
            "_view_count": null,
            "_view_module": "@jupyter-widgets/base",
            "_view_module_version": "1.2.0",
            "_view_name": "StyleView",
            "description_width": ""
          }
        },
        "0da6355f5d2a4859944a7b790c7e5664": {
          "model_module": "@jupyter-widgets/base",
          "model_name": "LayoutModel",
          "model_module_version": "1.2.0",
          "state": {
            "_model_module": "@jupyter-widgets/base",
            "_model_module_version": "1.2.0",
            "_model_name": "LayoutModel",
            "_view_count": null,
            "_view_module": "@jupyter-widgets/base",
            "_view_module_version": "1.2.0",
            "_view_name": "LayoutView",
            "align_content": null,
            "align_items": null,
            "align_self": null,
            "border": null,
            "bottom": null,
            "display": null,
            "flex": null,
            "flex_flow": null,
            "grid_area": null,
            "grid_auto_columns": null,
            "grid_auto_flow": null,
            "grid_auto_rows": null,
            "grid_column": null,
            "grid_gap": null,
            "grid_row": null,
            "grid_template_areas": null,
            "grid_template_columns": null,
            "grid_template_rows": null,
            "height": null,
            "justify_content": null,
            "justify_items": null,
            "left": null,
            "margin": null,
            "max_height": null,
            "max_width": null,
            "min_height": null,
            "min_width": null,
            "object_fit": null,
            "object_position": null,
            "order": null,
            "overflow": null,
            "overflow_x": null,
            "overflow_y": null,
            "padding": null,
            "right": null,
            "top": null,
            "visibility": null,
            "width": null
          }
        },
        "eb7254a54e8a4f1dbc3c5432b5101e65": {
          "model_module": "@jupyter-widgets/controls",
          "model_name": "ProgressStyleModel",
          "model_module_version": "1.5.0",
          "state": {
            "_model_module": "@jupyter-widgets/controls",
            "_model_module_version": "1.5.0",
            "_model_name": "ProgressStyleModel",
            "_view_count": null,
            "_view_module": "@jupyter-widgets/base",
            "_view_module_version": "1.2.0",
            "_view_name": "StyleView",
            "bar_color": null,
            "description_width": ""
          }
        },
        "e51e8e69e6114fe985b8772cb2489601": {
          "model_module": "@jupyter-widgets/base",
          "model_name": "LayoutModel",
          "model_module_version": "1.2.0",
          "state": {
            "_model_module": "@jupyter-widgets/base",
            "_model_module_version": "1.2.0",
            "_model_name": "LayoutModel",
            "_view_count": null,
            "_view_module": "@jupyter-widgets/base",
            "_view_module_version": "1.2.0",
            "_view_name": "LayoutView",
            "align_content": null,
            "align_items": null,
            "align_self": null,
            "border": null,
            "bottom": null,
            "display": null,
            "flex": null,
            "flex_flow": null,
            "grid_area": null,
            "grid_auto_columns": null,
            "grid_auto_flow": null,
            "grid_auto_rows": null,
            "grid_column": null,
            "grid_gap": null,
            "grid_row": null,
            "grid_template_areas": null,
            "grid_template_columns": null,
            "grid_template_rows": null,
            "height": null,
            "justify_content": null,
            "justify_items": null,
            "left": null,
            "margin": null,
            "max_height": null,
            "max_width": null,
            "min_height": null,
            "min_width": null,
            "object_fit": null,
            "object_position": null,
            "order": null,
            "overflow": null,
            "overflow_x": null,
            "overflow_y": null,
            "padding": null,
            "right": null,
            "top": null,
            "visibility": null,
            "width": null
          }
        },
        "616aa880b82d4b568448b8ddd587eb40": {
          "model_module": "@jupyter-widgets/controls",
          "model_name": "DescriptionStyleModel",
          "model_module_version": "1.5.0",
          "state": {
            "_model_module": "@jupyter-widgets/controls",
            "_model_module_version": "1.5.0",
            "_model_name": "DescriptionStyleModel",
            "_view_count": null,
            "_view_module": "@jupyter-widgets/base",
            "_view_module_version": "1.2.0",
            "_view_name": "StyleView",
            "description_width": ""
          }
        },
        "e5ed01c6ef9c49aca9078bf0b5a0ada3": {
          "model_module": "@jupyter-widgets/controls",
          "model_name": "HBoxModel",
          "model_module_version": "1.5.0",
          "state": {
            "_dom_classes": [],
            "_model_module": "@jupyter-widgets/controls",
            "_model_module_version": "1.5.0",
            "_model_name": "HBoxModel",
            "_view_count": null,
            "_view_module": "@jupyter-widgets/controls",
            "_view_module_version": "1.5.0",
            "_view_name": "HBoxView",
            "box_style": "",
            "children": [
              "IPY_MODEL_02c4d145db004287b689b483a3ffbcff",
              "IPY_MODEL_a581dcee9ee94916893dbf7a170c338c",
              "IPY_MODEL_a2fefd5e942f47a6a741bc626b70fe6d"
            ],
            "layout": "IPY_MODEL_7f1e406904b3451d9e4638f98b44ca00"
          }
        },
        "02c4d145db004287b689b483a3ffbcff": {
          "model_module": "@jupyter-widgets/controls",
          "model_name": "HTMLModel",
          "model_module_version": "1.5.0",
          "state": {
            "_dom_classes": [],
            "_model_module": "@jupyter-widgets/controls",
            "_model_module_version": "1.5.0",
            "_model_name": "HTMLModel",
            "_view_count": null,
            "_view_module": "@jupyter-widgets/controls",
            "_view_module_version": "1.5.0",
            "_view_name": "HTMLView",
            "description": "",
            "description_tooltip": null,
            "layout": "IPY_MODEL_d96436d8fc7941fa95cff8ffc2d50289",
            "placeholder": "​",
            "style": "IPY_MODEL_00bf297018544f3fa36cf0da56e88b83",
            "value": "Downloading model.safetensors: 100%"
          }
        },
        "a581dcee9ee94916893dbf7a170c338c": {
          "model_module": "@jupyter-widgets/controls",
          "model_name": "FloatProgressModel",
          "model_module_version": "1.5.0",
          "state": {
            "_dom_classes": [],
            "_model_module": "@jupyter-widgets/controls",
            "_model_module_version": "1.5.0",
            "_model_name": "FloatProgressModel",
            "_view_count": null,
            "_view_module": "@jupyter-widgets/controls",
            "_view_module_version": "1.5.0",
            "_view_name": "ProgressView",
            "bar_style": "success",
            "description": "",
            "description_tooltip": null,
            "layout": "IPY_MODEL_f55318bd1dd745819f5ba258536618df",
            "max": 440449768,
            "min": 0,
            "orientation": "horizontal",
            "style": "IPY_MODEL_79eedfff6ab24826ad27dddb0b6ae7d6",
            "value": 440449768
          }
        },
        "a2fefd5e942f47a6a741bc626b70fe6d": {
          "model_module": "@jupyter-widgets/controls",
          "model_name": "HTMLModel",
          "model_module_version": "1.5.0",
          "state": {
            "_dom_classes": [],
            "_model_module": "@jupyter-widgets/controls",
            "_model_module_version": "1.5.0",
            "_model_name": "HTMLModel",
            "_view_count": null,
            "_view_module": "@jupyter-widgets/controls",
            "_view_module_version": "1.5.0",
            "_view_name": "HTMLView",
            "description": "",
            "description_tooltip": null,
            "layout": "IPY_MODEL_6dd4503fa1184dc6b893d0f8df5e1b62",
            "placeholder": "​",
            "style": "IPY_MODEL_be378694c450485f8b8107b158d00953",
            "value": " 440M/440M [00:01&lt;00:00, 341MB/s]"
          }
        },
        "7f1e406904b3451d9e4638f98b44ca00": {
          "model_module": "@jupyter-widgets/base",
          "model_name": "LayoutModel",
          "model_module_version": "1.2.0",
          "state": {
            "_model_module": "@jupyter-widgets/base",
            "_model_module_version": "1.2.0",
            "_model_name": "LayoutModel",
            "_view_count": null,
            "_view_module": "@jupyter-widgets/base",
            "_view_module_version": "1.2.0",
            "_view_name": "LayoutView",
            "align_content": null,
            "align_items": null,
            "align_self": null,
            "border": null,
            "bottom": null,
            "display": null,
            "flex": null,
            "flex_flow": null,
            "grid_area": null,
            "grid_auto_columns": null,
            "grid_auto_flow": null,
            "grid_auto_rows": null,
            "grid_column": null,
            "grid_gap": null,
            "grid_row": null,
            "grid_template_areas": null,
            "grid_template_columns": null,
            "grid_template_rows": null,
            "height": null,
            "justify_content": null,
            "justify_items": null,
            "left": null,
            "margin": null,
            "max_height": null,
            "max_width": null,
            "min_height": null,
            "min_width": null,
            "object_fit": null,
            "object_position": null,
            "order": null,
            "overflow": null,
            "overflow_x": null,
            "overflow_y": null,
            "padding": null,
            "right": null,
            "top": null,
            "visibility": null,
            "width": null
          }
        },
        "d96436d8fc7941fa95cff8ffc2d50289": {
          "model_module": "@jupyter-widgets/base",
          "model_name": "LayoutModel",
          "model_module_version": "1.2.0",
          "state": {
            "_model_module": "@jupyter-widgets/base",
            "_model_module_version": "1.2.0",
            "_model_name": "LayoutModel",
            "_view_count": null,
            "_view_module": "@jupyter-widgets/base",
            "_view_module_version": "1.2.0",
            "_view_name": "LayoutView",
            "align_content": null,
            "align_items": null,
            "align_self": null,
            "border": null,
            "bottom": null,
            "display": null,
            "flex": null,
            "flex_flow": null,
            "grid_area": null,
            "grid_auto_columns": null,
            "grid_auto_flow": null,
            "grid_auto_rows": null,
            "grid_column": null,
            "grid_gap": null,
            "grid_row": null,
            "grid_template_areas": null,
            "grid_template_columns": null,
            "grid_template_rows": null,
            "height": null,
            "justify_content": null,
            "justify_items": null,
            "left": null,
            "margin": null,
            "max_height": null,
            "max_width": null,
            "min_height": null,
            "min_width": null,
            "object_fit": null,
            "object_position": null,
            "order": null,
            "overflow": null,
            "overflow_x": null,
            "overflow_y": null,
            "padding": null,
            "right": null,
            "top": null,
            "visibility": null,
            "width": null
          }
        },
        "00bf297018544f3fa36cf0da56e88b83": {
          "model_module": "@jupyter-widgets/controls",
          "model_name": "DescriptionStyleModel",
          "model_module_version": "1.5.0",
          "state": {
            "_model_module": "@jupyter-widgets/controls",
            "_model_module_version": "1.5.0",
            "_model_name": "DescriptionStyleModel",
            "_view_count": null,
            "_view_module": "@jupyter-widgets/base",
            "_view_module_version": "1.2.0",
            "_view_name": "StyleView",
            "description_width": ""
          }
        },
        "f55318bd1dd745819f5ba258536618df": {
          "model_module": "@jupyter-widgets/base",
          "model_name": "LayoutModel",
          "model_module_version": "1.2.0",
          "state": {
            "_model_module": "@jupyter-widgets/base",
            "_model_module_version": "1.2.0",
            "_model_name": "LayoutModel",
            "_view_count": null,
            "_view_module": "@jupyter-widgets/base",
            "_view_module_version": "1.2.0",
            "_view_name": "LayoutView",
            "align_content": null,
            "align_items": null,
            "align_self": null,
            "border": null,
            "bottom": null,
            "display": null,
            "flex": null,
            "flex_flow": null,
            "grid_area": null,
            "grid_auto_columns": null,
            "grid_auto_flow": null,
            "grid_auto_rows": null,
            "grid_column": null,
            "grid_gap": null,
            "grid_row": null,
            "grid_template_areas": null,
            "grid_template_columns": null,
            "grid_template_rows": null,
            "height": null,
            "justify_content": null,
            "justify_items": null,
            "left": null,
            "margin": null,
            "max_height": null,
            "max_width": null,
            "min_height": null,
            "min_width": null,
            "object_fit": null,
            "object_position": null,
            "order": null,
            "overflow": null,
            "overflow_x": null,
            "overflow_y": null,
            "padding": null,
            "right": null,
            "top": null,
            "visibility": null,
            "width": null
          }
        },
        "79eedfff6ab24826ad27dddb0b6ae7d6": {
          "model_module": "@jupyter-widgets/controls",
          "model_name": "ProgressStyleModel",
          "model_module_version": "1.5.0",
          "state": {
            "_model_module": "@jupyter-widgets/controls",
            "_model_module_version": "1.5.0",
            "_model_name": "ProgressStyleModel",
            "_view_count": null,
            "_view_module": "@jupyter-widgets/base",
            "_view_module_version": "1.2.0",
            "_view_name": "StyleView",
            "bar_color": null,
            "description_width": ""
          }
        },
        "6dd4503fa1184dc6b893d0f8df5e1b62": {
          "model_module": "@jupyter-widgets/base",
          "model_name": "LayoutModel",
          "model_module_version": "1.2.0",
          "state": {
            "_model_module": "@jupyter-widgets/base",
            "_model_module_version": "1.2.0",
            "_model_name": "LayoutModel",
            "_view_count": null,
            "_view_module": "@jupyter-widgets/base",
            "_view_module_version": "1.2.0",
            "_view_name": "LayoutView",
            "align_content": null,
            "align_items": null,
            "align_self": null,
            "border": null,
            "bottom": null,
            "display": null,
            "flex": null,
            "flex_flow": null,
            "grid_area": null,
            "grid_auto_columns": null,
            "grid_auto_flow": null,
            "grid_auto_rows": null,
            "grid_column": null,
            "grid_gap": null,
            "grid_row": null,
            "grid_template_areas": null,
            "grid_template_columns": null,
            "grid_template_rows": null,
            "height": null,
            "justify_content": null,
            "justify_items": null,
            "left": null,
            "margin": null,
            "max_height": null,
            "max_width": null,
            "min_height": null,
            "min_width": null,
            "object_fit": null,
            "object_position": null,
            "order": null,
            "overflow": null,
            "overflow_x": null,
            "overflow_y": null,
            "padding": null,
            "right": null,
            "top": null,
            "visibility": null,
            "width": null
          }
        },
        "be378694c450485f8b8107b158d00953": {
          "model_module": "@jupyter-widgets/controls",
          "model_name": "DescriptionStyleModel",
          "model_module_version": "1.5.0",
          "state": {
            "_model_module": "@jupyter-widgets/controls",
            "_model_module_version": "1.5.0",
            "_model_name": "DescriptionStyleModel",
            "_view_count": null,
            "_view_module": "@jupyter-widgets/base",
            "_view_module_version": "1.2.0",
            "_view_name": "StyleView",
            "description_width": ""
          }
        }
      }
    }
  },
  "cells": [
    {
      "cell_type": "markdown",
      "metadata": {
        "id": "view-in-github",
        "colab_type": "text"
      },
      "source": [
        "<a href=\"https://colab.research.google.com/github/AmarnadhReddy055/Multi-Model-Hate-Speech-Detection-In-Memes/blob/main/VisualBERT.ipynb\" target=\"_parent\"><img src=\"https://colab.research.google.com/assets/colab-badge.svg\" alt=\"Open In Colab\"/></a>"
      ]
    },
    {
      "cell_type": "code",
      "source": [
        "from google.colab import drive\n",
        "drive.mount('/content/drive')"
      ],
      "metadata": {
        "colab": {
          "base_uri": "https://localhost:8080/"
        },
        "id": "p1jBbysGoU3B",
        "outputId": "86935247-18cf-421d-c9ca-b7695e4a1fac"
      },
      "execution_count": 1,
      "outputs": [
        {
          "output_type": "stream",
          "name": "stdout",
          "text": [
            "Mounted at /content/drive\n"
          ]
        }
      ]
    },
    {
      "cell_type": "code",
      "execution_count": 2,
      "metadata": {
        "colab": {
          "base_uri": "https://localhost:8080/"
        },
        "id": "Hamqom9Fnj9c",
        "outputId": "0ef6de4d-6e00-46d6-b866-e447eef1b63a"
      },
      "outputs": [
        {
          "output_type": "stream",
          "name": "stdout",
          "text": [
            "\u001b[2K     \u001b[90m━━━━━━━━━━━━━━━━━━━━━━━━━━━━━━━━━━━━━━━━\u001b[0m \u001b[32m7.2/7.2 MB\u001b[0m \u001b[31m48.5 MB/s\u001b[0m eta \u001b[36m0:00:00\u001b[0m\n",
            "\u001b[2K     \u001b[90m━━━━━━━━━━━━━━━━━━━━━━━━━━━━━━━━━━━━━━\u001b[0m \u001b[32m236.8/236.8 kB\u001b[0m \u001b[31m22.9 MB/s\u001b[0m eta \u001b[36m0:00:00\u001b[0m\n",
            "\u001b[2K     \u001b[90m━━━━━━━━━━━━━━━━━━━━━━━━━━━━━━━━━━━━━━━━\u001b[0m \u001b[32m7.8/7.8 MB\u001b[0m \u001b[31m78.0 MB/s\u001b[0m eta \u001b[36m0:00:00\u001b[0m\n",
            "\u001b[2K     \u001b[90m━━━━━━━━━━━━━━━━━━━━━━━━━━━━━━━━━━━━━━━━\u001b[0m \u001b[32m1.3/1.3 MB\u001b[0m \u001b[31m41.0 MB/s\u001b[0m eta \u001b[36m0:00:00\u001b[0m\n",
            "\u001b[?25h"
          ]
        }
      ],
      "source": [
        "pip -q install transformers"
      ]
    },
    {
      "cell_type": "code",
      "source": [
        "import tensorflow as tf\n",
        "from transformers import TFBertModel, BertTokenizer\n",
        "import pandas as pd\n",
        "import numpy as np"
      ],
      "metadata": {
        "id": "xsErlMUknzFm"
      },
      "execution_count": 3,
      "outputs": []
    },
    {
      "cell_type": "code",
      "source": [
        "train_data=pd.read_csv('/content/drive/MyDrive/train_image.csv')\n",
        "dev_data=pd.read_csv('/content/drive/MyDrive/cross_validation_image.csv')"
      ],
      "metadata": {
        "id": "jUCwpRt7oe2e"
      },
      "execution_count": 4,
      "outputs": []
    },
    {
      "cell_type": "code",
      "source": [
        "train_data.dropna(inplace=True)\n",
        "train_data.reset_index(inplace=True)"
      ],
      "metadata": {
        "id": "HpcFnAsvokJb"
      },
      "execution_count": 5,
      "outputs": []
    },
    {
      "cell_type": "code",
      "source": [
        "def covert_string_toarray_train(train_object):\n",
        "  size_train=train_object.shape[0]\n",
        "  print(size_train)\n",
        "  for i in range(size_train):\n",
        "    train_data['features'][i]=np.fromstring(train_data['features'][i][1:-1], sep=',')"
      ],
      "metadata": {
        "id": "eaGszQAqotlh"
      },
      "execution_count": 6,
      "outputs": []
    },
    {
      "cell_type": "code",
      "source": [
        "covert_string_toarray_train(train_data['features'])"
      ],
      "metadata": {
        "colab": {
          "base_uri": "https://localhost:8080/"
        },
        "id": "LuVQo-Ubo1s7",
        "outputId": "88e5a453-b194-40e4-ecaf-46801f645ce0"
      },
      "execution_count": 7,
      "outputs": [
        {
          "output_type": "stream",
          "name": "stdout",
          "text": [
            "8499\n"
          ]
        },
        {
          "output_type": "stream",
          "name": "stderr",
          "text": [
            "<ipython-input-6-8996c8233cd4>:5: SettingWithCopyWarning: \n",
            "A value is trying to be set on a copy of a slice from a DataFrame\n",
            "\n",
            "See the caveats in the documentation: https://pandas.pydata.org/pandas-docs/stable/user_guide/indexing.html#returning-a-view-versus-a-copy\n",
            "  train_data['features'][i]=np.fromstring(train_data['features'][i][1:-1], sep=',')\n"
          ]
        }
      ]
    },
    {
      "cell_type": "code",
      "source": [
        "train_image=[]\n",
        "for i in range(train_data.shape[0]):\n",
        "  train_image.append(np.array(train_data['features'][i]))\n",
        "train_image=np.array(train_image)"
      ],
      "metadata": {
        "id": "aDHWsJPyo45c"
      },
      "execution_count": 8,
      "outputs": []
    },
    {
      "cell_type": "code",
      "source": [
        "visualbert_model = TFBertModel.from_pretrained('uclanlp/visualbert-vqa-coco-pre', from_pt=True)\n",
        "tokenizer = BertTokenizer.from_pretrained('bert-base-uncased')"
      ],
      "metadata": {
        "colab": {
          "base_uri": "https://localhost:8080/",
          "height": 301,
          "referenced_widgets": [
            "4f2d9a2babd248838d74814e98e17ad7",
            "4f16f05d2b2e4c4dbefecf3f76be4db5",
            "84088cb4d1d4435588a5e57f6e1af0d4",
            "9df0330aa177405b96bb5b28c89c23c4",
            "4dd2d04f71f34f57b284809506a2e413",
            "084e3713638a4f868f122df4c77545fb",
            "1d30353fbfa34cd5b52c822ed45a6ce9",
            "c3d51c95522b444c87cf1476b808697a",
            "5687cd89ee184dacaaadadc4cdd32137",
            "f221f1146e8c47bcaa44a27071f67b07",
            "70ba325191e44173b27fdc35221f982a",
            "b2ca4aea64664f0f9e86ac7ad8a665d2",
            "7d054a7e3dca45d983cce7b065a61d22",
            "220ac2be174d4c2eb3935808bdba403e",
            "e3722f1d7d8a4f038ab80a6a537dbca8",
            "d479c71b30df470a8023b620766b5cf3",
            "fab0852d7d5347d885bddcc1e14e2e73",
            "4c0c0c8627ac419eb2663dc916356b01",
            "ec3c52d730f64dd4bc0a0fe5662c3203",
            "cbaf087c18bf42aa8e05b28153d96123",
            "7068a63fb59c4aeeb4d3348967dc146f",
            "673a36ec9e744867a42dad58b84afe8b",
            "adb7327ea97e44c882640487b3e0f064",
            "3399b74b3f8a460bb39b540f940b748f",
            "85211ac190c34b1d81ee97a55cae1ff2",
            "b43020b5d3634d4d9599dbae9b8b7008",
            "34948469de484ca1a1a986429a3eccf6",
            "380e05c903d24ea9ad71ba85bc7d7669",
            "bfc0add09a1f4a43863025042d2b2baf",
            "52d59e55965745f5b87d832d4fd6a9d4",
            "d12de615dc244c73a50fc8e622ce0e4d",
            "9b0f98970c694344a4c3b16f0ce8f56d",
            "58de1e05a0b64ba590e44e3f8f7cfa48",
            "70f2a93a43384863ae73aa9fd30b1412",
            "5a93ce0210634a11ab0c56753a84f794",
            "eb0a1bc6d9814f7993230ce908876f14",
            "46bea1e8ecb545ff99cd2cc225c47647",
            "2cefa06a8ef0410ebafe443d64e959c0",
            "6cdd3d5e02d7405ab59ca831f96e074b",
            "1b5ffac4e2f740d781f5b0c57957c85b",
            "e5b299cc679d4f058c462d81aacc0a85",
            "74c3b15e928e4036883d8c2832c43104",
            "474bf4cd304746c786c32d57872cb74d",
            "7e3a88e1ee5a44a896e7d8bb6638e49a",
            "ec9c298fe55341f7b405c63d4443086b",
            "5d51aecfffaa4bafaba22f3914769165",
            "6f67c75ab7c043cb8edc4a621e40864f",
            "8a21875a044144a4843249bcab2f2346",
            "091e06bfce934c2f8349209ff51018ea",
            "f30d1b9bd2a14e309924462d46c9f232",
            "4f9d0c68fdb249b286413c3d12be5911",
            "0da6355f5d2a4859944a7b790c7e5664",
            "eb7254a54e8a4f1dbc3c5432b5101e65",
            "e51e8e69e6114fe985b8772cb2489601",
            "616aa880b82d4b568448b8ddd587eb40"
          ]
        },
        "id": "A_a3gdJ3n-PF",
        "outputId": "3d3627dd-95c4-4fe6-ec23-85cb2ec69115"
      },
      "execution_count": 9,
      "outputs": [
        {
          "output_type": "display_data",
          "data": {
            "text/plain": [
              "Downloading (…)lve/main/config.json:   0%|          | 0.00/631 [00:00<?, ?B/s]"
            ],
            "application/vnd.jupyter.widget-view+json": {
              "version_major": 2,
              "version_minor": 0,
              "model_id": "4f2d9a2babd248838d74814e98e17ad7"
            }
          },
          "metadata": {}
        },
        {
          "output_type": "stream",
          "name": "stderr",
          "text": [
            "You are using a model of type visual_bert to instantiate a model of type bert. This is not supported for all configurations of models and can yield errors.\n"
          ]
        },
        {
          "output_type": "display_data",
          "data": {
            "text/plain": [
              "Downloading pytorch_model.bin:   0%|          | 0.00/448M [00:00<?, ?B/s]"
            ],
            "application/vnd.jupyter.widget-view+json": {
              "version_major": 2,
              "version_minor": 0,
              "model_id": "b2ca4aea64664f0f9e86ac7ad8a665d2"
            }
          },
          "metadata": {}
        },
        {
          "output_type": "stream",
          "name": "stderr",
          "text": [
            "Some weights of the PyTorch model were not used when initializing the TF 2.0 model TFBertModel: ['visual_bert.encoder.layer.11.attention.self.value.bias', 'visual_bert.encoder.layer.5.attention.self.query.weight', 'visual_bert.encoder.layer.0.attention.self.value.weight', 'visual_bert.embeddings.visual_projection.bias', 'visual_bert.encoder.layer.5.attention.self.value.bias', 'visual_bert.encoder.layer.7.attention.self.value.bias', 'visual_bert.encoder.layer.7.output.dense.bias', 'visual_bert.encoder.layer.8.attention.self.key.weight', 'visual_bert.encoder.layer.2.attention.self.key.bias', 'visual_bert.embeddings.visual_projection.weight', 'visual_bert.encoder.layer.6.attention.output.LayerNorm.bias', 'cls.predictions.transform.LayerNorm.bias', 'visual_bert.encoder.layer.6.output.dense.bias', 'visual_bert.pooler.dense.bias', 'visual_bert.encoder.layer.11.intermediate.dense.weight', 'visual_bert.encoder.layer.8.output.dense.weight', 'visual_bert.encoder.layer.7.attention.self.value.weight', 'visual_bert.encoder.layer.9.intermediate.dense.bias', 'visual_bert.encoder.layer.7.attention.self.key.weight', 'visual_bert.encoder.layer.2.attention.self.query.weight', 'visual_bert.encoder.layer.2.attention.self.query.bias', 'visual_bert.encoder.layer.6.attention.self.key.weight', 'visual_bert.embeddings.token_type_embeddings.weight', 'visual_bert.embeddings.visual_position_embeddings.weight', 'visual_bert.encoder.layer.4.attention.output.dense.bias', 'visual_bert.encoder.layer.6.attention.self.value.bias', 'visual_bert.encoder.layer.4.attention.self.key.weight', 'visual_bert.embeddings.visual_token_type_embeddings.weight', 'visual_bert.encoder.layer.6.attention.self.key.bias', 'visual_bert.encoder.layer.9.attention.self.value.weight', 'cls.predictions.transform.dense.weight', 'visual_bert.encoder.layer.1.intermediate.dense.bias', 'visual_bert.encoder.layer.9.attention.self.query.bias', 'visual_bert.encoder.layer.11.attention.self.key.weight', 'visual_bert.encoder.layer.6.output.dense.weight', 'visual_bert.encoder.layer.8.intermediate.dense.bias', 'visual_bert.embeddings.position_ids', 'visual_bert.encoder.layer.8.attention.output.dense.bias', 'visual_bert.encoder.layer.6.output.LayerNorm.weight', 'visual_bert.encoder.layer.9.attention.self.query.weight', 'visual_bert.encoder.layer.11.output.dense.weight', 'visual_bert.encoder.layer.0.attention.self.query.bias', 'cls.predictions.bias', 'visual_bert.encoder.layer.3.output.dense.weight', 'visual_bert.encoder.layer.6.attention.self.query.weight', 'visual_bert.encoder.layer.10.attention.self.query.bias', 'visual_bert.encoder.layer.2.attention.self.key.weight', 'visual_bert.encoder.layer.5.intermediate.dense.bias', 'visual_bert.encoder.layer.10.attention.output.LayerNorm.weight', 'visual_bert.encoder.layer.9.attention.output.LayerNorm.weight', 'visual_bert.encoder.layer.10.attention.self.key.weight', 'visual_bert.encoder.layer.7.attention.self.query.bias', 'visual_bert.encoder.layer.0.attention.self.value.bias', 'visual_bert.encoder.layer.8.intermediate.dense.weight', 'visual_bert.encoder.layer.3.attention.output.dense.weight', 'visual_bert.encoder.layer.1.attention.self.key.bias', 'visual_bert.encoder.layer.10.attention.self.key.bias', 'visual_bert.encoder.layer.2.intermediate.dense.weight', 'visual_bert.encoder.layer.11.attention.self.query.weight', 'visual_bert.encoder.layer.5.attention.output.LayerNorm.weight', 'visual_bert.encoder.layer.6.attention.output.LayerNorm.weight', 'visual_bert.encoder.layer.7.intermediate.dense.bias', 'visual_bert.encoder.layer.10.output.dense.bias', 'visual_bert.encoder.layer.7.intermediate.dense.weight', 'visual_bert.encoder.layer.2.output.dense.bias', 'visual_bert.encoder.layer.1.output.LayerNorm.bias', 'visual_bert.encoder.layer.3.attention.output.LayerNorm.weight', 'visual_bert.encoder.layer.1.output.dense.bias', 'visual_bert.encoder.layer.3.attention.self.key.bias', 'visual_bert.encoder.layer.8.attention.output.LayerNorm.bias', 'visual_bert.encoder.layer.0.output.dense.weight', 'visual_bert.encoder.layer.4.intermediate.dense.bias', 'visual_bert.encoder.layer.6.attention.output.dense.weight', 'visual_bert.encoder.layer.4.attention.self.value.bias', 'visual_bert.encoder.layer.9.attention.output.dense.bias', 'visual_bert.encoder.layer.2.output.LayerNorm.bias', 'visual_bert.encoder.layer.6.intermediate.dense.bias', 'visual_bert.encoder.layer.11.attention.self.key.bias', 'visual_bert.encoder.layer.1.output.LayerNorm.weight', 'visual_bert.encoder.layer.1.attention.self.value.bias', 'visual_bert.encoder.layer.4.attention.output.dense.weight', 'visual_bert.embeddings.LayerNorm.bias', 'cls.predictions.decoder.weight', 'visual_bert.encoder.layer.5.output.dense.bias', 'visual_bert.encoder.layer.3.intermediate.dense.weight', 'visual_bert.encoder.layer.7.attention.self.query.weight', 'visual_bert.encoder.layer.3.attention.self.value.weight', 'visual_bert.encoder.layer.10.attention.self.value.bias', 'visual_bert.encoder.layer.7.output.dense.weight', 'visual_bert.encoder.layer.3.output.LayerNorm.bias', 'visual_bert.encoder.layer.10.output.LayerNorm.bias', 'visual_bert.encoder.layer.0.attention.self.query.weight', 'visual_bert.encoder.layer.0.intermediate.dense.bias', 'visual_bert.encoder.layer.0.attention.output.dense.weight', 'visual_bert.encoder.layer.3.output.dense.bias', 'visual_bert.encoder.layer.4.attention.self.query.weight', 'visual_bert.encoder.layer.4.attention.self.value.weight', 'visual_bert.encoder.layer.11.attention.output.dense.weight', 'visual_bert.encoder.layer.11.intermediate.dense.bias', 'visual_bert.encoder.layer.4.attention.output.LayerNorm.weight', 'visual_bert.encoder.layer.9.attention.output.LayerNorm.bias', 'visual_bert.encoder.layer.2.attention.output.LayerNorm.bias', 'visual_bert.encoder.layer.11.attention.output.LayerNorm.bias', 'cls.predictions.transform.dense.bias', 'visual_bert.encoder.layer.7.attention.self.key.bias', 'visual_bert.encoder.layer.2.intermediate.dense.bias', 'visual_bert.encoder.layer.3.attention.self.key.weight', 'visual_bert.encoder.layer.1.attention.self.key.weight', 'visual_bert.encoder.layer.10.intermediate.dense.bias', 'visual_bert.encoder.layer.10.output.LayerNorm.weight', 'visual_bert.encoder.layer.10.attention.output.LayerNorm.bias', 'visual_bert.encoder.layer.9.attention.self.key.weight', 'visual_bert.encoder.layer.7.attention.output.dense.weight', 'visual_bert.encoder.layer.9.intermediate.dense.weight', 'visual_bert.encoder.layer.10.attention.self.query.weight', 'visual_bert.encoder.layer.4.attention.self.query.bias', 'visual_bert.encoder.layer.10.attention.output.dense.bias', 'visual_bert.encoder.layer.9.output.dense.weight', 'visual_bert.encoder.layer.6.output.LayerNorm.bias', 'visual_bert.encoder.layer.1.attention.output.dense.weight', 'visual_bert.encoder.layer.8.output.LayerNorm.weight', 'visual_bert.encoder.layer.9.output.LayerNorm.bias', 'visual_bert.encoder.layer.11.output.LayerNorm.weight', 'visual_bert.encoder.layer.7.attention.output.dense.bias', 'visual_bert.encoder.layer.4.output.LayerNorm.weight', 'visual_bert.encoder.layer.9.attention.self.key.bias', 'cls.seq_relationship.weight', 'visual_bert.encoder.layer.6.attention.self.value.weight', 'visual_bert.encoder.layer.6.intermediate.dense.weight', 'visual_bert.encoder.layer.8.output.dense.bias', 'visual_bert.encoder.layer.0.output.dense.bias', 'visual_bert.encoder.layer.9.attention.self.value.bias', 'visual_bert.encoder.layer.4.intermediate.dense.weight', 'visual_bert.encoder.layer.0.intermediate.dense.weight', 'visual_bert.encoder.layer.4.output.dense.weight', 'visual_bert.encoder.layer.1.output.dense.weight', 'visual_bert.encoder.layer.5.attention.output.dense.bias', 'visual_bert.encoder.layer.5.attention.self.value.weight', 'visual_bert.encoder.layer.5.attention.self.key.weight', 'visual_bert.encoder.layer.8.attention.self.key.bias', 'visual_bert.embeddings.position_embeddings.weight', 'visual_bert.encoder.layer.1.attention.self.value.weight', 'visual_bert.encoder.layer.7.output.LayerNorm.bias', 'visual_bert.encoder.layer.2.attention.output.dense.bias', 'visual_bert.encoder.layer.5.intermediate.dense.weight', 'visual_bert.encoder.layer.3.attention.self.value.bias', 'visual_bert.encoder.layer.8.attention.output.dense.weight', 'visual_bert.encoder.layer.8.attention.self.query.bias', 'visual_bert.encoder.layer.8.output.LayerNorm.bias', 'visual_bert.encoder.layer.0.output.LayerNorm.bias', 'visual_bert.encoder.layer.6.attention.self.query.bias', 'visual_bert.encoder.layer.7.output.LayerNorm.weight', 'visual_bert.encoder.layer.1.attention.self.query.weight', 'visual_bert.encoder.layer.1.attention.output.LayerNorm.bias', 'visual_bert.encoder.layer.6.attention.output.dense.bias', 'visual_bert.encoder.layer.1.attention.self.query.bias', 'visual_bert.encoder.layer.2.attention.self.value.bias', 'visual_bert.encoder.layer.4.output.LayerNorm.bias', 'visual_bert.encoder.layer.10.intermediate.dense.weight', 'visual_bert.encoder.layer.0.attention.self.key.weight', 'visual_bert.encoder.layer.9.output.dense.bias', 'cls.seq_relationship.bias', 'visual_bert.encoder.layer.2.attention.output.dense.weight', 'visual_bert.encoder.layer.3.attention.output.LayerNorm.bias', 'visual_bert.encoder.layer.9.attention.output.dense.weight', 'visual_bert.encoder.layer.9.output.LayerNorm.weight', 'visual_bert.encoder.layer.0.attention.output.LayerNorm.bias', 'visual_bert.encoder.layer.4.output.dense.bias', 'visual_bert.encoder.layer.10.attention.output.dense.weight', 'visual_bert.encoder.layer.10.output.dense.weight', 'cls.predictions.transform.LayerNorm.weight', 'visual_bert.encoder.layer.5.output.LayerNorm.bias', 'visual_bert.encoder.layer.3.attention.self.query.bias', 'visual_bert.encoder.layer.8.attention.output.LayerNorm.weight', 'visual_bert.encoder.layer.5.output.dense.weight', 'visual_bert.encoder.layer.5.attention.output.dense.weight', 'visual_bert.encoder.layer.11.output.LayerNorm.bias', 'visual_bert.encoder.layer.3.attention.self.query.weight', 'visual_bert.encoder.layer.3.intermediate.dense.bias', 'visual_bert.encoder.layer.11.attention.output.dense.bias', 'visual_bert.encoder.layer.0.attention.output.dense.bias', 'visual_bert.encoder.layer.11.output.dense.bias', 'visual_bert.encoder.layer.2.attention.output.LayerNorm.weight', 'visual_bert.encoder.layer.10.attention.self.value.weight', 'visual_bert.encoder.layer.11.attention.self.value.weight', 'visual_bert.encoder.layer.7.attention.output.LayerNorm.weight', 'visual_bert.pooler.dense.weight', 'visual_bert.encoder.layer.7.attention.output.LayerNorm.bias', 'visual_bert.embeddings.word_embeddings.weight', 'visual_bert.encoder.layer.8.attention.self.value.weight', 'visual_bert.encoder.layer.1.attention.output.dense.bias', 'visual_bert.encoder.layer.11.attention.output.LayerNorm.weight', 'visual_bert.encoder.layer.1.attention.output.LayerNorm.weight', 'visual_bert.encoder.layer.2.output.dense.weight', 'visual_bert.encoder.layer.1.intermediate.dense.weight', 'visual_bert.encoder.layer.3.output.LayerNorm.weight', 'visual_bert.encoder.layer.0.attention.output.LayerNorm.weight', 'visual_bert.encoder.layer.11.attention.self.query.bias', 'visual_bert.encoder.layer.4.attention.output.LayerNorm.bias', 'visual_bert.encoder.layer.4.attention.self.key.bias', 'visual_bert.encoder.layer.5.attention.output.LayerNorm.bias', 'cls.predictions.decoder.bias', 'visual_bert.encoder.layer.8.attention.self.query.weight', 'visual_bert.encoder.layer.3.attention.output.dense.bias', 'visual_bert.encoder.layer.2.attention.self.value.weight', 'visual_bert.encoder.layer.0.output.LayerNorm.weight', 'visual_bert.encoder.layer.5.attention.self.query.bias', 'visual_bert.encoder.layer.0.attention.self.key.bias', 'visual_bert.embeddings.LayerNorm.weight', 'visual_bert.encoder.layer.2.output.LayerNorm.weight', 'visual_bert.encoder.layer.5.output.LayerNorm.weight', 'visual_bert.encoder.layer.5.attention.self.key.bias', 'visual_bert.encoder.layer.8.attention.self.value.bias']\n",
            "- This IS expected if you are initializing TFBertModel from a PyTorch model trained on another task or with another architecture (e.g. initializing a TFBertForSequenceClassification model from a BertForPreTraining model).\n",
            "- This IS NOT expected if you are initializing TFBertModel from a PyTorch model that you expect to be exactly identical (e.g. initializing a TFBertForSequenceClassification model from a BertForSequenceClassification model).\n",
            "Some weights or buffers of the TF 2.0 model TFBertModel were not initialized from the PyTorch model and are newly initialized: ['embeddings.word_embeddings.weight', 'embeddings.token_type_embeddings.weight', 'embeddings.position_embeddings.weight', 'embeddings.LayerNorm.weight', 'embeddings.LayerNorm.bias', 'encoder.layer.0.attention.self.query.weight', 'encoder.layer.0.attention.self.query.bias', 'encoder.layer.0.attention.self.key.weight', 'encoder.layer.0.attention.self.key.bias', 'encoder.layer.0.attention.self.value.weight', 'encoder.layer.0.attention.self.value.bias', 'encoder.layer.0.attention.output.dense.weight', 'encoder.layer.0.attention.output.dense.bias', 'encoder.layer.0.attention.output.LayerNorm.weight', 'encoder.layer.0.attention.output.LayerNorm.bias', 'encoder.layer.0.intermediate.dense.weight', 'encoder.layer.0.intermediate.dense.bias', 'encoder.layer.0.output.dense.weight', 'encoder.layer.0.output.dense.bias', 'encoder.layer.0.output.LayerNorm.weight', 'encoder.layer.0.output.LayerNorm.bias', 'encoder.layer.1.attention.self.query.weight', 'encoder.layer.1.attention.self.query.bias', 'encoder.layer.1.attention.self.key.weight', 'encoder.layer.1.attention.self.key.bias', 'encoder.layer.1.attention.self.value.weight', 'encoder.layer.1.attention.self.value.bias', 'encoder.layer.1.attention.output.dense.weight', 'encoder.layer.1.attention.output.dense.bias', 'encoder.layer.1.attention.output.LayerNorm.weight', 'encoder.layer.1.attention.output.LayerNorm.bias', 'encoder.layer.1.intermediate.dense.weight', 'encoder.layer.1.intermediate.dense.bias', 'encoder.layer.1.output.dense.weight', 'encoder.layer.1.output.dense.bias', 'encoder.layer.1.output.LayerNorm.weight', 'encoder.layer.1.output.LayerNorm.bias', 'encoder.layer.2.attention.self.query.weight', 'encoder.layer.2.attention.self.query.bias', 'encoder.layer.2.attention.self.key.weight', 'encoder.layer.2.attention.self.key.bias', 'encoder.layer.2.attention.self.value.weight', 'encoder.layer.2.attention.self.value.bias', 'encoder.layer.2.attention.output.dense.weight', 'encoder.layer.2.attention.output.dense.bias', 'encoder.layer.2.attention.output.LayerNorm.weight', 'encoder.layer.2.attention.output.LayerNorm.bias', 'encoder.layer.2.intermediate.dense.weight', 'encoder.layer.2.intermediate.dense.bias', 'encoder.layer.2.output.dense.weight', 'encoder.layer.2.output.dense.bias', 'encoder.layer.2.output.LayerNorm.weight', 'encoder.layer.2.output.LayerNorm.bias', 'encoder.layer.3.attention.self.query.weight', 'encoder.layer.3.attention.self.query.bias', 'encoder.layer.3.attention.self.key.weight', 'encoder.layer.3.attention.self.key.bias', 'encoder.layer.3.attention.self.value.weight', 'encoder.layer.3.attention.self.value.bias', 'encoder.layer.3.attention.output.dense.weight', 'encoder.layer.3.attention.output.dense.bias', 'encoder.layer.3.attention.output.LayerNorm.weight', 'encoder.layer.3.attention.output.LayerNorm.bias', 'encoder.layer.3.intermediate.dense.weight', 'encoder.layer.3.intermediate.dense.bias', 'encoder.layer.3.output.dense.weight', 'encoder.layer.3.output.dense.bias', 'encoder.layer.3.output.LayerNorm.weight', 'encoder.layer.3.output.LayerNorm.bias', 'encoder.layer.4.attention.self.query.weight', 'encoder.layer.4.attention.self.query.bias', 'encoder.layer.4.attention.self.key.weight', 'encoder.layer.4.attention.self.key.bias', 'encoder.layer.4.attention.self.value.weight', 'encoder.layer.4.attention.self.value.bias', 'encoder.layer.4.attention.output.dense.weight', 'encoder.layer.4.attention.output.dense.bias', 'encoder.layer.4.attention.output.LayerNorm.weight', 'encoder.layer.4.attention.output.LayerNorm.bias', 'encoder.layer.4.intermediate.dense.weight', 'encoder.layer.4.intermediate.dense.bias', 'encoder.layer.4.output.dense.weight', 'encoder.layer.4.output.dense.bias', 'encoder.layer.4.output.LayerNorm.weight', 'encoder.layer.4.output.LayerNorm.bias', 'encoder.layer.5.attention.self.query.weight', 'encoder.layer.5.attention.self.query.bias', 'encoder.layer.5.attention.self.key.weight', 'encoder.layer.5.attention.self.key.bias', 'encoder.layer.5.attention.self.value.weight', 'encoder.layer.5.attention.self.value.bias', 'encoder.layer.5.attention.output.dense.weight', 'encoder.layer.5.attention.output.dense.bias', 'encoder.layer.5.attention.output.LayerNorm.weight', 'encoder.layer.5.attention.output.LayerNorm.bias', 'encoder.layer.5.intermediate.dense.weight', 'encoder.layer.5.intermediate.dense.bias', 'encoder.layer.5.output.dense.weight', 'encoder.layer.5.output.dense.bias', 'encoder.layer.5.output.LayerNorm.weight', 'encoder.layer.5.output.LayerNorm.bias', 'encoder.layer.6.attention.self.query.weight', 'encoder.layer.6.attention.self.query.bias', 'encoder.layer.6.attention.self.key.weight', 'encoder.layer.6.attention.self.key.bias', 'encoder.layer.6.attention.self.value.weight', 'encoder.layer.6.attention.self.value.bias', 'encoder.layer.6.attention.output.dense.weight', 'encoder.layer.6.attention.output.dense.bias', 'encoder.layer.6.attention.output.LayerNorm.weight', 'encoder.layer.6.attention.output.LayerNorm.bias', 'encoder.layer.6.intermediate.dense.weight', 'encoder.layer.6.intermediate.dense.bias', 'encoder.layer.6.output.dense.weight', 'encoder.layer.6.output.dense.bias', 'encoder.layer.6.output.LayerNorm.weight', 'encoder.layer.6.output.LayerNorm.bias', 'encoder.layer.7.attention.self.query.weight', 'encoder.layer.7.attention.self.query.bias', 'encoder.layer.7.attention.self.key.weight', 'encoder.layer.7.attention.self.key.bias', 'encoder.layer.7.attention.self.value.weight', 'encoder.layer.7.attention.self.value.bias', 'encoder.layer.7.attention.output.dense.weight', 'encoder.layer.7.attention.output.dense.bias', 'encoder.layer.7.attention.output.LayerNorm.weight', 'encoder.layer.7.attention.output.LayerNorm.bias', 'encoder.layer.7.intermediate.dense.weight', 'encoder.layer.7.intermediate.dense.bias', 'encoder.layer.7.output.dense.weight', 'encoder.layer.7.output.dense.bias', 'encoder.layer.7.output.LayerNorm.weight', 'encoder.layer.7.output.LayerNorm.bias', 'encoder.layer.8.attention.self.query.weight', 'encoder.layer.8.attention.self.query.bias', 'encoder.layer.8.attention.self.key.weight', 'encoder.layer.8.attention.self.key.bias', 'encoder.layer.8.attention.self.value.weight', 'encoder.layer.8.attention.self.value.bias', 'encoder.layer.8.attention.output.dense.weight', 'encoder.layer.8.attention.output.dense.bias', 'encoder.layer.8.attention.output.LayerNorm.weight', 'encoder.layer.8.attention.output.LayerNorm.bias', 'encoder.layer.8.intermediate.dense.weight', 'encoder.layer.8.intermediate.dense.bias', 'encoder.layer.8.output.dense.weight', 'encoder.layer.8.output.dense.bias', 'encoder.layer.8.output.LayerNorm.weight', 'encoder.layer.8.output.LayerNorm.bias', 'encoder.layer.9.attention.self.query.weight', 'encoder.layer.9.attention.self.query.bias', 'encoder.layer.9.attention.self.key.weight', 'encoder.layer.9.attention.self.key.bias', 'encoder.layer.9.attention.self.value.weight', 'encoder.layer.9.attention.self.value.bias', 'encoder.layer.9.attention.output.dense.weight', 'encoder.layer.9.attention.output.dense.bias', 'encoder.layer.9.attention.output.LayerNorm.weight', 'encoder.layer.9.attention.output.LayerNorm.bias', 'encoder.layer.9.intermediate.dense.weight', 'encoder.layer.9.intermediate.dense.bias', 'encoder.layer.9.output.dense.weight', 'encoder.layer.9.output.dense.bias', 'encoder.layer.9.output.LayerNorm.weight', 'encoder.layer.9.output.LayerNorm.bias', 'encoder.layer.10.attention.self.query.weight', 'encoder.layer.10.attention.self.query.bias', 'encoder.layer.10.attention.self.key.weight', 'encoder.layer.10.attention.self.key.bias', 'encoder.layer.10.attention.self.value.weight', 'encoder.layer.10.attention.self.value.bias', 'encoder.layer.10.attention.output.dense.weight', 'encoder.layer.10.attention.output.dense.bias', 'encoder.layer.10.attention.output.LayerNorm.weight', 'encoder.layer.10.attention.output.LayerNorm.bias', 'encoder.layer.10.intermediate.dense.weight', 'encoder.layer.10.intermediate.dense.bias', 'encoder.layer.10.output.dense.weight', 'encoder.layer.10.output.dense.bias', 'encoder.layer.10.output.LayerNorm.weight', 'encoder.layer.10.output.LayerNorm.bias', 'encoder.layer.11.attention.self.query.weight', 'encoder.layer.11.attention.self.query.bias', 'encoder.layer.11.attention.self.key.weight', 'encoder.layer.11.attention.self.key.bias', 'encoder.layer.11.attention.self.value.weight', 'encoder.layer.11.attention.self.value.bias', 'encoder.layer.11.attention.output.dense.weight', 'encoder.layer.11.attention.output.dense.bias', 'encoder.layer.11.attention.output.LayerNorm.weight', 'encoder.layer.11.attention.output.LayerNorm.bias', 'encoder.layer.11.intermediate.dense.weight', 'encoder.layer.11.intermediate.dense.bias', 'encoder.layer.11.output.dense.weight', 'encoder.layer.11.output.dense.bias', 'encoder.layer.11.output.LayerNorm.weight', 'encoder.layer.11.output.LayerNorm.bias', 'pooler.dense.weight', 'pooler.dense.bias']\n",
            "You should probably TRAIN this model on a down-stream task to be able to use it for predictions and inference.\n"
          ]
        },
        {
          "output_type": "display_data",
          "data": {
            "text/plain": [
              "Downloading (…)solve/main/vocab.txt:   0%|          | 0.00/232k [00:00<?, ?B/s]"
            ],
            "application/vnd.jupyter.widget-view+json": {
              "version_major": 2,
              "version_minor": 0,
              "model_id": "adb7327ea97e44c882640487b3e0f064"
            }
          },
          "metadata": {}
        },
        {
          "output_type": "display_data",
          "data": {
            "text/plain": [
              "Downloading (…)okenizer_config.json:   0%|          | 0.00/28.0 [00:00<?, ?B/s]"
            ],
            "application/vnd.jupyter.widget-view+json": {
              "version_major": 2,
              "version_minor": 0,
              "model_id": "70f2a93a43384863ae73aa9fd30b1412"
            }
          },
          "metadata": {}
        },
        {
          "output_type": "display_data",
          "data": {
            "text/plain": [
              "Downloading (…)lve/main/config.json:   0%|          | 0.00/570 [00:00<?, ?B/s]"
            ],
            "application/vnd.jupyter.widget-view+json": {
              "version_major": 2,
              "version_minor": 0,
              "model_id": "ec9c298fe55341f7b405c63d4443086b"
            }
          },
          "metadata": {}
        }
      ]
    },
    {
      "cell_type": "code",
      "source": [
        "train_text=list(train_data['text'])"
      ],
      "metadata": {
        "id": "6r5jgWGmoExw"
      },
      "execution_count": 10,
      "outputs": []
    },
    {
      "cell_type": "code",
      "source": [
        "text_input_ids = tf.keras.Input(shape=(88,), dtype=tf.int32, name='input_ids')\n",
        "text_attention_mask = tf.keras.Input(shape=(88,), dtype=tf.int32, name='attention_mask')\n",
        "image_input = tf.keras.Input(shape=(2048,), dtype=tf.float32, name='image_input')"
      ],
      "metadata": {
        "id": "AkVDgYJYML2K"
      },
      "execution_count": 11,
      "outputs": []
    },
    {
      "cell_type": "code",
      "source": [
        "text_tokens = tokenizer(train_text, padding=True, truncation=True, return_tensors='tf')\n",
        "text_encodings = {'input_ids': text_tokens['input_ids'], 'attention_mask': text_tokens['attention_mask']}"
      ],
      "metadata": {
        "id": "lASLe5xYpnuj"
      },
      "execution_count": 12,
      "outputs": []
    },
    {
      "cell_type": "code",
      "source": [
        "train_text_ids = text_encodings"
      ],
      "metadata": {
        "id": "UFGRiK7Drom9"
      },
      "execution_count": 13,
      "outputs": []
    },
    {
      "cell_type": "code",
      "source": [
        "input_sequence = {'input_ids': text_encodings['input_ids'],\n",
        "                  'attention_mask': text_encodings['attention_mask'],\n",
        "                  'image': train_image}"
      ],
      "metadata": {
        "id": "XgX8F5fRqlK9"
      },
      "execution_count": 14,
      "outputs": []
    },
    {
      "cell_type": "code",
      "source": [
        "train_labels = train_data['label']"
      ],
      "metadata": {
        "id": "yGiPLCR1r-kx"
      },
      "execution_count": 15,
      "outputs": []
    },
    {
      "cell_type": "code",
      "source": [
        "from tensorflow import keras\n",
        "from transformers import TFAutoModel"
      ],
      "metadata": {
        "id": "4jZ4Si74PgLT"
      },
      "execution_count": 16,
      "outputs": []
    },
    {
      "cell_type": "code",
      "source": [
        "def covert_string_toarray_dev(dev_object):\n",
        "  size_dev=dev_object.shape[0]\n",
        "  print(size_dev)\n",
        "  for i in range(size_dev):\n",
        "    dev_data['features'][i]=np.fromstring(dev_data['features'][i][1:-1], sep=',')"
      ],
      "metadata": {
        "id": "tG6IIOzLa9Ni"
      },
      "execution_count": 17,
      "outputs": []
    },
    {
      "cell_type": "code",
      "source": [
        "covert_string_toarray_dev(dev_data['features'])"
      ],
      "metadata": {
        "colab": {
          "base_uri": "https://localhost:8080/"
        },
        "id": "REu1uhgWbFSM",
        "outputId": "5508d8dd-b21f-4a2c-da2e-e07b751fb825"
      },
      "execution_count": 18,
      "outputs": [
        {
          "output_type": "stream",
          "name": "stdout",
          "text": [
            "500\n"
          ]
        },
        {
          "output_type": "stream",
          "name": "stderr",
          "text": [
            "<ipython-input-17-fb9ef8d8594c>:5: SettingWithCopyWarning: \n",
            "A value is trying to be set on a copy of a slice from a DataFrame\n",
            "\n",
            "See the caveats in the documentation: https://pandas.pydata.org/pandas-docs/stable/user_guide/indexing.html#returning-a-view-versus-a-copy\n",
            "  dev_data['features'][i]=np.fromstring(dev_data['features'][i][1:-1], sep=',')\n"
          ]
        }
      ]
    },
    {
      "cell_type": "code",
      "source": [
        "dev_image=[]\n",
        "for i in range(dev_data.shape[0]):\n",
        "  dev_image.append(np.array(dev_data['features'][i]))\n",
        "dev_image=np.array(dev_image)"
      ],
      "metadata": {
        "id": "8sDc1rUibIFE"
      },
      "execution_count": 19,
      "outputs": []
    },
    {
      "cell_type": "code",
      "source": [
        "dev_text=list(dev_data['text'])"
      ],
      "metadata": {
        "id": "51WEAq98bObq"
      },
      "execution_count": 20,
      "outputs": []
    },
    {
      "cell_type": "code",
      "source": [
        "test_text_tokens = tokenizer(dev_text, padding=True, truncation=True, return_tensors='tf')\n",
        "test_text_encodings = {'input_ids': test_text_tokens['input_ids'], 'attention_mask': test_text_tokens['attention_mask']}"
      ],
      "metadata": {
        "id": "MsMbF7W3blD_"
      },
      "execution_count": 21,
      "outputs": []
    },
    {
      "cell_type": "code",
      "source": [
        "dev_text_ids = test_text_encodings"
      ],
      "metadata": {
        "id": "ponOzY4_byU7"
      },
      "execution_count": 22,
      "outputs": []
    },
    {
      "cell_type": "code",
      "source": [
        "dev_labels = dev_data['label']"
      ],
      "metadata": {
        "id": "RejD8_s2doLs"
      },
      "execution_count": 23,
      "outputs": []
    },
    {
      "cell_type": "code",
      "source": [
        "class VisualBERTClassifier(keras.layers.Layer):\n",
        "    def __init__(self, num_classes, dropout_prob=0.1, l2_reg=12):\n",
        "        super(VisualBERTClassifier, self).__init__()\n",
        "\n",
        "        self.num_classes = num_classes\n",
        "        self.dropout_prob = dropout_prob\n",
        "        self.visualbert_model = TFAutoModel.from_pretrained('bert-base-uncased')\n",
        "        self.pooling_layer = keras.layers.GlobalAveragePooling1D()\n",
        "        self.dropout_layer = keras.layers.Dropout(rate=self.dropout_prob)\n",
        "        self.classification_layer = keras.layers.Dense(units=self.num_classes, activation='sigmoid',kernel_regularizer=tf.keras.regularizers.l2(l2_reg))\n",
        "\n",
        "    def call(self, inputs, **kwargs):\n",
        "        text_inputs = {'input_ids': inputs['text_input']['input_ids'], 'attention_mask': inputs['text_input']['attention_mask']}\n",
        "        image_inputs = inputs['image_input']\n",
        "        visualbert_output = self.visualbert_model([text_inputs, image_inputs], **kwargs)\n",
        "        pooled_output = self.pooling_layer(visualbert_output.last_hidden_state)\n",
        "        pooled_output = self.dropout_layer(pooled_output, training=kwargs.get('training', False))\n",
        "        logits = self.classification_layer(pooled_output)\n",
        "        return logits\n",
        "\n",
        "    def get_config(self):\n",
        "        config = super().get_config().copy()\n",
        "        config.update({\n",
        "            'num_classes': self.num_classes,\n",
        "            'dropout_prob': self.dropout_prob,\n",
        "        })\n",
        "        return config\n",
        "\n",
        "    @classmethod\n",
        "    def from_config(cls, config):\n",
        "        return cls(**config)"
      ],
      "metadata": {
        "id": "DLUr4dqBZkiB"
      },
      "execution_count": 24,
      "outputs": []
    },
    {
      "cell_type": "code",
      "source": [
        "model = keras.models.Sequential([VisualBERTClassifier(num_classes=1, dropout_prob=0.2),])"
      ],
      "metadata": {
        "colab": {
          "base_uri": "https://localhost:8080/",
          "height": 156,
          "referenced_widgets": [
            "e5ed01c6ef9c49aca9078bf0b5a0ada3",
            "02c4d145db004287b689b483a3ffbcff",
            "a581dcee9ee94916893dbf7a170c338c",
            "a2fefd5e942f47a6a741bc626b70fe6d",
            "7f1e406904b3451d9e4638f98b44ca00",
            "d96436d8fc7941fa95cff8ffc2d50289",
            "00bf297018544f3fa36cf0da56e88b83",
            "f55318bd1dd745819f5ba258536618df",
            "79eedfff6ab24826ad27dddb0b6ae7d6",
            "6dd4503fa1184dc6b893d0f8df5e1b62",
            "be378694c450485f8b8107b158d00953"
          ]
        },
        "id": "Bzkx3hdxaue3",
        "outputId": "aaeefd97-640d-42cd-ef8e-61526170e6bc"
      },
      "execution_count": 25,
      "outputs": [
        {
          "output_type": "display_data",
          "data": {
            "text/plain": [
              "Downloading model.safetensors:   0%|          | 0.00/440M [00:00<?, ?B/s]"
            ],
            "application/vnd.jupyter.widget-view+json": {
              "version_major": 2,
              "version_minor": 0,
              "model_id": "e5ed01c6ef9c49aca9078bf0b5a0ada3"
            }
          },
          "metadata": {}
        },
        {
          "output_type": "stream",
          "name": "stderr",
          "text": [
            "Some weights of the PyTorch model were not used when initializing the TF 2.0 model TFBertModel: ['cls.predictions.transform.LayerNorm.bias', 'cls.predictions.transform.dense.weight', 'cls.predictions.bias', 'cls.predictions.transform.dense.bias', 'cls.seq_relationship.weight', 'cls.seq_relationship.bias', 'cls.predictions.transform.LayerNorm.weight']\n",
            "- This IS expected if you are initializing TFBertModel from a PyTorch model trained on another task or with another architecture (e.g. initializing a TFBertForSequenceClassification model from a BertForPreTraining model).\n",
            "- This IS NOT expected if you are initializing TFBertModel from a PyTorch model that you expect to be exactly identical (e.g. initializing a TFBertForSequenceClassification model from a BertForSequenceClassification model).\n",
            "All the weights of TFBertModel were initialized from the PyTorch model.\n",
            "If your task is similar to the task the model of the checkpoint was trained on, you can already use TFBertModel for predictions without further training.\n"
          ]
        }
      ]
    },
    {
      "cell_type": "code",
      "source": [
        "from keras.callbacks import EarlyStopping\n",
        "from keras.regularizers import l1, l2\n",
        "from keras.metrics import binary_crossentropy"
      ],
      "metadata": {
        "id": "3NUAokfbccWx"
      },
      "execution_count": 26,
      "outputs": []
    },
    {
      "cell_type": "code",
      "source": [
        "model.compile(optimizer=keras.optimizers.Adam(learning_rate=1e-5),\n",
        "              loss='binary_crossentropy',\n",
        "              metrics=[keras.metrics.BinaryAccuracy(name='accuracy')])\n",
        "early_stopping = EarlyStopping(monitor='val_loss', patience=3)"
      ],
      "metadata": {
        "id": "U56ohLuVq4pn"
      },
      "execution_count": 27,
      "outputs": []
    },
    {
      "cell_type": "code",
      "source": [
        "history = model.fit({'text_input': train_text_ids, 'image_input': train_image},\n",
        "                    train_labels,\n",
        "                    batch_size=32,\n",
        "                    epochs=100,\n",
        "                    validation_data=({'text_input': dev_text_ids, 'image_input': dev_image}, dev_labels),\n",
        "                    callbacks=[early_stopping])"
      ],
      "metadata": {
        "colab": {
          "base_uri": "https://localhost:8080/"
        },
        "id": "6CbiWqduq6fL",
        "outputId": "c57c4c18-df28-4839-cf44-7c1d25098068"
      },
      "execution_count": 28,
      "outputs": [
        {
          "output_type": "stream",
          "name": "stdout",
          "text": [
            "Epoch 1/100\n"
          ]
        },
        {
          "output_type": "stream",
          "name": "stderr",
          "text": [
            "WARNING:tensorflow:Layers in a Sequential model should only have a single input tensor. Received: inputs={'text_input': {'input_ids': <tf.Tensor 'IteratorGetNext:2' shape=(None, 88) dtype=int32>, 'attention_mask': <tf.Tensor 'IteratorGetNext:1' shape=(None, 88) dtype=int32>}, 'image_input': <tf.Tensor 'IteratorGetNext:0' shape=(None, 2048) dtype=float32>}. Consider rewriting this model with the Functional API.\n",
            "WARNING:tensorflow:Gradients do not exist for variables ['tf_bert_model_1/bert/pooler/dense/kernel:0', 'tf_bert_model_1/bert/pooler/dense/bias:0'] when minimizing the loss. If you're using `model.compile()`, did you forget to provide a `loss` argument?\n",
            "WARNING:tensorflow:Gradients do not exist for variables ['tf_bert_model_1/bert/pooler/dense/kernel:0', 'tf_bert_model_1/bert/pooler/dense/bias:0'] when minimizing the loss. If you're using `model.compile()`, did you forget to provide a `loss` argument?\n",
            "WARNING:tensorflow:Layers in a Sequential model should only have a single input tensor. Received: inputs={'text_input': {'input_ids': <tf.Tensor 'IteratorGetNext:2' shape=(None, 88) dtype=int32>, 'attention_mask': <tf.Tensor 'IteratorGetNext:1' shape=(None, 88) dtype=int32>}, 'image_input': <tf.Tensor 'IteratorGetNext:0' shape=(None, 2048) dtype=float32>}. Consider rewriting this model with the Functional API.\n",
            "WARNING:tensorflow:Gradients do not exist for variables ['tf_bert_model_1/bert/pooler/dense/kernel:0', 'tf_bert_model_1/bert/pooler/dense/bias:0'] when minimizing the loss. If you're using `model.compile()`, did you forget to provide a `loss` argument?\n",
            "WARNING:tensorflow:Gradients do not exist for variables ['tf_bert_model_1/bert/pooler/dense/kernel:0', 'tf_bert_model_1/bert/pooler/dense/bias:0'] when minimizing the loss. If you're using `model.compile()`, did you forget to provide a `loss` argument?\n"
          ]
        },
        {
          "output_type": "stream",
          "name": "stdout",
          "text": [
            "266/266 [==============================] - ETA: 0s - loss: 22.6406 - accuracy: 0.6998"
          ]
        },
        {
          "output_type": "stream",
          "name": "stderr",
          "text": [
            "WARNING:tensorflow:Layers in a Sequential model should only have a single input tensor. Received: inputs={'text_input': {'input_ids': <tf.Tensor 'IteratorGetNext:2' shape=(None, 54) dtype=int32>, 'attention_mask': <tf.Tensor 'IteratorGetNext:1' shape=(None, 54) dtype=int32>}, 'image_input': <tf.Tensor 'IteratorGetNext:0' shape=(None, 2048) dtype=float32>}. Consider rewriting this model with the Functional API.\n"
          ]
        },
        {
          "output_type": "stream",
          "name": "stdout",
          "text": [
            "\b\b\b\b\b\b\b\b\b\b\b\b\b\b\b\b\b\b\b\b\b\b\b\b\b\b\b\b\b\b\b\b\b\b\b\b\b\b\b\b\b\b\b\b\b\b\b\b\b\b\b\b\b\b\b\b\b\b\b\b\b\b\b\b\b\b\b\b\b\b\b\b\b\b\b\b\b\b\b\b\b\b\b\b\b\r266/266 [==============================] - 213s 602ms/step - loss: 22.6406 - accuracy: 0.6998 - val_loss: 21.8946 - val_accuracy: 0.5460\n",
            "Epoch 2/100\n",
            "266/266 [==============================] - 154s 579ms/step - loss: 20.6392 - accuracy: 0.7488 - val_loss: 19.9886 - val_accuracy: 0.5620\n",
            "Epoch 3/100\n",
            "266/266 [==============================] - 153s 577ms/step - loss: 18.8169 - accuracy: 0.7669 - val_loss: 18.3354 - val_accuracy: 0.5660\n",
            "Epoch 4/100\n",
            "266/266 [==============================] - 153s 575ms/step - loss: 17.1359 - accuracy: 0.7882 - val_loss: 16.8589 - val_accuracy: 0.5300\n",
            "Epoch 5/100\n",
            "266/266 [==============================] - 153s 575ms/step - loss: 15.5850 - accuracy: 0.8096 - val_loss: 15.4984 - val_accuracy: 0.5440\n",
            "Epoch 6/100\n",
            "266/266 [==============================] - 153s 576ms/step - loss: 14.1601 - accuracy: 0.8174 - val_loss: 14.1045 - val_accuracy: 0.5500\n",
            "Epoch 7/100\n",
            "266/266 [==============================] - 153s 574ms/step - loss: 12.8445 - accuracy: 0.8250 - val_loss: 13.0396 - val_accuracy: 0.5360\n",
            "Epoch 8/100\n",
            "266/266 [==============================] - 152s 572ms/step - loss: 11.6341 - accuracy: 0.8337 - val_loss: 11.9973 - val_accuracy: 0.5380\n",
            "Epoch 9/100\n",
            "266/266 [==============================] - 153s 576ms/step - loss: 10.5169 - accuracy: 0.8383 - val_loss: 11.1202 - val_accuracy: 0.5420\n",
            "Epoch 10/100\n",
            "266/266 [==============================] - 153s 573ms/step - loss: 9.4838 - accuracy: 0.8425 - val_loss: 10.2885 - val_accuracy: 0.5360\n",
            "Epoch 11/100\n",
            "266/266 [==============================] - 153s 574ms/step - loss: 8.5316 - accuracy: 0.8446 - val_loss: 9.2686 - val_accuracy: 0.5400\n",
            "Epoch 12/100\n",
            "266/266 [==============================] - 153s 575ms/step - loss: 7.6562 - accuracy: 0.8499 - val_loss: 8.5717 - val_accuracy: 0.5340\n",
            "Epoch 13/100\n",
            "266/266 [==============================] - 153s 575ms/step - loss: 6.8537 - accuracy: 0.8483 - val_loss: 8.0139 - val_accuracy: 0.5320\n",
            "Epoch 14/100\n",
            "266/266 [==============================] - 152s 573ms/step - loss: 6.1079 - accuracy: 0.8512 - val_loss: 7.1736 - val_accuracy: 0.5300\n",
            "Epoch 15/100\n",
            "266/266 [==============================] - 153s 575ms/step - loss: 5.4304 - accuracy: 0.8536 - val_loss: 6.5129 - val_accuracy: 0.5440\n",
            "Epoch 16/100\n",
            "266/266 [==============================] - 152s 572ms/step - loss: 4.8084 - accuracy: 0.8514 - val_loss: 6.2508 - val_accuracy: 0.5260\n",
            "Epoch 17/100\n",
            "266/266 [==============================] - 152s 572ms/step - loss: 4.2454 - accuracy: 0.8610 - val_loss: 5.9362 - val_accuracy: 0.5300\n",
            "Epoch 18/100\n",
            "266/266 [==============================] - 152s 573ms/step - loss: 3.7349 - accuracy: 0.8563 - val_loss: 5.3057 - val_accuracy: 0.5260\n",
            "Epoch 19/100\n",
            "266/266 [==============================] - 152s 573ms/step - loss: 3.2671 - accuracy: 0.8614 - val_loss: 4.7553 - val_accuracy: 0.5360\n",
            "Epoch 20/100\n",
            "266/266 [==============================] - 153s 574ms/step - loss: 2.8474 - accuracy: 0.8603 - val_loss: 4.3264 - val_accuracy: 0.5260\n",
            "Epoch 21/100\n",
            "266/266 [==============================] - 152s 572ms/step - loss: 2.4762 - accuracy: 0.8636 - val_loss: 3.7316 - val_accuracy: 0.5280\n",
            "Epoch 22/100\n",
            "266/266 [==============================] - 153s 574ms/step - loss: 2.1427 - accuracy: 0.8620 - val_loss: 3.6154 - val_accuracy: 0.5480\n",
            "Epoch 23/100\n",
            "266/266 [==============================] - 153s 575ms/step - loss: 1.8484 - accuracy: 0.8662 - val_loss: 3.2001 - val_accuracy: 0.5300\n",
            "Epoch 24/100\n",
            "266/266 [==============================] - 152s 572ms/step - loss: 1.5841 - accuracy: 0.8656 - val_loss: 2.9706 - val_accuracy: 0.5360\n",
            "Epoch 25/100\n",
            "266/266 [==============================] - 153s 574ms/step - loss: 1.3547 - accuracy: 0.8670 - val_loss: 2.7008 - val_accuracy: 0.5260\n",
            "Epoch 26/100\n",
            "266/266 [==============================] - 153s 575ms/step - loss: 1.1592 - accuracy: 0.8705 - val_loss: 2.5567 - val_accuracy: 0.5280\n",
            "Epoch 27/100\n",
            "266/266 [==============================] - 153s 574ms/step - loss: 0.9908 - accuracy: 0.8634 - val_loss: 2.2219 - val_accuracy: 0.5280\n",
            "Epoch 28/100\n",
            "266/266 [==============================] - 152s 572ms/step - loss: 0.8485 - accuracy: 0.8716 - val_loss: 1.9445 - val_accuracy: 0.5380\n",
            "Epoch 29/100\n",
            "266/266 [==============================] - 152s 571ms/step - loss: 0.7338 - accuracy: 0.8679 - val_loss: 1.7278 - val_accuracy: 0.5320\n",
            "Epoch 30/100\n",
            "266/266 [==============================] - 153s 575ms/step - loss: 0.6412 - accuracy: 0.8717 - val_loss: 1.6153 - val_accuracy: 0.5340\n",
            "Epoch 31/100\n",
            "266/266 [==============================] - 152s 572ms/step - loss: 0.5666 - accuracy: 0.8708 - val_loss: 1.3921 - val_accuracy: 0.5320\n",
            "Epoch 32/100\n",
            "266/266 [==============================] - 152s 571ms/step - loss: 0.5127 - accuracy: 0.8686 - val_loss: 1.2947 - val_accuracy: 0.5300\n",
            "Epoch 33/100\n",
            "266/266 [==============================] - 152s 573ms/step - loss: 0.4762 - accuracy: 0.8713 - val_loss: 1.2119 - val_accuracy: 0.5180\n",
            "Epoch 34/100\n",
            "266/266 [==============================] - 153s 576ms/step - loss: 0.4513 - accuracy: 0.8715 - val_loss: 1.0856 - val_accuracy: 0.5300\n",
            "Epoch 35/100\n",
            "266/266 [==============================] - 153s 574ms/step - loss: 0.4374 - accuracy: 0.8722 - val_loss: 1.0473 - val_accuracy: 0.5300\n",
            "Epoch 36/100\n",
            "266/266 [==============================] - 153s 576ms/step - loss: 0.4290 - accuracy: 0.8740 - val_loss: 1.0450 - val_accuracy: 0.5220\n",
            "Epoch 37/100\n",
            "266/266 [==============================] - 153s 576ms/step - loss: 0.4228 - accuracy: 0.8727 - val_loss: 0.9868 - val_accuracy: 0.5220\n",
            "Epoch 38/100\n",
            "266/266 [==============================] - 154s 578ms/step - loss: 0.4199 - accuracy: 0.8729 - val_loss: 0.9955 - val_accuracy: 0.5180\n",
            "Epoch 39/100\n",
            "266/266 [==============================] - 153s 574ms/step - loss: 0.4174 - accuracy: 0.8705 - val_loss: 0.9832 - val_accuracy: 0.5200\n",
            "Epoch 40/100\n",
            "266/266 [==============================] - 153s 575ms/step - loss: 0.4151 - accuracy: 0.8762 - val_loss: 0.9831 - val_accuracy: 0.5340\n",
            "Epoch 41/100\n",
            "266/266 [==============================] - 153s 575ms/step - loss: 0.4145 - accuracy: 0.8703 - val_loss: 0.9785 - val_accuracy: 0.5260\n",
            "Epoch 42/100\n",
            "266/266 [==============================] - 152s 572ms/step - loss: 0.4144 - accuracy: 0.8709 - val_loss: 0.9618 - val_accuracy: 0.5320\n",
            "Epoch 43/100\n",
            "266/266 [==============================] - 153s 574ms/step - loss: 0.4105 - accuracy: 0.8727 - val_loss: 0.9891 - val_accuracy: 0.5160\n",
            "Epoch 44/100\n",
            "266/266 [==============================] - 153s 575ms/step - loss: 0.4094 - accuracy: 0.8740 - val_loss: 1.0022 - val_accuracy: 0.5220\n",
            "Epoch 45/100\n",
            "266/266 [==============================] - 153s 575ms/step - loss: 0.4087 - accuracy: 0.8726 - val_loss: 0.9997 - val_accuracy: 0.5220\n"
          ]
        }
      ]
    },
    {
      "cell_type": "code",
      "source": [
        "model.evaluate({'text_input': dev_text_ids, 'image_input': dev_image}, dev_labels)"
      ],
      "metadata": {
        "colab": {
          "base_uri": "https://localhost:8080/"
        },
        "id": "0BnHHk6fX0pR",
        "outputId": "c4c0768b-51f6-40a7-b187-f77cc66723d2"
      },
      "execution_count": 29,
      "outputs": [
        {
          "output_type": "stream",
          "name": "stdout",
          "text": [
            "16/16 [==============================] - 2s 123ms/step - loss: 0.9997 - accuracy: 0.5220\n"
          ]
        },
        {
          "output_type": "execute_result",
          "data": {
            "text/plain": [
              "[0.9996974468231201, 0.5220000147819519]"
            ]
          },
          "metadata": {},
          "execution_count": 29
        }
      ]
    },
    {
      "cell_type": "code",
      "source": [
        "y_predicted=model.predict({'text_input': dev_text_ids, 'image_input': dev_image}).round()"
      ],
      "metadata": {
        "colab": {
          "base_uri": "https://localhost:8080/"
        },
        "id": "A6yd4rvGYhG-",
        "outputId": "703d3ad0-c49c-423e-daf2-69048485afc2"
      },
      "execution_count": 30,
      "outputs": [
        {
          "output_type": "stream",
          "name": "stderr",
          "text": [
            "WARNING:tensorflow:Layers in a Sequential model should only have a single input tensor. Received: inputs={'text_input': {'input_ids': <tf.Tensor 'IteratorGetNext:2' shape=(None, 54) dtype=int32>, 'attention_mask': <tf.Tensor 'IteratorGetNext:1' shape=(None, 54) dtype=int32>}, 'image_input': <tf.Tensor 'IteratorGetNext:0' shape=(None, 2048) dtype=float32>}. Consider rewriting this model with the Functional API.\n"
          ]
        },
        {
          "output_type": "stream",
          "name": "stdout",
          "text": [
            "16/16 [==============================] - 5s 120ms/step\n"
          ]
        }
      ]
    },
    {
      "cell_type": "code",
      "source": [
        "from sklearn.metrics import classification_report\n",
        "print(classification_report(dev_labels,y_predicted))"
      ],
      "metadata": {
        "colab": {
          "base_uri": "https://localhost:8080/"
        },
        "id": "4raxbQanYmNp",
        "outputId": "27a6ae21-4825-400e-9b4e-e30ea2cae3fa"
      },
      "execution_count": 31,
      "outputs": [
        {
          "output_type": "stream",
          "name": "stdout",
          "text": [
            "              precision    recall  f1-score   support\n",
            "\n",
            "           0       0.51      0.86      0.64       250\n",
            "           1       0.57      0.19      0.28       250\n",
            "\n",
            "    accuracy                           0.52       500\n",
            "   macro avg       0.54      0.52      0.46       500\n",
            "weighted avg       0.54      0.52      0.46       500\n",
            "\n"
          ]
        }
      ]
    },
    {
      "cell_type": "code",
      "source": [
        "import matplotlib.pyplot as plt\n",
        "\n",
        "plt.plot(history.history['loss'], label='Training Loss')\n",
        "plt.plot(history.history['val_loss'], label='Validation Loss')\n",
        "plt.legend()\n",
        "plt.title('Loss Over Epochs')\n",
        "plt.xlabel('Epoch')\n",
        "plt.ylabel('Loss')\n",
        "plt.show()"
      ],
      "metadata": {
        "colab": {
          "base_uri": "https://localhost:8080/",
          "height": 472
        },
        "id": "7KEpI49RY-yV",
        "outputId": "15852df1-1d0f-483b-d966-19bc7477fb2c"
      },
      "execution_count": 32,
      "outputs": [
        {
          "output_type": "display_data",
          "data": {
            "text/plain": [
              "<Figure size 640x480 with 1 Axes>"
            ],
            "image/png": "[encoded data removed]"
          },
          "metadata": {}
        }
      ]
    }
  ]
}