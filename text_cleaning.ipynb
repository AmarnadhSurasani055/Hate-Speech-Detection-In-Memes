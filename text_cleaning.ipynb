{
  "cells": [
    {
      "cell_type": "code",
      "execution_count": 1,
      "metadata": {
        "id": "PlJtYvX9JJKt"
      },
      "outputs": [],
      "source": [
        "import pandas as pd\n",
        "import numpy as np"
      ]
    },
    {
      "cell_type": "code",
      "execution_count": 2,
      "metadata": {
        "id": "9Nm9vx7YJd9U"
      },
      "outputs": [],
      "source": [
        "train_csv=pd.read_csv('/content/drive/MyDrive/train.csv')\n",
        "cross_validation=pd.read_csv('/content/drive/MyDrive/dev_cleaned.csv')\n",
        "test_cleaned=pd.read_csv('/content/drive/MyDrive/test_cleaned.csv')"
      ]
    },
    {
      "cell_type": "code",
      "execution_count": 3,
      "metadata": {
        "id": "3lQWrLbm3Tuj"
      },
      "outputs": [],
      "source": [
        "train_csv=train_csv.sort_values(by=['id'])"
      ]
    },
    {
      "cell_type": "code",
      "execution_count": 4,
      "metadata": {
        "id": "rpVgKWaa0xe8"
      },
      "outputs": [],
      "source": [
        "test_cleaned.dropna(inplace=True)\n",
        "test_cleaned.reset_index(drop=True,inplace=True)\n",
        "cross_validation.dropna(inplace=True)\n",
        "cross_validation.reset_index(drop=True,inplace=True)"
      ]
    },
    {
      "cell_type": "code",
      "execution_count": 5,
      "metadata": {
        "colab": {
          "base_uri": "https://localhost:8080/",
          "height": 206
        },
        "id": "KCWaVgcw2rMy",
        "outputId": "2a3e9192-99b3-4707-805a-7ce118baeef3"
      },
      "outputs": [
        {
          "output_type": "execute_result",
          "data": {
            "text/plain": [
              "   Unnamed: 0    id            img  \\\n",
              "0          87  1284  img/01284.png   \n",
              "1         613  1324  img/01324.png   \n",
              "2         452  1325  img/01325.png   \n",
              "3         458  1359  img/01359.png   \n",
              "4         633  1364  img/01364.png   \n",
              "\n",
              "                                                text  \\\n",
              "0                                  muslims offend me   \n",
              "1                            the great train robbers   \n",
              "2             when your world cup team scores a goal   \n",
              "3  area 51 naruto runners naruto runners let me i...   \n",
              "4  and that was the last nativity play my son was...   \n",
              "\n",
              "                                        cleaned_text  \n",
              "0                                      muslim offend  \n",
              "1                                 great train robber  \n",
              "2                          world cup team score goal  \n",
              "3  area naruto runner naruto runner let iiiiiiiii...  \n",
              "4           last nativity play son invited take part  "
            ],
            "text/html": [
              "\n",
              "  <div id=\"df-d1a0c070-a824-46fc-89fa-393379b6b3ee\">\n",
              "    <div class=\"colab-df-container\">\n",
              "      <div>\n",
              "<style scoped>\n",
              "    .dataframe tbody tr th:only-of-type {\n",
              "        vertical-align: middle;\n",
              "    }\n",
              "\n",
              "    .dataframe tbody tr th {\n",
              "        vertical-align: top;\n",
              "    }\n",
              "\n",
              "    .dataframe thead th {\n",
              "        text-align: right;\n",
              "    }\n",
              "</style>\n",
              "<table border=\"1\" class=\"dataframe\">\n",
              "  <thead>\n",
              "    <tr style=\"text-align: right;\">\n",
              "      <th></th>\n",
              "      <th>Unnamed: 0</th>\n",
              "      <th>id</th>\n",
              "      <th>img</th>\n",
              "      <th>text</th>\n",
              "      <th>cleaned_text</th>\n",
              "    </tr>\n",
              "  </thead>\n",
              "  <tbody>\n",
              "    <tr>\n",
              "      <th>0</th>\n",
              "      <td>87</td>\n",
              "      <td>1284</td>\n",
              "      <td>img/01284.png</td>\n",
              "      <td>muslims offend me</td>\n",
              "      <td>muslim offend</td>\n",
              "    </tr>\n",
              "    <tr>\n",
              "      <th>1</th>\n",
              "      <td>613</td>\n",
              "      <td>1324</td>\n",
              "      <td>img/01324.png</td>\n",
              "      <td>the great train robbers</td>\n",
              "      <td>great train robber</td>\n",
              "    </tr>\n",
              "    <tr>\n",
              "      <th>2</th>\n",
              "      <td>452</td>\n",
              "      <td>1325</td>\n",
              "      <td>img/01325.png</td>\n",
              "      <td>when your world cup team scores a goal</td>\n",
              "      <td>world cup team score goal</td>\n",
              "    </tr>\n",
              "    <tr>\n",
              "      <th>3</th>\n",
              "      <td>458</td>\n",
              "      <td>1359</td>\n",
              "      <td>img/01359.png</td>\n",
              "      <td>area 51 naruto runners naruto runners let me i...</td>\n",
              "      <td>area naruto runner naruto runner let iiiiiiiii...</td>\n",
              "    </tr>\n",
              "    <tr>\n",
              "      <th>4</th>\n",
              "      <td>633</td>\n",
              "      <td>1364</td>\n",
              "      <td>img/01364.png</td>\n",
              "      <td>and that was the last nativity play my son was...</td>\n",
              "      <td>last nativity play son invited take part</td>\n",
              "    </tr>\n",
              "  </tbody>\n",
              "</table>\n",
              "</div>\n",
              "      <button class=\"colab-df-convert\" onclick=\"convertToInteractive('df-d1a0c070-a824-46fc-89fa-393379b6b3ee')\"\n",
              "              title=\"Convert this dataframe to an interactive table.\"\n",
              "              style=\"display:none;\">\n",
              "        \n",
              "  <svg xmlns=\"http://www.w3.org/2000/svg\" height=\"24px\"viewBox=\"0 0 24 24\"\n",
              "       width=\"24px\">\n",
              "    <path d=\"M0 0h24v24H0V0z\" fill=\"none\"/>\n",
              "    <path d=\"M18.56 5.44l.94 2.06.94-2.06 2.06-.94-2.06-.94-.94-2.06-.94 2.06-2.06.94zm-11 1L8.5 8.5l.94-2.06 2.06-.94-2.06-.94L8.5 2.5l-.94 2.06-2.06.94zm10 10l.94 2.06.94-2.06 2.06-.94-2.06-.94-.94-2.06-.94 2.06-2.06.94z\"/><path d=\"M17.41 7.96l-1.37-1.37c-.4-.4-.92-.59-1.43-.59-.52 0-1.04.2-1.43.59L10.3 9.45l-7.72 7.72c-.78.78-.78 2.05 0 2.83L4 21.41c.39.39.9.59 1.41.59.51 0 1.02-.2 1.41-.59l7.78-7.78 2.81-2.81c.8-.78.8-2.07 0-2.86zM5.41 20L4 18.59l7.72-7.72 1.47 1.35L5.41 20z\"/>\n",
              "  </svg>\n",
              "      </button>\n",
              "      \n",
              "  <style>\n",
              "    .colab-df-container {\n",
              "      display:flex;\n",
              "      flex-wrap:wrap;\n",
              "      gap: 12px;\n",
              "    }\n",
              "\n",
              "    .colab-df-convert {\n",
              "      background-color: #E8F0FE;\n",
              "      border: none;\n",
              "      border-radius: 50%;\n",
              "      cursor: pointer;\n",
              "      display: none;\n",
              "      fill: #1967D2;\n",
              "      height: 32px;\n",
              "      padding: 0 0 0 0;\n",
              "      width: 32px;\n",
              "    }\n",
              "\n",
              "    .colab-df-convert:hover {\n",
              "      background-color: #E2EBFA;\n",
              "      box-shadow: 0px 1px 2px rgba(60, 64, 67, 0.3), 0px 1px 3px 1px rgba(60, 64, 67, 0.15);\n",
              "      fill: #174EA6;\n",
              "    }\n",
              "\n",
              "    [theme=dark] .colab-df-convert {\n",
              "      background-color: #3B4455;\n",
              "      fill: #D2E3FC;\n",
              "    }\n",
              "\n",
              "    [theme=dark] .colab-df-convert:hover {\n",
              "      background-color: #434B5C;\n",
              "      box-shadow: 0px 1px 3px 1px rgba(0, 0, 0, 0.15);\n",
              "      filter: drop-shadow(0px 1px 2px rgba(0, 0, 0, 0.3));\n",
              "      fill: #FFFFFF;\n",
              "    }\n",
              "  </style>\n",
              "\n",
              "      <script>\n",
              "        const buttonEl =\n",
              "          document.querySelector('#df-d1a0c070-a824-46fc-89fa-393379b6b3ee button.colab-df-convert');\n",
              "        buttonEl.style.display =\n",
              "          google.colab.kernel.accessAllowed ? 'block' : 'none';\n",
              "\n",
              "        async function convertToInteractive(key) {\n",
              "          const element = document.querySelector('#df-d1a0c070-a824-46fc-89fa-393379b6b3ee');\n",
              "          const dataTable =\n",
              "            await google.colab.kernel.invokeFunction('convertToInteractive',\n",
              "                                                     [key], {});\n",
              "          if (!dataTable) return;\n",
              "\n",
              "          const docLinkHtml = 'Like what you see? Visit the ' +\n",
              "            '<a target=\"_blank\" href=https://colab.research.google.com/notebooks/data_table.ipynb>data table notebook</a>'\n",
              "            + ' to learn more about interactive tables.';\n",
              "          element.innerHTML = '';\n",
              "          dataTable['output_type'] = 'display_data';\n",
              "          await google.colab.output.renderOutput(dataTable, element);\n",
              "          const docLink = document.createElement('div');\n",
              "          docLink.innerHTML = docLinkHtml;\n",
              "          element.appendChild(docLink);\n",
              "        }\n",
              "      </script>\n",
              "    </div>\n",
              "  </div>\n",
              "  "
            ]
          },
          "metadata": {},
          "execution_count": 5
        }
      ],
      "source": [
        "test_cleaned.head()"
      ]
    },
    {
      "cell_type": "code",
      "execution_count": 6,
      "metadata": {
        "colab": {
          "base_uri": "https://localhost:8080/",
          "height": 206
        },
        "id": "ZcMhDHXYJqT6",
        "outputId": "467aea42-1c43-4d37-c28b-2bd3edaea929"
      },
      "outputs": [
        {
          "output_type": "execute_result",
          "data": {
            "text/plain": [
              "   Unnamed: 0.1  Unnamed: 0    id            img  label  \\\n",
              "0             0        3429  1235  img/01235.png      1   \n",
              "1             1        7329  1236  img/01236.png      0   \n",
              "2             2        6050  1243  img/01243.png      0   \n",
              "3             3        7696  1245  img/01245.png      1   \n",
              "4             4        8339  1247  img/01247.png      1   \n",
              "\n",
              "                                                text  \n",
              "0  when you're feeling horny asf but your habibi ...  \n",
              "1                   meanwhile at the isis strip club  \n",
              "2  when your human says \"who' s a good girl?\" and...  \n",
              "3  and that was the last nativity play my son was...  \n",
              "4      you can't be racist if there is no other race  "
            ],
            "text/html": [
              "\n",
              "  <div id=\"df-4806dd3a-c1cb-4700-83c5-b0e2a4003f30\">\n",
              "    <div class=\"colab-df-container\">\n",
              "      <div>\n",
              "<style scoped>\n",
              "    .dataframe tbody tr th:only-of-type {\n",
              "        vertical-align: middle;\n",
              "    }\n",
              "\n",
              "    .dataframe tbody tr th {\n",
              "        vertical-align: top;\n",
              "    }\n",
              "\n",
              "    .dataframe thead th {\n",
              "        text-align: right;\n",
              "    }\n",
              "</style>\n",
              "<table border=\"1\" class=\"dataframe\">\n",
              "  <thead>\n",
              "    <tr style=\"text-align: right;\">\n",
              "      <th></th>\n",
              "      <th>Unnamed: 0.1</th>\n",
              "      <th>Unnamed: 0</th>\n",
              "      <th>id</th>\n",
              "      <th>img</th>\n",
              "      <th>label</th>\n",
              "      <th>text</th>\n",
              "    </tr>\n",
              "  </thead>\n",
              "  <tbody>\n",
              "    <tr>\n",
              "      <th>0</th>\n",
              "      <td>0</td>\n",
              "      <td>3429</td>\n",
              "      <td>1235</td>\n",
              "      <td>img/01235.png</td>\n",
              "      <td>1</td>\n",
              "      <td>when you're feeling horny asf but your habibi ...</td>\n",
              "    </tr>\n",
              "    <tr>\n",
              "      <th>1</th>\n",
              "      <td>1</td>\n",
              "      <td>7329</td>\n",
              "      <td>1236</td>\n",
              "      <td>img/01236.png</td>\n",
              "      <td>0</td>\n",
              "      <td>meanwhile at the isis strip club</td>\n",
              "    </tr>\n",
              "    <tr>\n",
              "      <th>2</th>\n",
              "      <td>2</td>\n",
              "      <td>6050</td>\n",
              "      <td>1243</td>\n",
              "      <td>img/01243.png</td>\n",
              "      <td>0</td>\n",
              "      <td>when your human says \"who' s a good girl?\" and...</td>\n",
              "    </tr>\n",
              "    <tr>\n",
              "      <th>3</th>\n",
              "      <td>3</td>\n",
              "      <td>7696</td>\n",
              "      <td>1245</td>\n",
              "      <td>img/01245.png</td>\n",
              "      <td>1</td>\n",
              "      <td>and that was the last nativity play my son was...</td>\n",
              "    </tr>\n",
              "    <tr>\n",
              "      <th>4</th>\n",
              "      <td>4</td>\n",
              "      <td>8339</td>\n",
              "      <td>1247</td>\n",
              "      <td>img/01247.png</td>\n",
              "      <td>1</td>\n",
              "      <td>you can't be racist if there is no other race</td>\n",
              "    </tr>\n",
              "  </tbody>\n",
              "</table>\n",
              "</div>\n",
              "      <button class=\"colab-df-convert\" onclick=\"convertToInteractive('df-4806dd3a-c1cb-4700-83c5-b0e2a4003f30')\"\n",
              "              title=\"Convert this dataframe to an interactive table.\"\n",
              "              style=\"display:none;\">\n",
              "        \n",
              "  <svg xmlns=\"http://www.w3.org/2000/svg\" height=\"24px\"viewBox=\"0 0 24 24\"\n",
              "       width=\"24px\">\n",
              "    <path d=\"M0 0h24v24H0V0z\" fill=\"none\"/>\n",
              "    <path d=\"M18.56 5.44l.94 2.06.94-2.06 2.06-.94-2.06-.94-.94-2.06-.94 2.06-2.06.94zm-11 1L8.5 8.5l.94-2.06 2.06-.94-2.06-.94L8.5 2.5l-.94 2.06-2.06.94zm10 10l.94 2.06.94-2.06 2.06-.94-2.06-.94-.94-2.06-.94 2.06-2.06.94z\"/><path d=\"M17.41 7.96l-1.37-1.37c-.4-.4-.92-.59-1.43-.59-.52 0-1.04.2-1.43.59L10.3 9.45l-7.72 7.72c-.78.78-.78 2.05 0 2.83L4 21.41c.39.39.9.59 1.41.59.51 0 1.02-.2 1.41-.59l7.78-7.78 2.81-2.81c.8-.78.8-2.07 0-2.86zM5.41 20L4 18.59l7.72-7.72 1.47 1.35L5.41 20z\"/>\n",
              "  </svg>\n",
              "      </button>\n",
              "      \n",
              "  <style>\n",
              "    .colab-df-container {\n",
              "      display:flex;\n",
              "      flex-wrap:wrap;\n",
              "      gap: 12px;\n",
              "    }\n",
              "\n",
              "    .colab-df-convert {\n",
              "      background-color: #E8F0FE;\n",
              "      border: none;\n",
              "      border-radius: 50%;\n",
              "      cursor: pointer;\n",
              "      display: none;\n",
              "      fill: #1967D2;\n",
              "      height: 32px;\n",
              "      padding: 0 0 0 0;\n",
              "      width: 32px;\n",
              "    }\n",
              "\n",
              "    .colab-df-convert:hover {\n",
              "      background-color: #E2EBFA;\n",
              "      box-shadow: 0px 1px 2px rgba(60, 64, 67, 0.3), 0px 1px 3px 1px rgba(60, 64, 67, 0.15);\n",
              "      fill: #174EA6;\n",
              "    }\n",
              "\n",
              "    [theme=dark] .colab-df-convert {\n",
              "      background-color: #3B4455;\n",
              "      fill: #D2E3FC;\n",
              "    }\n",
              "\n",
              "    [theme=dark] .colab-df-convert:hover {\n",
              "      background-color: #434B5C;\n",
              "      box-shadow: 0px 1px 3px 1px rgba(0, 0, 0, 0.15);\n",
              "      filter: drop-shadow(0px 1px 2px rgba(0, 0, 0, 0.3));\n",
              "      fill: #FFFFFF;\n",
              "    }\n",
              "  </style>\n",
              "\n",
              "      <script>\n",
              "        const buttonEl =\n",
              "          document.querySelector('#df-4806dd3a-c1cb-4700-83c5-b0e2a4003f30 button.colab-df-convert');\n",
              "        buttonEl.style.display =\n",
              "          google.colab.kernel.accessAllowed ? 'block' : 'none';\n",
              "\n",
              "        async function convertToInteractive(key) {\n",
              "          const element = document.querySelector('#df-4806dd3a-c1cb-4700-83c5-b0e2a4003f30');\n",
              "          const dataTable =\n",
              "            await google.colab.kernel.invokeFunction('convertToInteractive',\n",
              "                                                     [key], {});\n",
              "          if (!dataTable) return;\n",
              "\n",
              "          const docLinkHtml = 'Like what you see? Visit the ' +\n",
              "            '<a target=\"_blank\" href=https://colab.research.google.com/notebooks/data_table.ipynb>data table notebook</a>'\n",
              "            + ' to learn more about interactive tables.';\n",
              "          element.innerHTML = '';\n",
              "          dataTable['output_type'] = 'display_data';\n",
              "          await google.colab.output.renderOutput(dataTable, element);\n",
              "          const docLink = document.createElement('div');\n",
              "          docLink.innerHTML = docLinkHtml;\n",
              "          element.appendChild(docLink);\n",
              "        }\n",
              "      </script>\n",
              "    </div>\n",
              "  </div>\n",
              "  "
            ]
          },
          "metadata": {},
          "execution_count": 6
        }
      ],
      "source": [
        "train_csv.head()"
      ]
    },
    {
      "cell_type": "code",
      "execution_count": 7,
      "metadata": {
        "colab": {
          "base_uri": "https://localhost:8080/",
          "height": 206
        },
        "id": "g-XyI2mdJtyC",
        "outputId": "26fda6c3-3db8-47a5-9d2b-0c4c0d5f7230"
      },
      "outputs": [
        {
          "output_type": "execute_result",
          "data": {
            "text/plain": [
              "      Unnamed: 0.1  Unnamed: 0     id            img  label  \\\n",
              "8495          8495        5894  98752  img/98752.png      0   \n",
              "8496          8496        4994  98754  img/98754.png      1   \n",
              "8497          8497        1789  98756  img/98756.png      1   \n",
              "8498          8498        7326  98762  img/98762.png      0   \n",
              "8499          8499         565  98764  img/98764.png      0   \n",
              "\n",
              "                                                   text  \n",
              "8495                                    shut up ontario  \n",
              "8496  400 years of slavery rape and murder but now s...  \n",
              "8497  this dude wants to use the same restroom as yo...  \n",
              "8498              child in poverty with empty water jug  \n",
              "8499               african kids dancing and celebrating  "
            ],
            "text/html": [
              "\n",
              "  <div id=\"df-b40f362b-ed24-4730-9eaa-c738cf6721e4\">\n",
              "    <div class=\"colab-df-container\">\n",
              "      <div>\n",
              "<style scoped>\n",
              "    .dataframe tbody tr th:only-of-type {\n",
              "        vertical-align: middle;\n",
              "    }\n",
              "\n",
              "    .dataframe tbody tr th {\n",
              "        vertical-align: top;\n",
              "    }\n",
              "\n",
              "    .dataframe thead th {\n",
              "        text-align: right;\n",
              "    }\n",
              "</style>\n",
              "<table border=\"1\" class=\"dataframe\">\n",
              "  <thead>\n",
              "    <tr style=\"text-align: right;\">\n",
              "      <th></th>\n",
              "      <th>Unnamed: 0.1</th>\n",
              "      <th>Unnamed: 0</th>\n",
              "      <th>id</th>\n",
              "      <th>img</th>\n",
              "      <th>label</th>\n",
              "      <th>text</th>\n",
              "    </tr>\n",
              "  </thead>\n",
              "  <tbody>\n",
              "    <tr>\n",
              "      <th>8495</th>\n",
              "      <td>8495</td>\n",
              "      <td>5894</td>\n",
              "      <td>98752</td>\n",
              "      <td>img/98752.png</td>\n",
              "      <td>0</td>\n",
              "      <td>shut up ontario</td>\n",
              "    </tr>\n",
              "    <tr>\n",
              "      <th>8496</th>\n",
              "      <td>8496</td>\n",
              "      <td>4994</td>\n",
              "      <td>98754</td>\n",
              "      <td>img/98754.png</td>\n",
              "      <td>1</td>\n",
              "      <td>400 years of slavery rape and murder but now s...</td>\n",
              "    </tr>\n",
              "    <tr>\n",
              "      <th>8497</th>\n",
              "      <td>8497</td>\n",
              "      <td>1789</td>\n",
              "      <td>98756</td>\n",
              "      <td>img/98756.png</td>\n",
              "      <td>1</td>\n",
              "      <td>this dude wants to use the same restroom as yo...</td>\n",
              "    </tr>\n",
              "    <tr>\n",
              "      <th>8498</th>\n",
              "      <td>8498</td>\n",
              "      <td>7326</td>\n",
              "      <td>98762</td>\n",
              "      <td>img/98762.png</td>\n",
              "      <td>0</td>\n",
              "      <td>child in poverty with empty water jug</td>\n",
              "    </tr>\n",
              "    <tr>\n",
              "      <th>8499</th>\n",
              "      <td>8499</td>\n",
              "      <td>565</td>\n",
              "      <td>98764</td>\n",
              "      <td>img/98764.png</td>\n",
              "      <td>0</td>\n",
              "      <td>african kids dancing and celebrating</td>\n",
              "    </tr>\n",
              "  </tbody>\n",
              "</table>\n",
              "</div>\n",
              "      <button class=\"colab-df-convert\" onclick=\"convertToInteractive('df-b40f362b-ed24-4730-9eaa-c738cf6721e4')\"\n",
              "              title=\"Convert this dataframe to an interactive table.\"\n",
              "              style=\"display:none;\">\n",
              "        \n",
              "  <svg xmlns=\"http://www.w3.org/2000/svg\" height=\"24px\"viewBox=\"0 0 24 24\"\n",
              "       width=\"24px\">\n",
              "    <path d=\"M0 0h24v24H0V0z\" fill=\"none\"/>\n",
              "    <path d=\"M18.56 5.44l.94 2.06.94-2.06 2.06-.94-2.06-.94-.94-2.06-.94 2.06-2.06.94zm-11 1L8.5 8.5l.94-2.06 2.06-.94-2.06-.94L8.5 2.5l-.94 2.06-2.06.94zm10 10l.94 2.06.94-2.06 2.06-.94-2.06-.94-.94-2.06-.94 2.06-2.06.94z\"/><path d=\"M17.41 7.96l-1.37-1.37c-.4-.4-.92-.59-1.43-.59-.52 0-1.04.2-1.43.59L10.3 9.45l-7.72 7.72c-.78.78-.78 2.05 0 2.83L4 21.41c.39.39.9.59 1.41.59.51 0 1.02-.2 1.41-.59l7.78-7.78 2.81-2.81c.8-.78.8-2.07 0-2.86zM5.41 20L4 18.59l7.72-7.72 1.47 1.35L5.41 20z\"/>\n",
              "  </svg>\n",
              "      </button>\n",
              "      \n",
              "  <style>\n",
              "    .colab-df-container {\n",
              "      display:flex;\n",
              "      flex-wrap:wrap;\n",
              "      gap: 12px;\n",
              "    }\n",
              "\n",
              "    .colab-df-convert {\n",
              "      background-color: #E8F0FE;\n",
              "      border: none;\n",
              "      border-radius: 50%;\n",
              "      cursor: pointer;\n",
              "      display: none;\n",
              "      fill: #1967D2;\n",
              "      height: 32px;\n",
              "      padding: 0 0 0 0;\n",
              "      width: 32px;\n",
              "    }\n",
              "\n",
              "    .colab-df-convert:hover {\n",
              "      background-color: #E2EBFA;\n",
              "      box-shadow: 0px 1px 2px rgba(60, 64, 67, 0.3), 0px 1px 3px 1px rgba(60, 64, 67, 0.15);\n",
              "      fill: #174EA6;\n",
              "    }\n",
              "\n",
              "    [theme=dark] .colab-df-convert {\n",
              "      background-color: #3B4455;\n",
              "      fill: #D2E3FC;\n",
              "    }\n",
              "\n",
              "    [theme=dark] .colab-df-convert:hover {\n",
              "      background-color: #434B5C;\n",
              "      box-shadow: 0px 1px 3px 1px rgba(0, 0, 0, 0.15);\n",
              "      filter: drop-shadow(0px 1px 2px rgba(0, 0, 0, 0.3));\n",
              "      fill: #FFFFFF;\n",
              "    }\n",
              "  </style>\n",
              "\n",
              "      <script>\n",
              "        const buttonEl =\n",
              "          document.querySelector('#df-b40f362b-ed24-4730-9eaa-c738cf6721e4 button.colab-df-convert');\n",
              "        buttonEl.style.display =\n",
              "          google.colab.kernel.accessAllowed ? 'block' : 'none';\n",
              "\n",
              "        async function convertToInteractive(key) {\n",
              "          const element = document.querySelector('#df-b40f362b-ed24-4730-9eaa-c738cf6721e4');\n",
              "          const dataTable =\n",
              "            await google.colab.kernel.invokeFunction('convertToInteractive',\n",
              "                                                     [key], {});\n",
              "          if (!dataTable) return;\n",
              "\n",
              "          const docLinkHtml = 'Like what you see? Visit the ' +\n",
              "            '<a target=\"_blank\" href=https://colab.research.google.com/notebooks/data_table.ipynb>data table notebook</a>'\n",
              "            + ' to learn more about interactive tables.';\n",
              "          element.innerHTML = '';\n",
              "          dataTable['output_type'] = 'display_data';\n",
              "          await google.colab.output.renderOutput(dataTable, element);\n",
              "          const docLink = document.createElement('div');\n",
              "          docLink.innerHTML = docLinkHtml;\n",
              "          element.appendChild(docLink);\n",
              "        }\n",
              "      </script>\n",
              "    </div>\n",
              "  </div>\n",
              "  "
            ]
          },
          "metadata": {},
          "execution_count": 7
        }
      ],
      "source": [
        "train_csv.tail()"
      ]
    },
    {
      "cell_type": "code",
      "execution_count": 8,
      "metadata": {
        "colab": {
          "base_uri": "https://localhost:8080/"
        },
        "id": "6LvSQfUVJx7L",
        "outputId": "cdbf4133-9182-4659-8f33-9769aa190309"
      },
      "outputs": [
        {
          "output_type": "execute_result",
          "data": {
            "text/plain": [
              "(8500, 6)"
            ]
          },
          "metadata": {},
          "execution_count": 8
        }
      ],
      "source": [
        "train_csv.shape"
      ]
    },
    {
      "cell_type": "markdown",
      "metadata": {
        "id": "H3YesX4uPS1_"
      },
      "source": [
        "Text cleaning"
      ]
    },
    {
      "cell_type": "code",
      "execution_count": 9,
      "metadata": {
        "id": "ehSa3IE_LkV1"
      },
      "outputs": [],
      "source": [
        "text_data=np.array(train_csv['text'])"
      ]
    },
    {
      "cell_type": "code",
      "execution_count": 10,
      "metadata": {
        "id": "gK4u9LLGPnRt"
      },
      "outputs": [],
      "source": [
        "import pandas as pd\n",
        "import numpy as np\n",
        "import nltk\n",
        "from nltk.corpus import stopwords\n",
        "from nltk.stem import WordNetLemmatizer\n",
        "import re"
      ]
    },
    {
      "cell_type": "code",
      "execution_count": 11,
      "metadata": {
        "colab": {
          "base_uri": "https://localhost:8080/"
        },
        "id": "0lT8dAuOPs0H",
        "outputId": "9f430e03-7937-42e1-92fc-22ec4f8cb1a9"
      },
      "outputs": [
        {
          "output_type": "stream",
          "name": "stderr",
          "text": [
            "[nltk_data] Downloading package stopwords to /root/nltk_data...\n",
            "[nltk_data]   Unzipping corpora/stopwords.zip.\n",
            "[nltk_data] Downloading package punkt to /root/nltk_data...\n",
            "[nltk_data]   Unzipping tokenizers/punkt.zip.\n",
            "[nltk_data] Downloading package wordnet to /root/nltk_data...\n",
            "[nltk_data] Downloading package omw-1.4 to /root/nltk_data...\n"
          ]
        },
        {
          "output_type": "execute_result",
          "data": {
            "text/plain": [
              "True"
            ]
          },
          "metadata": {},
          "execution_count": 11
        }
      ],
      "source": [
        "nltk.download('stopwords')\n",
        "nltk.download('punkt')\n",
        "nltk.download('wordnet')\n",
        "nltk.download('omw-1.4')"
      ]
    },
    {
      "cell_type": "code",
      "execution_count": 12,
      "metadata": {
        "id": "mSssmodPPuKs"
      },
      "outputs": [],
      "source": [
        "stop_words=stopwords.words('english')\n",
        "lemmatizer=WordNetLemmatizer()"
      ]
    },
    {
      "cell_type": "code",
      "execution_count": 13,
      "metadata": {
        "id": "2_QHalq4Qk8V"
      },
      "outputs": [],
      "source": [
        "cleaned_data=[]"
      ]
    },
    {
      "cell_type": "code",
      "execution_count": 14,
      "metadata": {
        "id": "QQlE6XtrPxDU"
      },
      "outputs": [],
      "source": [
        "for text in text_data:\n",
        "  text=text.lower()\n",
        "    #statement1-removing special characters and Punctuation\n",
        "  sentence=re.sub(r'[^\\w\\s]','',text)\n",
        "    #statement2-removing numbers from text\n",
        "  sentence=re.sub(r'[0-9]+','',sentence)\n",
        "    #statement3-removing html tags and urls from text\n",
        "  sentence = re.sub(r'<.*?>', '', sentence)\n",
        "    #statement4-removing urls from text\n",
        "  clean_text = re.sub(r'http\\S+', '',sentence)\n",
        "    #statement5-text to word tokenization\n",
        "  sentence=nltk.word_tokenize(sentence)\n",
        "    #statement6-removing stop_words\n",
        "  i=0\n",
        "  while i<3:\n",
        "    sentence = [word for word in sentence if word.lower() not in stop_words]\n",
        "    i=i+1\n",
        "  lst=[]\n",
        "   #statement7-lemmatization\n",
        "  for word in sentence:\n",
        "    lst.append(lemmatizer.lemmatize(word))\n",
        "  #statement8-joing words to form sentence\n",
        "  cleaned_text=' '.join(lst)\n",
        "  cleaned_data.append(cleaned_text)"
      ]
    },
    {
      "cell_type": "code",
      "execution_count": 15,
      "metadata": {
        "id": "G26uU9LfRGoy"
      },
      "outputs": [],
      "source": [
        "train_csv['cleaned_text']=cleaned_data"
      ]
    },
    {
      "cell_type": "code",
      "execution_count": 16,
      "metadata": {
        "colab": {
          "base_uri": "https://localhost:8080/"
        },
        "id": "WLQg8FiBiPIJ",
        "outputId": "44232f30-2be4-4527-eba4-915b155afcfb"
      },
      "outputs": [
        {
          "output_type": "execute_result",
          "data": {
            "text/plain": [
              "0    youre feeling horny asf habibi period let try ...\n",
              "1                             meanwhile isi strip club\n",
              "2                     human say good girl already know\n",
              "3             last nativity play son invited take part\n",
              "4                                     cant racist race\n",
              "Name: cleaned_text, dtype: object"
            ]
          },
          "metadata": {},
          "execution_count": 16
        }
      ],
      "source": [
        "train_csv['cleaned_text'].head()"
      ]
    },
    {
      "cell_type": "markdown",
      "metadata": {
        "id": "Fr34XBQexuTZ"
      },
      "source": [
        "Text to Numerical Word Embedding"
      ]
    },
    {
      "cell_type": "code",
      "execution_count": 17,
      "metadata": {
        "id": "xdyjnkgaxtEO"
      },
      "outputs": [],
      "source": [
        "import gensim\n",
        "from sklearn.manifold import TSNE\n",
        "import matplotlib.pyplot as plt"
      ]
    },
    {
      "cell_type": "code",
      "execution_count": 18,
      "metadata": {
        "id": "GbsbiBnarUln"
      },
      "outputs": [],
      "source": [
        "sentences=list(train_csv['cleaned_text'])"
      ]
    },
    {
      "cell_type": "code",
      "execution_count": 19,
      "metadata": {
        "id": "P3UNcgip3hLF"
      },
      "outputs": [],
      "source": [
        "for i in range(len(sentences)):\n",
        "  sentences[i]=sentences[i].split(' ')"
      ]
    },
    {
      "cell_type": "code",
      "execution_count": 20,
      "metadata": {
        "id": "i-209FuN16L2"
      },
      "outputs": [],
      "source": [
        "model = gensim.models.Word2Vec(sentences,vector_size=300, window=5, min_count=1, workers=2)"
      ]
    },
    {
      "cell_type": "code",
      "execution_count": 21,
      "metadata": {
        "id": "sIppqowVu4GI"
      },
      "outputs": [],
      "source": [
        "word_vectors=model.wv"
      ]
    },
    {
      "cell_type": "code",
      "execution_count": 22,
      "metadata": {
        "id": "y8JGfC2cFgCF"
      },
      "outputs": [],
      "source": [
        "def embed_values(sentences):\n",
        "  for i in range(len(sentences)):\n",
        "    sentences[i]=sentences[i].split(' ')\n",
        "  encoded_sentences = []\n",
        "  for sentence in sentences:\n",
        "    encoded_words = []\n",
        "    for word in sentence:\n",
        "      try:\n",
        "        vector = word_vectors[word]\n",
        "      except KeyError:\n",
        "        # Handle out-of-vocabulary words using a zero vector or another strategy\n",
        "        vector = np.zeros(model.vector_size, dtype=float)\n",
        "      encoded_words.append(vector)\n",
        "    encoded_sentences.append(encoded_words)\n",
        "  return encoded_sentences"
      ]
    },
    {
      "cell_type": "code",
      "execution_count": 23,
      "metadata": {
        "colab": {
          "base_uri": "https://localhost:8080/",
          "height": 423
        },
        "id": "2YBPoQa943lj",
        "outputId": "ce550798-5157-4f96-a600-b016cded35ca"
      },
      "outputs": [
        {
          "output_type": "execute_result",
          "data": {
            "text/plain": [
              "     Unnamed: 0     id            img  label  \\\n",
              "0           494   1268  img/01268.png      0   \n",
              "1           159   1456  img/01456.png      1   \n",
              "2           332   1726  img/01726.png      1   \n",
              "3           220   1742  img/01742.png      0   \n",
              "4           217   1765  img/01765.png      1   \n",
              "..          ...    ...            ...    ...   \n",
              "495         457  98235  img/98235.png      0   \n",
              "496         412  98543  img/98543.png      1   \n",
              "497         271  98547  img/98547.png      0   \n",
              "498         164  98701  img/98701.png      1   \n",
              "499         356  98720  img/98720.png      0   \n",
              "\n",
              "                                                  text  \\\n",
              "0    father and daughter bonding time is the best l...   \n",
              "1              they see them rollin..... they hating..   \n",
              "2          a real man loads the dishwasher every night   \n",
              "3    in just one hour from now i'll only have 4 hou...   \n",
              "4    after a girl dies, what organ in her body stay...   \n",
              "..                                                 ...   \n",
              "495                                  fashion forward !   \n",
              "496                                       upper downer   \n",
              "497  waves mexican flag doesn't want to live in mexico   \n",
              "498                        oh no i can't steal anymore   \n",
              "499  when your wife just died giving birth to your ...   \n",
              "\n",
              "                                          cleaned_text  \n",
              "0    father daughter bonding time best like share a...  \n",
              "1                                    see rollin hating  \n",
              "2                 real man load dishwasher every night  \n",
              "3                one hour ill hour left work mere hour  \n",
              "4                    girl dy organ body stay warm dick  \n",
              "..                                                 ...  \n",
              "495                                    fashion forward  \n",
              "496                                       upper downer  \n",
              "497          wave mexican flag doesnt want live mexico  \n",
              "498                              oh cant steal anymore  \n",
              "499  wife died giving birth daughter youre alone ro...  \n",
              "\n",
              "[500 rows x 6 columns]"
            ],
            "text/html": [
              "\n",
              "  <div id=\"df-3bb30a59-15a8-413c-a00a-56a04f810204\">\n",
              "    <div class=\"colab-df-container\">\n",
              "      <div>\n",
              "<style scoped>\n",
              "    .dataframe tbody tr th:only-of-type {\n",
              "        vertical-align: middle;\n",
              "    }\n",
              "\n",
              "    .dataframe tbody tr th {\n",
              "        vertical-align: top;\n",
              "    }\n",
              "\n",
              "    .dataframe thead th {\n",
              "        text-align: right;\n",
              "    }\n",
              "</style>\n",
              "<table border=\"1\" class=\"dataframe\">\n",
              "  <thead>\n",
              "    <tr style=\"text-align: right;\">\n",
              "      <th></th>\n",
              "      <th>Unnamed: 0</th>\n",
              "      <th>id</th>\n",
              "      <th>img</th>\n",
              "      <th>label</th>\n",
              "      <th>text</th>\n",
              "      <th>cleaned_text</th>\n",
              "    </tr>\n",
              "  </thead>\n",
              "  <tbody>\n",
              "    <tr>\n",
              "      <th>0</th>\n",
              "      <td>494</td>\n",
              "      <td>1268</td>\n",
              "      <td>img/01268.png</td>\n",
              "      <td>0</td>\n",
              "      <td>father and daughter bonding time is the best l...</td>\n",
              "      <td>father daughter bonding time best like share a...</td>\n",
              "    </tr>\n",
              "    <tr>\n",
              "      <th>1</th>\n",
              "      <td>159</td>\n",
              "      <td>1456</td>\n",
              "      <td>img/01456.png</td>\n",
              "      <td>1</td>\n",
              "      <td>they see them rollin..... they hating..</td>\n",
              "      <td>see rollin hating</td>\n",
              "    </tr>\n",
              "    <tr>\n",
              "      <th>2</th>\n",
              "      <td>332</td>\n",
              "      <td>1726</td>\n",
              "      <td>img/01726.png</td>\n",
              "      <td>1</td>\n",
              "      <td>a real man loads the dishwasher every night</td>\n",
              "      <td>real man load dishwasher every night</td>\n",
              "    </tr>\n",
              "    <tr>\n",
              "      <th>3</th>\n",
              "      <td>220</td>\n",
              "      <td>1742</td>\n",
              "      <td>img/01742.png</td>\n",
              "      <td>0</td>\n",
              "      <td>in just one hour from now i'll only have 4 hou...</td>\n",
              "      <td>one hour ill hour left work mere hour</td>\n",
              "    </tr>\n",
              "    <tr>\n",
              "      <th>4</th>\n",
              "      <td>217</td>\n",
              "      <td>1765</td>\n",
              "      <td>img/01765.png</td>\n",
              "      <td>1</td>\n",
              "      <td>after a girl dies, what organ in her body stay...</td>\n",
              "      <td>girl dy organ body stay warm dick</td>\n",
              "    </tr>\n",
              "    <tr>\n",
              "      <th>...</th>\n",
              "      <td>...</td>\n",
              "      <td>...</td>\n",
              "      <td>...</td>\n",
              "      <td>...</td>\n",
              "      <td>...</td>\n",
              "      <td>...</td>\n",
              "    </tr>\n",
              "    <tr>\n",
              "      <th>495</th>\n",
              "      <td>457</td>\n",
              "      <td>98235</td>\n",
              "      <td>img/98235.png</td>\n",
              "      <td>0</td>\n",
              "      <td>fashion forward !</td>\n",
              "      <td>fashion forward</td>\n",
              "    </tr>\n",
              "    <tr>\n",
              "      <th>496</th>\n",
              "      <td>412</td>\n",
              "      <td>98543</td>\n",
              "      <td>img/98543.png</td>\n",
              "      <td>1</td>\n",
              "      <td>upper downer</td>\n",
              "      <td>upper downer</td>\n",
              "    </tr>\n",
              "    <tr>\n",
              "      <th>497</th>\n",
              "      <td>271</td>\n",
              "      <td>98547</td>\n",
              "      <td>img/98547.png</td>\n",
              "      <td>0</td>\n",
              "      <td>waves mexican flag doesn't want to live in mexico</td>\n",
              "      <td>wave mexican flag doesnt want live mexico</td>\n",
              "    </tr>\n",
              "    <tr>\n",
              "      <th>498</th>\n",
              "      <td>164</td>\n",
              "      <td>98701</td>\n",
              "      <td>img/98701.png</td>\n",
              "      <td>1</td>\n",
              "      <td>oh no i can't steal anymore</td>\n",
              "      <td>oh cant steal anymore</td>\n",
              "    </tr>\n",
              "    <tr>\n",
              "      <th>499</th>\n",
              "      <td>356</td>\n",
              "      <td>98720</td>\n",
              "      <td>img/98720.png</td>\n",
              "      <td>0</td>\n",
              "      <td>when your wife just died giving birth to your ...</td>\n",
              "      <td>wife died giving birth daughter youre alone ro...</td>\n",
              "    </tr>\n",
              "  </tbody>\n",
              "</table>\n",
              "<p>500 rows × 6 columns</p>\n",
              "</div>\n",
              "      <button class=\"colab-df-convert\" onclick=\"convertToInteractive('df-3bb30a59-15a8-413c-a00a-56a04f810204')\"\n",
              "              title=\"Convert this dataframe to an interactive table.\"\n",
              "              style=\"display:none;\">\n",
              "        \n",
              "  <svg xmlns=\"http://www.w3.org/2000/svg\" height=\"24px\"viewBox=\"0 0 24 24\"\n",
              "       width=\"24px\">\n",
              "    <path d=\"M0 0h24v24H0V0z\" fill=\"none\"/>\n",
              "    <path d=\"M18.56 5.44l.94 2.06.94-2.06 2.06-.94-2.06-.94-.94-2.06-.94 2.06-2.06.94zm-11 1L8.5 8.5l.94-2.06 2.06-.94-2.06-.94L8.5 2.5l-.94 2.06-2.06.94zm10 10l.94 2.06.94-2.06 2.06-.94-2.06-.94-.94-2.06-.94 2.06-2.06.94z\"/><path d=\"M17.41 7.96l-1.37-1.37c-.4-.4-.92-.59-1.43-.59-.52 0-1.04.2-1.43.59L10.3 9.45l-7.72 7.72c-.78.78-.78 2.05 0 2.83L4 21.41c.39.39.9.59 1.41.59.51 0 1.02-.2 1.41-.59l7.78-7.78 2.81-2.81c.8-.78.8-2.07 0-2.86zM5.41 20L4 18.59l7.72-7.72 1.47 1.35L5.41 20z\"/>\n",
              "  </svg>\n",
              "      </button>\n",
              "      \n",
              "  <style>\n",
              "    .colab-df-container {\n",
              "      display:flex;\n",
              "      flex-wrap:wrap;\n",
              "      gap: 12px;\n",
              "    }\n",
              "\n",
              "    .colab-df-convert {\n",
              "      background-color: #E8F0FE;\n",
              "      border: none;\n",
              "      border-radius: 50%;\n",
              "      cursor: pointer;\n",
              "      display: none;\n",
              "      fill: #1967D2;\n",
              "      height: 32px;\n",
              "      padding: 0 0 0 0;\n",
              "      width: 32px;\n",
              "    }\n",
              "\n",
              "    .colab-df-convert:hover {\n",
              "      background-color: #E2EBFA;\n",
              "      box-shadow: 0px 1px 2px rgba(60, 64, 67, 0.3), 0px 1px 3px 1px rgba(60, 64, 67, 0.15);\n",
              "      fill: #174EA6;\n",
              "    }\n",
              "\n",
              "    [theme=dark] .colab-df-convert {\n",
              "      background-color: #3B4455;\n",
              "      fill: #D2E3FC;\n",
              "    }\n",
              "\n",
              "    [theme=dark] .colab-df-convert:hover {\n",
              "      background-color: #434B5C;\n",
              "      box-shadow: 0px 1px 3px 1px rgba(0, 0, 0, 0.15);\n",
              "      filter: drop-shadow(0px 1px 2px rgba(0, 0, 0, 0.3));\n",
              "      fill: #FFFFFF;\n",
              "    }\n",
              "  </style>\n",
              "\n",
              "      <script>\n",
              "        const buttonEl =\n",
              "          document.querySelector('#df-3bb30a59-15a8-413c-a00a-56a04f810204 button.colab-df-convert');\n",
              "        buttonEl.style.display =\n",
              "          google.colab.kernel.accessAllowed ? 'block' : 'none';\n",
              "\n",
              "        async function convertToInteractive(key) {\n",
              "          const element = document.querySelector('#df-3bb30a59-15a8-413c-a00a-56a04f810204');\n",
              "          const dataTable =\n",
              "            await google.colab.kernel.invokeFunction('convertToInteractive',\n",
              "                                                     [key], {});\n",
              "          if (!dataTable) return;\n",
              "\n",
              "          const docLinkHtml = 'Like what you see? Visit the ' +\n",
              "            '<a target=\"_blank\" href=https://colab.research.google.com/notebooks/data_table.ipynb>data table notebook</a>'\n",
              "            + ' to learn more about interactive tables.';\n",
              "          element.innerHTML = '';\n",
              "          dataTable['output_type'] = 'display_data';\n",
              "          await google.colab.output.renderOutput(dataTable, element);\n",
              "          const docLink = document.createElement('div');\n",
              "          docLink.innerHTML = docLinkHtml;\n",
              "          element.appendChild(docLink);\n",
              "        }\n",
              "      </script>\n",
              "    </div>\n",
              "  </div>\n",
              "  "
            ]
          },
          "metadata": {},
          "execution_count": 23
        }
      ],
      "source": [
        "cross_validation"
      ]
    },
    {
      "cell_type": "code",
      "execution_count": 24,
      "metadata": {
        "colab": {
          "base_uri": "https://localhost:8080/"
        },
        "id": "j6Y7xdePGWUx",
        "outputId": "4b616f33-256c-42bc-92e0-a7e5d0446c6b"
      },
      "outputs": [
        {
          "output_type": "stream",
          "name": "stderr",
          "text": [
            "<ipython-input-22-d31fb59aa3e0>:3: SettingWithCopyWarning: \n",
            "A value is trying to be set on a copy of a slice from a DataFrame\n",
            "\n",
            "See the caveats in the documentation: https://pandas.pydata.org/pandas-docs/stable/user_guide/indexing.html#returning-a-view-versus-a-copy\n",
            "  sentences[i]=sentences[i].split(' ')\n"
          ]
        }
      ],
      "source": [
        "train_encoded_sentences=embed_values(train_csv['cleaned_text'])\n",
        "#test_encoded_sentences=embed_values(test_cleaned['cleaned_text'])\n",
        "cross_validation_encoded_sentences=embed_values(cross_validation['cleaned_text'])"
      ]
    },
    {
      "cell_type": "code",
      "execution_count": 25,
      "metadata": {
        "id": "i7UdS8e-ufyk"
      },
      "outputs": [],
      "source": [
        "def padding(encoded_sentences):\n",
        "  #max_length = max([len(sentence) for sentence in encoded_sentences])\n",
        "  max_length=46\n",
        "  padded_sequences = np.zeros((len(encoded_sentences), max_length, word_vectors.vector_size))\n",
        "  for i, sequence in enumerate(encoded_sentences):\n",
        "    padded_sequences[i, :len(sequence), :] = sequence\n",
        "  return padded_sequences"
      ]
    },
    {
      "cell_type": "code",
      "execution_count": 26,
      "metadata": {
        "id": "gGFdAwSkHESB"
      },
      "outputs": [],
      "source": [
        "X_train=padding(train_encoded_sentences)\n",
        "y_train=train_csv['label']\n",
        "X_dev=padding(cross_validation_encoded_sentences)\n",
        "y_dev=np.array(cross_validation['label'])"
      ]
    },
    {
      "cell_type": "markdown",
      "metadata": {
        "id": "5Pvj6iX6aZ7I"
      },
      "source": [
        "LSTM"
      ]
    },
    {
      "cell_type": "code",
      "execution_count": 27,
      "metadata": {
        "id": "UMRSURa1Vt0S"
      },
      "outputs": [],
      "source": [
        "import tensorflow as tf\n",
        "from keras.callbacks import EarlyStopping\n",
        "from keras.regularizers import l1, l2\n",
        "from keras.metrics import AUC"
      ]
    },
    {
      "cell_type": "code",
      "execution_count": 28,
      "metadata": {
        "id": "3QPriHIGVquH"
      },
      "outputs": [],
      "source": [
        "model = tf.keras.Sequential([\n",
        "    tf.keras.layers.LSTM(32, input_shape=(None, 300),kernel_regularizer=l2(15)),\n",
        "    tf.keras.layers.Dropout(0.5),\n",
        "    tf.keras.layers.Dense(1, activation='sigmoid')\n",
        "])"
      ]
    },
    {
      "cell_type": "code",
      "execution_count": 29,
      "metadata": {
        "id": "iWPQJi0uV0kS"
      },
      "outputs": [],
      "source": [
        "model.compile(optimizer=tf.keras.optimizers.Adam(learning_rate=0.0001), loss='binary_crossentropy',metrics=[AUC()])\n",
        "early_stopping = EarlyStopping(monitor='val_loss', patience=5)"
      ]
    },
    {
      "cell_type": "code",
      "execution_count": 30,
      "metadata": {
        "colab": {
          "base_uri": "https://localhost:8080/"
        },
        "id": "-_KmLvGpqqaJ",
        "outputId": "80ec13f8-6f3c-4a92-fa60-18917e1df0f8"
      },
      "outputs": [
        {
          "output_type": "stream",
          "name": "stdout",
          "text": [
            "Epoch 1/100\n",
            "133/133 [==============================] - 9s 12ms/step - loss: 2296.3040 - auc: 0.5000 - val_loss: 1920.9207 - val_auc: 0.5101\n",
            "Epoch 2/100\n",
            "133/133 [==============================] - 1s 7ms/step - loss: 1623.1267 - auc: 0.5501 - val_loss: 1350.8136 - val_auc: 0.5600\n",
            "Epoch 3/100\n",
            "133/133 [==============================] - 1s 7ms/step - loss: 1134.7804 - auc: 0.5753 - val_loss: 937.6479 - val_auc: 0.5602\n",
            "Epoch 4/100\n",
            "133/133 [==============================] - 1s 7ms/step - loss: 782.0776 - auc: 0.5817 - val_loss: 640.6417 - val_auc: 0.5608\n",
            "Epoch 5/100\n",
            "133/133 [==============================] - 1s 7ms/step - loss: 529.9128 - auc: 0.5798 - val_loss: 429.7846 - val_auc: 0.5598\n",
            "Epoch 6/100\n",
            "133/133 [==============================] - 1s 7ms/step - loss: 352.1416 - auc: 0.5793 - val_loss: 282.4030 - val_auc: 0.5612\n",
            "Epoch 7/100\n",
            "133/133 [==============================] - 1s 8ms/step - loss: 228.9712 - auc: 0.5815 - val_loss: 181.3614 - val_auc: 0.5609\n",
            "Epoch 8/100\n",
            "133/133 [==============================] - 1s 10ms/step - loss: 145.3539 - auc: 0.5802 - val_loss: 113.5699 - val_auc: 0.5599\n",
            "Epoch 9/100\n",
            "133/133 [==============================] - 1s 9ms/step - loss: 89.8980 - auc: 0.5819 - val_loss: 69.2303 - val_auc: 0.5615\n",
            "Epoch 10/100\n",
            "133/133 [==============================] - 1s 8ms/step - loss: 54.0769 - auc: 0.5755 - val_loss: 41.0455 - val_auc: 0.5612\n",
            "Epoch 11/100\n",
            "133/133 [==============================] - 1s 7ms/step - loss: 31.6055 - auc: 0.5780 - val_loss: 23.6444 - val_auc: 0.5612\n",
            "Epoch 12/100\n",
            "133/133 [==============================] - 1s 7ms/step - loss: 17.9610 - auc: 0.5781 - val_loss: 13.2830 - val_auc: 0.5612\n",
            "Epoch 13/100\n",
            "133/133 [==============================] - 1s 7ms/step - loss: 9.9660 - auc: 0.5761 - val_loss: 7.3437 - val_auc: 0.5605\n",
            "Epoch 14/100\n",
            "133/133 [==============================] - 1s 7ms/step - loss: 5.4587 - auc: 0.5791 - val_loss: 4.0435 - val_auc: 0.5600\n",
            "Epoch 15/100\n",
            "133/133 [==============================] - 1s 7ms/step - loss: 3.0235 - auc: 0.5750 - val_loss: 2.3392 - val_auc: 0.5617\n",
            "Epoch 16/100\n",
            "133/133 [==============================] - 1s 7ms/step - loss: 1.7668 - auc: 0.5709 - val_loss: 1.4809 - val_auc: 0.5616\n",
            "Epoch 17/100\n",
            "133/133 [==============================] - 1s 7ms/step - loss: 1.1482 - auc: 0.5728 - val_loss: 1.0602 - val_auc: 0.5611\n",
            "Epoch 18/100\n",
            "133/133 [==============================] - 1s 7ms/step - loss: 0.8582 - auc: 0.5765 - val_loss: 0.8802 - val_auc: 0.5611\n",
            "Epoch 19/100\n",
            "133/133 [==============================] - 1s 7ms/step - loss: 0.7331 - auc: 0.5667 - val_loss: 0.7876 - val_auc: 0.5612\n",
            "Epoch 20/100\n",
            "133/133 [==============================] - 1s 7ms/step - loss: 0.6789 - auc: 0.5755 - val_loss: 0.7491 - val_auc: 0.5621\n",
            "Epoch 21/100\n",
            "133/133 [==============================] - 1s 10ms/step - loss: 0.6579 - auc: 0.5769 - val_loss: 0.7458 - val_auc: 0.5597\n",
            "Epoch 22/100\n",
            "133/133 [==============================] - 1s 9ms/step - loss: 0.6533 - auc: 0.5640 - val_loss: 0.7465 - val_auc: 0.5610\n",
            "Epoch 23/100\n",
            "133/133 [==============================] - 1s 9ms/step - loss: 0.6478 - auc: 0.5770 - val_loss: 0.7135 - val_auc: 0.5601\n",
            "Epoch 24/100\n",
            "133/133 [==============================] - 1s 7ms/step - loss: 0.6486 - auc: 0.5710 - val_loss: 0.7209 - val_auc: 0.5612\n",
            "Epoch 25/100\n",
            "133/133 [==============================] - 1s 7ms/step - loss: 0.6489 - auc: 0.5652 - val_loss: 0.7401 - val_auc: 0.5615\n",
            "Epoch 26/100\n",
            "133/133 [==============================] - 1s 7ms/step - loss: 0.6474 - auc: 0.5753 - val_loss: 0.7316 - val_auc: 0.5619\n",
            "Epoch 27/100\n",
            "133/133 [==============================] - 1s 7ms/step - loss: 0.6489 - auc: 0.5658 - val_loss: 0.7538 - val_auc: 0.5609\n",
            "Epoch 28/100\n",
            "133/133 [==============================] - 1s 7ms/step - loss: 0.6468 - auc: 0.5744 - val_loss: 0.7343 - val_auc: 0.5611\n"
          ]
        }
      ],
      "source": [
        "history=model.fit(X_train,y_train,epochs=100,use_multiprocessing=True,batch_size=64,validation_data=[X_dev, y_dev],shuffle=True,callbacks=early_stopping)"
      ]
    },
    {
      "cell_type": "code",
      "source": [
        "model.summary()"
      ],
      "metadata": {
        "id": "72RCz-d40vTg",
        "colab": {
          "base_uri": "https://localhost:8080/"
        },
        "outputId": "04d37780-372e-4a25-9b3a-7abff274715e"
      },
      "execution_count": 31,
      "outputs": [
        {
          "output_type": "stream",
          "name": "stdout",
          "text": [
            "Model: \"sequential\"\n",
            "_________________________________________________________________\n",
            " Layer (type)                Output Shape              Param #   \n",
            "=================================================================\n",
            " lstm (LSTM)                 (None, 32)                42624     \n",
            "                                                                 \n",
            " dropout (Dropout)           (None, 32)                0         \n",
            "                                                                 \n",
            " dense (Dense)               (None, 1)                 33        \n",
            "                                                                 \n",
            "=================================================================\n",
            "Total params: 42,657\n",
            "Trainable params: 42,657\n",
            "Non-trainable params: 0\n",
            "_________________________________________________________________\n"
          ]
        }
      ]
    },
    {
      "cell_type": "code",
      "source": [
        "model.evaluate(X_dev, y_dev)"
      ],
      "metadata": {
        "id": "jXXKopSZrtku",
        "colab": {
          "base_uri": "https://localhost:8080/"
        },
        "outputId": "30998db4-b7a0-44fc-ef11-7b9b5dbd19fc"
      },
      "execution_count": 32,
      "outputs": [
        {
          "output_type": "stream",
          "name": "stdout",
          "text": [
            "16/16 [==============================] - 0s 6ms/step - loss: 0.7343 - auc: 0.5611\n"
          ]
        },
        {
          "output_type": "execute_result",
          "data": {
            "text/plain": [
              "[0.7342832684516907, 0.5610559582710266]"
            ]
          },
          "metadata": {},
          "execution_count": 32
        }
      ]
    },
    {
      "cell_type": "code",
      "source": [
        "y_pred=model.predict(X_dev)"
      ],
      "metadata": {
        "id": "KkdPk65uE_VB",
        "colab": {
          "base_uri": "https://localhost:8080/"
        },
        "outputId": "211144fb-aab0-49fd-9b76-3d26b8eccca3"
      },
      "execution_count": 33,
      "outputs": [
        {
          "output_type": "stream",
          "name": "stdout",
          "text": [
            "16/16 [==============================] - 0s 3ms/step\n"
          ]
        }
      ]
    },
    {
      "cell_type": "code",
      "execution_count": 34,
      "metadata": {
        "id": "jjBBg7Jn8573",
        "colab": {
          "base_uri": "https://localhost:8080/",
          "height": 472
        },
        "outputId": "f17dec4f-366d-40b9-eab0-c75cdbbb3b36"
      },
      "outputs": [
        {
          "output_type": "display_data",
          "data": {
            "text/plain": [
              "<Figure size 640x480 with 1 Axes>"
            ],
            "image/png": "[encoded data removed]"
          },
          "metadata": {}
        }
      ],
      "source": [
        "plt.plot(history.history['loss'])\n",
        "plt.plot(history.history['val_loss'])\n",
        "plt.title('Model loss')\n",
        "plt.ylabel('Loss')\n",
        "plt.xlabel('Epoch')\n",
        "plt.legend(['Train','Validation'], loc='upper right')\n",
        "plt.show()"
      ]
    },
    {
      "cell_type": "code",
      "source": [
        "plt.plot(history.history['auc'])\n",
        "plt.plot(history.history['val_auc'])\n",
        "plt.title('AUC')\n",
        "plt.ylabel('AUC-Epoch')\n",
        "plt.xlabel('Epoch')\n",
        "plt.legend(['Train','Validation'], loc='upper right')\n",
        "plt.show()"
      ],
      "metadata": {
        "id": "5ERdSQaq1kXU",
        "colab": {
          "base_uri": "https://localhost:8080/",
          "height": 472
        },
        "outputId": "b65ee130-2f50-42ce-c294-8f1494a5b4d1"
      },
      "execution_count": 35,
      "outputs": [
        {
          "output_type": "display_data",
          "data": {
            "text/plain": [
              "<Figure size 640x480 with 1 Axes>"
            ],
            "image/png": "[encoded data removed]"
          },
          "metadata": {}
        }
      ]
    },
    {
      "cell_type": "code",
      "source": [
        "y_pred = np.where(y_pred>= 0.5, 1, 0)"
      ],
      "metadata": {
        "id": "DnrKuw2tPwLn"
      },
      "execution_count": 36,
      "outputs": []
    },
    {
      "cell_type": "code",
      "source": [
        "from sklearn.metrics import classification_report"
      ],
      "metadata": {
        "id": "Dxbq7kHJHlsi"
      },
      "execution_count": 37,
      "outputs": []
    },
    {
      "cell_type": "code",
      "source": [
        "print(classification_report(y_dev,y_pred,zero_division=0))"
      ],
      "metadata": {
        "colab": {
          "base_uri": "https://localhost:8080/"
        },
        "id": "n0SpDJT9HfEI",
        "outputId": "352eb1e4-9d0b-41a7-f315-0edf50ce7208"
      },
      "execution_count": 38,
      "outputs": [
        {
          "output_type": "stream",
          "name": "stdout",
          "text": [
            "              precision    recall  f1-score   support\n",
            "\n",
            "           0       0.50      1.00      0.67       250\n",
            "           1       1.00      0.00      0.01       250\n",
            "\n",
            "    accuracy                           0.50       500\n",
            "   macro avg       0.75      0.50      0.34       500\n",
            "weighted avg       0.75      0.50      0.34       500\n",
            "\n"
          ]
        }
      ]
    }
  ],
  "metadata": {
    "accelerator": "GPU",
    "colab": {
      "provenance": [],
      "gpuType": "T4"
    },
    "kernelspec": {
      "display_name": "Python 3",
      "name": "python3"
    },
    "language_info": {
      "name": "python"
    }
  },
  "nbformat": 4,
  "nbformat_minor": 0
}