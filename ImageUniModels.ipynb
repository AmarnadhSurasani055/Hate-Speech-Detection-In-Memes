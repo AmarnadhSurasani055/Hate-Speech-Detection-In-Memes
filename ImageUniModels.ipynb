{
  "cells": [
    {
      "cell_type": "markdown",
      "metadata": {
        "id": "view-in-github",
        "colab_type": "text"
      },
      "source": [
        "<a href=\"https://colab.research.google.com/github/AmarnadhReddy055/Multi-Model-Hate-Speech-Detection-In-Memes/blob/main/ImageUniModels.ipynb\" target=\"_parent\"><img src=\"https://colab.research.google.com/assets/colab-badge.svg\" alt=\"Open In Colab\"/></a>"
      ]
    },
    {
      "cell_type": "code",
      "execution_count": 1,
      "metadata": {
        "id": "71UbXbC9H2jL"
      },
      "outputs": [],
      "source": [
        "import numpy as np\n",
        "import pandas as pd\n",
        "from matplotlib import pyplot as plt\n",
        "import ast"
      ]
    },
    {
      "cell_type": "code",
      "execution_count": 2,
      "metadata": {
        "id": "D7y4Yj3_IHJy"
      },
      "outputs": [],
      "source": [
        "train_image=pd.read_csv('/content/drive/MyDrive/train_image.csv')"
      ]
    },
    {
      "cell_type": "code",
      "execution_count": 3,
      "metadata": {
        "id": "fLankf4AKvGw"
      },
      "outputs": [],
      "source": [
        "dev_image=pd.read_csv('/content/drive/MyDrive/cross_validation_image.csv')"
      ]
    },
    {
      "cell_type": "code",
      "execution_count": 4,
      "metadata": {
        "id": "jNfLPuVvKNOb"
      },
      "outputs": [],
      "source": [
        "train_image.dropna(inplace=True)"
      ]
    },
    {
      "cell_type": "code",
      "execution_count": 5,
      "metadata": {
        "id": "QWyahg0bLYt5"
      },
      "outputs": [],
      "source": [
        "train_image.reset_index(inplace=True)"
      ]
    },
    {
      "cell_type": "code",
      "execution_count": 6,
      "metadata": {
        "colab": {
          "base_uri": "https://localhost:8080/",
          "height": 206
        },
        "id": "PRYG4ijYHjva",
        "outputId": "32caffb1-0722-4dd6-a355-170210278cdf"
      },
      "outputs": [
        {
          "output_type": "execute_result",
          "data": {
            "text/plain": [
              "   index    id        img  label  \\\n",
              "0      0  1235  01235.png      1   \n",
              "1      1  1236  01236.png      0   \n",
              "2      2  1243  01243.png      0   \n",
              "3      3  1245  01245.png      1   \n",
              "4      4  1247  01247.png      1   \n",
              "\n",
              "                                                text  \\\n",
              "0  when you're feeling horny asf but your habibi ...   \n",
              "1                   meanwhile at the isis strip club   \n",
              "2  when your human says \"who' s a good girl?\" and...   \n",
              "3  and that was the last nativity play my son was...   \n",
              "4      you can't be racist if there is no other race   \n",
              "\n",
              "                                            features  \n",
              "0  [0.71356636, 0.4687377, 0.7601375, 0.47391602,...  \n",
              "1  [0.7574666, 0.49860162, 0.8951834, 0.45049658,...  \n",
              "2  [0.8522473, 0.49101305, 0.8114812, 0.43492022,...  \n",
              "3  [0.81344944, 0.42663395, 0.7078128, 0.45056176...  \n",
              "4  [0.75893325, 0.44350454, 0.7556687, 0.39917853...  "
            ],
            "text/html": [
              "\n",
              "  <div id=\"df-ed28d6b7-93e9-4803-9cf8-068e1ac338c4\">\n",
              "    <div class=\"colab-df-container\">\n",
              "      <div>\n",
              "<style scoped>\n",
              "    .dataframe tbody tr th:only-of-type {\n",
              "        vertical-align: middle;\n",
              "    }\n",
              "\n",
              "    .dataframe tbody tr th {\n",
              "        vertical-align: top;\n",
              "    }\n",
              "\n",
              "    .dataframe thead th {\n",
              "        text-align: right;\n",
              "    }\n",
              "</style>\n",
              "<table border=\"1\" class=\"dataframe\">\n",
              "  <thead>\n",
              "    <tr style=\"text-align: right;\">\n",
              "      <th></th>\n",
              "      <th>index</th>\n",
              "      <th>id</th>\n",
              "      <th>img</th>\n",
              "      <th>label</th>\n",
              "      <th>text</th>\n",
              "      <th>features</th>\n",
              "    </tr>\n",
              "  </thead>\n",
              "  <tbody>\n",
              "    <tr>\n",
              "      <th>0</th>\n",
              "      <td>0</td>\n",
              "      <td>1235</td>\n",
              "      <td>01235.png</td>\n",
              "      <td>1</td>\n",
              "      <td>when you're feeling horny asf but your habibi ...</td>\n",
              "      <td>[0.71356636, 0.4687377, 0.7601375, 0.47391602,...</td>\n",
              "    </tr>\n",
              "    <tr>\n",
              "      <th>1</th>\n",
              "      <td>1</td>\n",
              "      <td>1236</td>\n",
              "      <td>01236.png</td>\n",
              "      <td>0</td>\n",
              "      <td>meanwhile at the isis strip club</td>\n",
              "      <td>[0.7574666, 0.49860162, 0.8951834, 0.45049658,...</td>\n",
              "    </tr>\n",
              "    <tr>\n",
              "      <th>2</th>\n",
              "      <td>2</td>\n",
              "      <td>1243</td>\n",
              "      <td>01243.png</td>\n",
              "      <td>0</td>\n",
              "      <td>when your human says \"who' s a good girl?\" and...</td>\n",
              "      <td>[0.8522473, 0.49101305, 0.8114812, 0.43492022,...</td>\n",
              "    </tr>\n",
              "    <tr>\n",
              "      <th>3</th>\n",
              "      <td>3</td>\n",
              "      <td>1245</td>\n",
              "      <td>01245.png</td>\n",
              "      <td>1</td>\n",
              "      <td>and that was the last nativity play my son was...</td>\n",
              "      <td>[0.81344944, 0.42663395, 0.7078128, 0.45056176...</td>\n",
              "    </tr>\n",
              "    <tr>\n",
              "      <th>4</th>\n",
              "      <td>4</td>\n",
              "      <td>1247</td>\n",
              "      <td>01247.png</td>\n",
              "      <td>1</td>\n",
              "      <td>you can't be racist if there is no other race</td>\n",
              "      <td>[0.75893325, 0.44350454, 0.7556687, 0.39917853...</td>\n",
              "    </tr>\n",
              "  </tbody>\n",
              "</table>\n",
              "</div>\n",
              "      <button class=\"colab-df-convert\" onclick=\"convertToInteractive('df-ed28d6b7-93e9-4803-9cf8-068e1ac338c4')\"\n",
              "              title=\"Convert this dataframe to an interactive table.\"\n",
              "              style=\"display:none;\">\n",
              "        \n",
              "  <svg xmlns=\"http://www.w3.org/2000/svg\" height=\"24px\"viewBox=\"0 0 24 24\"\n",
              "       width=\"24px\">\n",
              "    <path d=\"M0 0h24v24H0V0z\" fill=\"none\"/>\n",
              "    <path d=\"M18.56 5.44l.94 2.06.94-2.06 2.06-.94-2.06-.94-.94-2.06-.94 2.06-2.06.94zm-11 1L8.5 8.5l.94-2.06 2.06-.94-2.06-.94L8.5 2.5l-.94 2.06-2.06.94zm10 10l.94 2.06.94-2.06 2.06-.94-2.06-.94-.94-2.06-.94 2.06-2.06.94z\"/><path d=\"M17.41 7.96l-1.37-1.37c-.4-.4-.92-.59-1.43-.59-.52 0-1.04.2-1.43.59L10.3 9.45l-7.72 7.72c-.78.78-.78 2.05 0 2.83L4 21.41c.39.39.9.59 1.41.59.51 0 1.02-.2 1.41-.59l7.78-7.78 2.81-2.81c.8-.78.8-2.07 0-2.86zM5.41 20L4 18.59l7.72-7.72 1.47 1.35L5.41 20z\"/>\n",
              "  </svg>\n",
              "      </button>\n",
              "      \n",
              "  <style>\n",
              "    .colab-df-container {\n",
              "      display:flex;\n",
              "      flex-wrap:wrap;\n",
              "      gap: 12px;\n",
              "    }\n",
              "\n",
              "    .colab-df-convert {\n",
              "      background-color: #E8F0FE;\n",
              "      border: none;\n",
              "      border-radius: 50%;\n",
              "      cursor: pointer;\n",
              "      display: none;\n",
              "      fill: #1967D2;\n",
              "      height: 32px;\n",
              "      padding: 0 0 0 0;\n",
              "      width: 32px;\n",
              "    }\n",
              "\n",
              "    .colab-df-convert:hover {\n",
              "      background-color: #E2EBFA;\n",
              "      box-shadow: 0px 1px 2px rgba(60, 64, 67, 0.3), 0px 1px 3px 1px rgba(60, 64, 67, 0.15);\n",
              "      fill: #174EA6;\n",
              "    }\n",
              "\n",
              "    [theme=dark] .colab-df-convert {\n",
              "      background-color: #3B4455;\n",
              "      fill: #D2E3FC;\n",
              "    }\n",
              "\n",
              "    [theme=dark] .colab-df-convert:hover {\n",
              "      background-color: #434B5C;\n",
              "      box-shadow: 0px 1px 3px 1px rgba(0, 0, 0, 0.15);\n",
              "      filter: drop-shadow(0px 1px 2px rgba(0, 0, 0, 0.3));\n",
              "      fill: #FFFFFF;\n",
              "    }\n",
              "  </style>\n",
              "\n",
              "      <script>\n",
              "        const buttonEl =\n",
              "          document.querySelector('#df-ed28d6b7-93e9-4803-9cf8-068e1ac338c4 button.colab-df-convert');\n",
              "        buttonEl.style.display =\n",
              "          google.colab.kernel.accessAllowed ? 'block' : 'none';\n",
              "\n",
              "        async function convertToInteractive(key) {\n",
              "          const element = document.querySelector('#df-ed28d6b7-93e9-4803-9cf8-068e1ac338c4');\n",
              "          const dataTable =\n",
              "            await google.colab.kernel.invokeFunction('convertToInteractive',\n",
              "                                                     [key], {});\n",
              "          if (!dataTable) return;\n",
              "\n",
              "          const docLinkHtml = 'Like what you see? Visit the ' +\n",
              "            '<a target=\"_blank\" href=https://colab.research.google.com/notebooks/data_table.ipynb>data table notebook</a>'\n",
              "            + ' to learn more about interactive tables.';\n",
              "          element.innerHTML = '';\n",
              "          dataTable['output_type'] = 'display_data';\n",
              "          await google.colab.output.renderOutput(dataTable, element);\n",
              "          const docLink = document.createElement('div');\n",
              "          docLink.innerHTML = docLinkHtml;\n",
              "          element.appendChild(docLink);\n",
              "        }\n",
              "      </script>\n",
              "    </div>\n",
              "  </div>\n",
              "  "
            ]
          },
          "metadata": {},
          "execution_count": 6
        }
      ],
      "source": [
        "train_image.head()"
      ]
    },
    {
      "cell_type": "code",
      "execution_count": 7,
      "metadata": {
        "colab": {
          "base_uri": "https://localhost:8080/",
          "height": 250
        },
        "id": "EzLj13R2nCO3",
        "outputId": "b7b15970-0d8e-4f01-88a0-324dd71e2199"
      },
      "outputs": [
        {
          "output_type": "execute_result",
          "data": {
            "text/plain": [
              "     id        img  label                                               text  \\\n",
              "0  1268  01268.png      0  father and daughter bonding time is the best l...   \n",
              "1  1456  01456.png      1            they see them rollin..... they hating..   \n",
              "2  1726  01726.png      1        a real man loads the dishwasher every night   \n",
              "3  1742  01742.png      0  in just one hour from now i'll only have 4 hou...   \n",
              "4  1765  01765.png      1  after a girl dies, what organ in her body stay...   \n",
              "\n",
              "                                        cleaned_text  \\\n",
              "0  father daughter bonding time best like share a...   \n",
              "1                                  see rollin hating   \n",
              "2               real man load dishwasher every night   \n",
              "3              one hour ill hour left work mere hour   \n",
              "4                  girl dy organ body stay warm dick   \n",
              "\n",
              "                                            features  \n",
              "0  [0.8011039, 0.44203076, 0.8107121, 0.47249195,...  \n",
              "1  [0.78343225, 0.4830486, 0.9525863, 0.50286084,...  \n",
              "2  [0.7510135, 0.46772155, 0.8101114, 0.41914812,...  \n",
              "3  [0.8190234, 0.49838206, 0.8504915, 0.44808054,...  \n",
              "4  [0.85232306, 0.46574005, 0.7150654, 0.40895066...  "
            ],
            "text/html": [
              "\n",
              "  <div id=\"df-d5b7a838-2314-4946-b1b3-1d1a189dc1ac\">\n",
              "    <div class=\"colab-df-container\">\n",
              "      <div>\n",
              "<style scoped>\n",
              "    .dataframe tbody tr th:only-of-type {\n",
              "        vertical-align: middle;\n",
              "    }\n",
              "\n",
              "    .dataframe tbody tr th {\n",
              "        vertical-align: top;\n",
              "    }\n",
              "\n",
              "    .dataframe thead th {\n",
              "        text-align: right;\n",
              "    }\n",
              "</style>\n",
              "<table border=\"1\" class=\"dataframe\">\n",
              "  <thead>\n",
              "    <tr style=\"text-align: right;\">\n",
              "      <th></th>\n",
              "      <th>id</th>\n",
              "      <th>img</th>\n",
              "      <th>label</th>\n",
              "      <th>text</th>\n",
              "      <th>cleaned_text</th>\n",
              "      <th>features</th>\n",
              "    </tr>\n",
              "  </thead>\n",
              "  <tbody>\n",
              "    <tr>\n",
              "      <th>0</th>\n",
              "      <td>1268</td>\n",
              "      <td>01268.png</td>\n",
              "      <td>0</td>\n",
              "      <td>father and daughter bonding time is the best l...</td>\n",
              "      <td>father daughter bonding time best like share a...</td>\n",
              "      <td>[0.8011039, 0.44203076, 0.8107121, 0.47249195,...</td>\n",
              "    </tr>\n",
              "    <tr>\n",
              "      <th>1</th>\n",
              "      <td>1456</td>\n",
              "      <td>01456.png</td>\n",
              "      <td>1</td>\n",
              "      <td>they see them rollin..... they hating..</td>\n",
              "      <td>see rollin hating</td>\n",
              "      <td>[0.78343225, 0.4830486, 0.9525863, 0.50286084,...</td>\n",
              "    </tr>\n",
              "    <tr>\n",
              "      <th>2</th>\n",
              "      <td>1726</td>\n",
              "      <td>01726.png</td>\n",
              "      <td>1</td>\n",
              "      <td>a real man loads the dishwasher every night</td>\n",
              "      <td>real man load dishwasher every night</td>\n",
              "      <td>[0.7510135, 0.46772155, 0.8101114, 0.41914812,...</td>\n",
              "    </tr>\n",
              "    <tr>\n",
              "      <th>3</th>\n",
              "      <td>1742</td>\n",
              "      <td>01742.png</td>\n",
              "      <td>0</td>\n",
              "      <td>in just one hour from now i'll only have 4 hou...</td>\n",
              "      <td>one hour ill hour left work mere hour</td>\n",
              "      <td>[0.8190234, 0.49838206, 0.8504915, 0.44808054,...</td>\n",
              "    </tr>\n",
              "    <tr>\n",
              "      <th>4</th>\n",
              "      <td>1765</td>\n",
              "      <td>01765.png</td>\n",
              "      <td>1</td>\n",
              "      <td>after a girl dies, what organ in her body stay...</td>\n",
              "      <td>girl dy organ body stay warm dick</td>\n",
              "      <td>[0.85232306, 0.46574005, 0.7150654, 0.40895066...</td>\n",
              "    </tr>\n",
              "  </tbody>\n",
              "</table>\n",
              "</div>\n",
              "      <button class=\"colab-df-convert\" onclick=\"convertToInteractive('df-d5b7a838-2314-4946-b1b3-1d1a189dc1ac')\"\n",
              "              title=\"Convert this dataframe to an interactive table.\"\n",
              "              style=\"display:none;\">\n",
              "        \n",
              "  <svg xmlns=\"http://www.w3.org/2000/svg\" height=\"24px\"viewBox=\"0 0 24 24\"\n",
              "       width=\"24px\">\n",
              "    <path d=\"M0 0h24v24H0V0z\" fill=\"none\"/>\n",
              "    <path d=\"M18.56 5.44l.94 2.06.94-2.06 2.06-.94-2.06-.94-.94-2.06-.94 2.06-2.06.94zm-11 1L8.5 8.5l.94-2.06 2.06-.94-2.06-.94L8.5 2.5l-.94 2.06-2.06.94zm10 10l.94 2.06.94-2.06 2.06-.94-2.06-.94-.94-2.06-.94 2.06-2.06.94z\"/><path d=\"M17.41 7.96l-1.37-1.37c-.4-.4-.92-.59-1.43-.59-.52 0-1.04.2-1.43.59L10.3 9.45l-7.72 7.72c-.78.78-.78 2.05 0 2.83L4 21.41c.39.39.9.59 1.41.59.51 0 1.02-.2 1.41-.59l7.78-7.78 2.81-2.81c.8-.78.8-2.07 0-2.86zM5.41 20L4 18.59l7.72-7.72 1.47 1.35L5.41 20z\"/>\n",
              "  </svg>\n",
              "      </button>\n",
              "      \n",
              "  <style>\n",
              "    .colab-df-container {\n",
              "      display:flex;\n",
              "      flex-wrap:wrap;\n",
              "      gap: 12px;\n",
              "    }\n",
              "\n",
              "    .colab-df-convert {\n",
              "      background-color: #E8F0FE;\n",
              "      border: none;\n",
              "      border-radius: 50%;\n",
              "      cursor: pointer;\n",
              "      display: none;\n",
              "      fill: #1967D2;\n",
              "      height: 32px;\n",
              "      padding: 0 0 0 0;\n",
              "      width: 32px;\n",
              "    }\n",
              "\n",
              "    .colab-df-convert:hover {\n",
              "      background-color: #E2EBFA;\n",
              "      box-shadow: 0px 1px 2px rgba(60, 64, 67, 0.3), 0px 1px 3px 1px rgba(60, 64, 67, 0.15);\n",
              "      fill: #174EA6;\n",
              "    }\n",
              "\n",
              "    [theme=dark] .colab-df-convert {\n",
              "      background-color: #3B4455;\n",
              "      fill: #D2E3FC;\n",
              "    }\n",
              "\n",
              "    [theme=dark] .colab-df-convert:hover {\n",
              "      background-color: #434B5C;\n",
              "      box-shadow: 0px 1px 3px 1px rgba(0, 0, 0, 0.15);\n",
              "      filter: drop-shadow(0px 1px 2px rgba(0, 0, 0, 0.3));\n",
              "      fill: #FFFFFF;\n",
              "    }\n",
              "  </style>\n",
              "\n",
              "      <script>\n",
              "        const buttonEl =\n",
              "          document.querySelector('#df-d5b7a838-2314-4946-b1b3-1d1a189dc1ac button.colab-df-convert');\n",
              "        buttonEl.style.display =\n",
              "          google.colab.kernel.accessAllowed ? 'block' : 'none';\n",
              "\n",
              "        async function convertToInteractive(key) {\n",
              "          const element = document.querySelector('#df-d5b7a838-2314-4946-b1b3-1d1a189dc1ac');\n",
              "          const dataTable =\n",
              "            await google.colab.kernel.invokeFunction('convertToInteractive',\n",
              "                                                     [key], {});\n",
              "          if (!dataTable) return;\n",
              "\n",
              "          const docLinkHtml = 'Like what you see? Visit the ' +\n",
              "            '<a target=\"_blank\" href=https://colab.research.google.com/notebooks/data_table.ipynb>data table notebook</a>'\n",
              "            + ' to learn more about interactive tables.';\n",
              "          element.innerHTML = '';\n",
              "          dataTable['output_type'] = 'display_data';\n",
              "          await google.colab.output.renderOutput(dataTable, element);\n",
              "          const docLink = document.createElement('div');\n",
              "          docLink.innerHTML = docLinkHtml;\n",
              "          element.appendChild(docLink);\n",
              "        }\n",
              "      </script>\n",
              "    </div>\n",
              "  </div>\n",
              "  "
            ]
          },
          "metadata": {},
          "execution_count": 7
        }
      ],
      "source": [
        "dev_image.head()"
      ]
    },
    {
      "cell_type": "code",
      "execution_count": 8,
      "metadata": {
        "id": "vwHuGHmxnO_G"
      },
      "outputs": [],
      "source": [
        "def covert_string_toarray_train(train_object):\n",
        "  size_train=train_object.shape[0]\n",
        "  print(size_train)\n",
        "  for i in range(size_train):\n",
        "    train_image['features'][i]=np.fromstring(train_image['features'][i][1:-1], sep=',')"
      ]
    },
    {
      "cell_type": "code",
      "execution_count": 9,
      "metadata": {
        "id": "1vGuWHa2I057"
      },
      "outputs": [],
      "source": [
        "def covert_string_toarray_dev(dev_object):\n",
        "  size_dev=dev_object.shape[0]\n",
        "  print(size_dev)\n",
        "  for i in range(size_dev):\n",
        "    dev_image['features'][i]=np.fromstring(dev_image['features'][i][1:-1], sep=',')"
      ]
    },
    {
      "cell_type": "code",
      "execution_count": 10,
      "metadata": {
        "colab": {
          "base_uri": "https://localhost:8080/"
        },
        "id": "pOHNiEjO1AkZ",
        "outputId": "8fef586f-92da-41fa-d2cf-e59e41207039"
      },
      "outputs": [
        {
          "output_type": "stream",
          "name": "stdout",
          "text": [
            "8499\n"
          ]
        },
        {
          "output_type": "stream",
          "name": "stderr",
          "text": [
            "<ipython-input-8-cd44a5fe1f26>:5: SettingWithCopyWarning: \n",
            "A value is trying to be set on a copy of a slice from a DataFrame\n",
            "\n",
            "See the caveats in the documentation: https://pandas.pydata.org/pandas-docs/stable/user_guide/indexing.html#returning-a-view-versus-a-copy\n",
            "  train_image['features'][i]=np.fromstring(train_image['features'][i][1:-1], sep=',')\n"
          ]
        }
      ],
      "source": [
        "covert_string_toarray_train(train_image['features'])"
      ]
    },
    {
      "cell_type": "code",
      "execution_count": 11,
      "metadata": {
        "colab": {
          "base_uri": "https://localhost:8080/"
        },
        "id": "gYVGymvRJDhd",
        "outputId": "affab179-0689-4241-bd9d-75bc66e65108"
      },
      "outputs": [
        {
          "output_type": "stream",
          "name": "stdout",
          "text": [
            "500\n"
          ]
        },
        {
          "output_type": "stream",
          "name": "stderr",
          "text": [
            "<ipython-input-9-a89436516ec0>:5: SettingWithCopyWarning: \n",
            "A value is trying to be set on a copy of a slice from a DataFrame\n",
            "\n",
            "See the caveats in the documentation: https://pandas.pydata.org/pandas-docs/stable/user_guide/indexing.html#returning-a-view-versus-a-copy\n",
            "  dev_image['features'][i]=np.fromstring(dev_image['features'][i][1:-1], sep=',')\n"
          ]
        }
      ],
      "source": [
        "covert_string_toarray_dev(dev_image['features'])"
      ]
    },
    {
      "cell_type": "code",
      "execution_count": 12,
      "metadata": {
        "colab": {
          "base_uri": "https://localhost:8080/",
          "height": 423
        },
        "id": "YzZElhcxUOmT",
        "outputId": "cd618ba6-28ad-4a53-ef62-5281b40a7870"
      },
      "outputs": [
        {
          "output_type": "execute_result",
          "data": {
            "text/plain": [
              "      index     id        img  label  \\\n",
              "0         0   1235  01235.png      1   \n",
              "1         1   1236  01236.png      0   \n",
              "2         2   1243  01243.png      0   \n",
              "3         3   1245  01245.png      1   \n",
              "4         4   1247  01247.png      1   \n",
              "...     ...    ...        ...    ...   \n",
              "8494   8495  98752  98752.png      0   \n",
              "8495   8496  98754  98754.png      1   \n",
              "8496   8497  98756  98756.png      1   \n",
              "8497   8498  98762  98762.png      0   \n",
              "8498   8499  98764  98764.png      0   \n",
              "\n",
              "                                                   text  \\\n",
              "0     when you're feeling horny asf but your habibi ...   \n",
              "1                      meanwhile at the isis strip club   \n",
              "2     when your human says \"who' s a good girl?\" and...   \n",
              "3     and that was the last nativity play my son was...   \n",
              "4         you can't be racist if there is no other race   \n",
              "...                                                 ...   \n",
              "8494                                    shut up ontario   \n",
              "8495  400 years of slavery rape and murder but now s...   \n",
              "8496  this dude wants to use the same restroom as yo...   \n",
              "8497              child in poverty with empty water jug   \n",
              "8498               african kids dancing and celebrating   \n",
              "\n",
              "                                               features  \n",
              "0     [0.71356636, 0.4687377, 0.7601375, 0.47391602,...  \n",
              "1     [0.7574666, 0.49860162, 0.8951834, 0.45049658,...  \n",
              "2     [0.8522473, 0.49101305, 0.8114812, 0.43492022,...  \n",
              "3     [0.81344944, 0.42663395, 0.7078128, 0.45056176...  \n",
              "4     [0.75893325, 0.44350454, 0.7556687, 0.39917853...  \n",
              "...                                                 ...  \n",
              "8494  [0.8344943, 0.4936527, 0.8207589, 0.42816097, ...  \n",
              "8495  [0.84529525, 0.4983647, 0.66996914, 0.52622557...  \n",
              "8496  [0.7446378, 0.5141362, 0.8126955, 0.46491468, ...  \n",
              "8497  [0.8350415, 0.39081714, 0.721996, 0.47131905, ...  \n",
              "8498  [0.90392286, 0.4722435, 0.83153534, 0.4479324,...  \n",
              "\n",
              "[8499 rows x 6 columns]"
            ],
            "text/html": [
              "\n",
              "  <div id=\"df-05968472-f21c-4fbd-87a3-41d65752a642\">\n",
              "    <div class=\"colab-df-container\">\n",
              "      <div>\n",
              "<style scoped>\n",
              "    .dataframe tbody tr th:only-of-type {\n",
              "        vertical-align: middle;\n",
              "    }\n",
              "\n",
              "    .dataframe tbody tr th {\n",
              "        vertical-align: top;\n",
              "    }\n",
              "\n",
              "    .dataframe thead th {\n",
              "        text-align: right;\n",
              "    }\n",
              "</style>\n",
              "<table border=\"1\" class=\"dataframe\">\n",
              "  <thead>\n",
              "    <tr style=\"text-align: right;\">\n",
              "      <th></th>\n",
              "      <th>index</th>\n",
              "      <th>id</th>\n",
              "      <th>img</th>\n",
              "      <th>label</th>\n",
              "      <th>text</th>\n",
              "      <th>features</th>\n",
              "    </tr>\n",
              "  </thead>\n",
              "  <tbody>\n",
              "    <tr>\n",
              "      <th>0</th>\n",
              "      <td>0</td>\n",
              "      <td>1235</td>\n",
              "      <td>01235.png</td>\n",
              "      <td>1</td>\n",
              "      <td>when you're feeling horny asf but your habibi ...</td>\n",
              "      <td>[0.71356636, 0.4687377, 0.7601375, 0.47391602,...</td>\n",
              "    </tr>\n",
              "    <tr>\n",
              "      <th>1</th>\n",
              "      <td>1</td>\n",
              "      <td>1236</td>\n",
              "      <td>01236.png</td>\n",
              "      <td>0</td>\n",
              "      <td>meanwhile at the isis strip club</td>\n",
              "      <td>[0.7574666, 0.49860162, 0.8951834, 0.45049658,...</td>\n",
              "    </tr>\n",
              "    <tr>\n",
              "      <th>2</th>\n",
              "      <td>2</td>\n",
              "      <td>1243</td>\n",
              "      <td>01243.png</td>\n",
              "      <td>0</td>\n",
              "      <td>when your human says \"who' s a good girl?\" and...</td>\n",
              "      <td>[0.8522473, 0.49101305, 0.8114812, 0.43492022,...</td>\n",
              "    </tr>\n",
              "    <tr>\n",
              "      <th>3</th>\n",
              "      <td>3</td>\n",
              "      <td>1245</td>\n",
              "      <td>01245.png</td>\n",
              "      <td>1</td>\n",
              "      <td>and that was the last nativity play my son was...</td>\n",
              "      <td>[0.81344944, 0.42663395, 0.7078128, 0.45056176...</td>\n",
              "    </tr>\n",
              "    <tr>\n",
              "      <th>4</th>\n",
              "      <td>4</td>\n",
              "      <td>1247</td>\n",
              "      <td>01247.png</td>\n",
              "      <td>1</td>\n",
              "      <td>you can't be racist if there is no other race</td>\n",
              "      <td>[0.75893325, 0.44350454, 0.7556687, 0.39917853...</td>\n",
              "    </tr>\n",
              "    <tr>\n",
              "      <th>...</th>\n",
              "      <td>...</td>\n",
              "      <td>...</td>\n",
              "      <td>...</td>\n",
              "      <td>...</td>\n",
              "      <td>...</td>\n",
              "      <td>...</td>\n",
              "    </tr>\n",
              "    <tr>\n",
              "      <th>8494</th>\n",
              "      <td>8495</td>\n",
              "      <td>98752</td>\n",
              "      <td>98752.png</td>\n",
              "      <td>0</td>\n",
              "      <td>shut up ontario</td>\n",
              "      <td>[0.8344943, 0.4936527, 0.8207589, 0.42816097, ...</td>\n",
              "    </tr>\n",
              "    <tr>\n",
              "      <th>8495</th>\n",
              "      <td>8496</td>\n",
              "      <td>98754</td>\n",
              "      <td>98754.png</td>\n",
              "      <td>1</td>\n",
              "      <td>400 years of slavery rape and murder but now s...</td>\n",
              "      <td>[0.84529525, 0.4983647, 0.66996914, 0.52622557...</td>\n",
              "    </tr>\n",
              "    <tr>\n",
              "      <th>8496</th>\n",
              "      <td>8497</td>\n",
              "      <td>98756</td>\n",
              "      <td>98756.png</td>\n",
              "      <td>1</td>\n",
              "      <td>this dude wants to use the same restroom as yo...</td>\n",
              "      <td>[0.7446378, 0.5141362, 0.8126955, 0.46491468, ...</td>\n",
              "    </tr>\n",
              "    <tr>\n",
              "      <th>8497</th>\n",
              "      <td>8498</td>\n",
              "      <td>98762</td>\n",
              "      <td>98762.png</td>\n",
              "      <td>0</td>\n",
              "      <td>child in poverty with empty water jug</td>\n",
              "      <td>[0.8350415, 0.39081714, 0.721996, 0.47131905, ...</td>\n",
              "    </tr>\n",
              "    <tr>\n",
              "      <th>8498</th>\n",
              "      <td>8499</td>\n",
              "      <td>98764</td>\n",
              "      <td>98764.png</td>\n",
              "      <td>0</td>\n",
              "      <td>african kids dancing and celebrating</td>\n",
              "      <td>[0.90392286, 0.4722435, 0.83153534, 0.4479324,...</td>\n",
              "    </tr>\n",
              "  </tbody>\n",
              "</table>\n",
              "<p>8499 rows × 6 columns</p>\n",
              "</div>\n",
              "      <button class=\"colab-df-convert\" onclick=\"convertToInteractive('df-05968472-f21c-4fbd-87a3-41d65752a642')\"\n",
              "              title=\"Convert this dataframe to an interactive table.\"\n",
              "              style=\"display:none;\">\n",
              "        \n",
              "  <svg xmlns=\"http://www.w3.org/2000/svg\" height=\"24px\"viewBox=\"0 0 24 24\"\n",
              "       width=\"24px\">\n",
              "    <path d=\"M0 0h24v24H0V0z\" fill=\"none\"/>\n",
              "    <path d=\"M18.56 5.44l.94 2.06.94-2.06 2.06-.94-2.06-.94-.94-2.06-.94 2.06-2.06.94zm-11 1L8.5 8.5l.94-2.06 2.06-.94-2.06-.94L8.5 2.5l-.94 2.06-2.06.94zm10 10l.94 2.06.94-2.06 2.06-.94-2.06-.94-.94-2.06-.94 2.06-2.06.94z\"/><path d=\"M17.41 7.96l-1.37-1.37c-.4-.4-.92-.59-1.43-.59-.52 0-1.04.2-1.43.59L10.3 9.45l-7.72 7.72c-.78.78-.78 2.05 0 2.83L4 21.41c.39.39.9.59 1.41.59.51 0 1.02-.2 1.41-.59l7.78-7.78 2.81-2.81c.8-.78.8-2.07 0-2.86zM5.41 20L4 18.59l7.72-7.72 1.47 1.35L5.41 20z\"/>\n",
              "  </svg>\n",
              "      </button>\n",
              "      \n",
              "  <style>\n",
              "    .colab-df-container {\n",
              "      display:flex;\n",
              "      flex-wrap:wrap;\n",
              "      gap: 12px;\n",
              "    }\n",
              "\n",
              "    .colab-df-convert {\n",
              "      background-color: #E8F0FE;\n",
              "      border: none;\n",
              "      border-radius: 50%;\n",
              "      cursor: pointer;\n",
              "      display: none;\n",
              "      fill: #1967D2;\n",
              "      height: 32px;\n",
              "      padding: 0 0 0 0;\n",
              "      width: 32px;\n",
              "    }\n",
              "\n",
              "    .colab-df-convert:hover {\n",
              "      background-color: #E2EBFA;\n",
              "      box-shadow: 0px 1px 2px rgba(60, 64, 67, 0.3), 0px 1px 3px 1px rgba(60, 64, 67, 0.15);\n",
              "      fill: #174EA6;\n",
              "    }\n",
              "\n",
              "    [theme=dark] .colab-df-convert {\n",
              "      background-color: #3B4455;\n",
              "      fill: #D2E3FC;\n",
              "    }\n",
              "\n",
              "    [theme=dark] .colab-df-convert:hover {\n",
              "      background-color: #434B5C;\n",
              "      box-shadow: 0px 1px 3px 1px rgba(0, 0, 0, 0.15);\n",
              "      filter: drop-shadow(0px 1px 2px rgba(0, 0, 0, 0.3));\n",
              "      fill: #FFFFFF;\n",
              "    }\n",
              "  </style>\n",
              "\n",
              "      <script>\n",
              "        const buttonEl =\n",
              "          document.querySelector('#df-05968472-f21c-4fbd-87a3-41d65752a642 button.colab-df-convert');\n",
              "        buttonEl.style.display =\n",
              "          google.colab.kernel.accessAllowed ? 'block' : 'none';\n",
              "\n",
              "        async function convertToInteractive(key) {\n",
              "          const element = document.querySelector('#df-05968472-f21c-4fbd-87a3-41d65752a642');\n",
              "          const dataTable =\n",
              "            await google.colab.kernel.invokeFunction('convertToInteractive',\n",
              "                                                     [key], {});\n",
              "          if (!dataTable) return;\n",
              "\n",
              "          const docLinkHtml = 'Like what you see? Visit the ' +\n",
              "            '<a target=\"_blank\" href=https://colab.research.google.com/notebooks/data_table.ipynb>data table notebook</a>'\n",
              "            + ' to learn more about interactive tables.';\n",
              "          element.innerHTML = '';\n",
              "          dataTable['output_type'] = 'display_data';\n",
              "          await google.colab.output.renderOutput(dataTable, element);\n",
              "          const docLink = document.createElement('div');\n",
              "          docLink.innerHTML = docLinkHtml;\n",
              "          element.appendChild(docLink);\n",
              "        }\n",
              "      </script>\n",
              "    </div>\n",
              "  </div>\n",
              "  "
            ]
          },
          "metadata": {},
          "execution_count": 12
        }
      ],
      "source": [
        "train_image"
      ]
    },
    {
      "cell_type": "code",
      "execution_count": 13,
      "metadata": {
        "colab": {
          "base_uri": "https://localhost:8080/",
          "height": 641
        },
        "id": "iugh6forU2_o",
        "outputId": "f220fa04-b7be-42a6-b3bc-54e310dd3ba1"
      },
      "outputs": [
        {
          "output_type": "execute_result",
          "data": {
            "text/plain": [
              "        id        img  label  \\\n",
              "0     1268  01268.png      0   \n",
              "1     1456  01456.png      1   \n",
              "2     1726  01726.png      1   \n",
              "3     1742  01742.png      0   \n",
              "4     1765  01765.png      1   \n",
              "..     ...        ...    ...   \n",
              "495  98235  98235.png      0   \n",
              "496  98543  98543.png      1   \n",
              "497  98547  98547.png      0   \n",
              "498  98701  98701.png      1   \n",
              "499  98720  98720.png      0   \n",
              "\n",
              "                                                  text  \\\n",
              "0    father and daughter bonding time is the best l...   \n",
              "1              they see them rollin..... they hating..   \n",
              "2          a real man loads the dishwasher every night   \n",
              "3    in just one hour from now i'll only have 4 hou...   \n",
              "4    after a girl dies, what organ in her body stay...   \n",
              "..                                                 ...   \n",
              "495                                  fashion forward !   \n",
              "496                                       upper downer   \n",
              "497  waves mexican flag doesn't want to live in mexico   \n",
              "498                        oh no i can't steal anymore   \n",
              "499  when your wife just died giving birth to your ...   \n",
              "\n",
              "                                          cleaned_text  \\\n",
              "0    father daughter bonding time best like share a...   \n",
              "1                                    see rollin hating   \n",
              "2                 real man load dishwasher every night   \n",
              "3                one hour ill hour left work mere hour   \n",
              "4                    girl dy organ body stay warm dick   \n",
              "..                                                 ...   \n",
              "495                                    fashion forward   \n",
              "496                                       upper downer   \n",
              "497          wave mexican flag doesnt want live mexico   \n",
              "498                              oh cant steal anymore   \n",
              "499  wife died giving birth daughter youre alone ro...   \n",
              "\n",
              "                                              features  \n",
              "0    [0.8011039, 0.44203076, 0.8107121, 0.47249195,...  \n",
              "1    [0.78343225, 0.4830486, 0.9525863, 0.50286084,...  \n",
              "2    [0.7510135, 0.46772155, 0.8101114, 0.41914812,...  \n",
              "3    [0.8190234, 0.49838206, 0.8504915, 0.44808054,...  \n",
              "4    [0.85232306, 0.46574005, 0.7150654, 0.40895066...  \n",
              "..                                                 ...  \n",
              "495  [0.7852769, 0.48783457, 0.8366222, 0.45380473,...  \n",
              "496  [0.80557775, 0.46072176, 0.8657845, 0.4993673,...  \n",
              "497  [0.83897704, 0.51914185, 0.860897, 0.417642, 0...  \n",
              "498  [0.8463239, 0.52804404, 0.87455803, 0.46315646...  \n",
              "499  [0.7125783, 0.48747504, 0.7889395, 0.4683179, ...  \n",
              "\n",
              "[500 rows x 6 columns]"
            ],
            "text/html": [
              "\n",
              "  <div id=\"df-88b5910f-9077-4b49-899e-dae09d1eee11\">\n",
              "    <div class=\"colab-df-container\">\n",
              "      <div>\n",
              "<style scoped>\n",
              "    .dataframe tbody tr th:only-of-type {\n",
              "        vertical-align: middle;\n",
              "    }\n",
              "\n",
              "    .dataframe tbody tr th {\n",
              "        vertical-align: top;\n",
              "    }\n",
              "\n",
              "    .dataframe thead th {\n",
              "        text-align: right;\n",
              "    }\n",
              "</style>\n",
              "<table border=\"1\" class=\"dataframe\">\n",
              "  <thead>\n",
              "    <tr style=\"text-align: right;\">\n",
              "      <th></th>\n",
              "      <th>id</th>\n",
              "      <th>img</th>\n",
              "      <th>label</th>\n",
              "      <th>text</th>\n",
              "      <th>cleaned_text</th>\n",
              "      <th>features</th>\n",
              "    </tr>\n",
              "  </thead>\n",
              "  <tbody>\n",
              "    <tr>\n",
              "      <th>0</th>\n",
              "      <td>1268</td>\n",
              "      <td>01268.png</td>\n",
              "      <td>0</td>\n",
              "      <td>father and daughter bonding time is the best l...</td>\n",
              "      <td>father daughter bonding time best like share a...</td>\n",
              "      <td>[0.8011039, 0.44203076, 0.8107121, 0.47249195,...</td>\n",
              "    </tr>\n",
              "    <tr>\n",
              "      <th>1</th>\n",
              "      <td>1456</td>\n",
              "      <td>01456.png</td>\n",
              "      <td>1</td>\n",
              "      <td>they see them rollin..... they hating..</td>\n",
              "      <td>see rollin hating</td>\n",
              "      <td>[0.78343225, 0.4830486, 0.9525863, 0.50286084,...</td>\n",
              "    </tr>\n",
              "    <tr>\n",
              "      <th>2</th>\n",
              "      <td>1726</td>\n",
              "      <td>01726.png</td>\n",
              "      <td>1</td>\n",
              "      <td>a real man loads the dishwasher every night</td>\n",
              "      <td>real man load dishwasher every night</td>\n",
              "      <td>[0.7510135, 0.46772155, 0.8101114, 0.41914812,...</td>\n",
              "    </tr>\n",
              "    <tr>\n",
              "      <th>3</th>\n",
              "      <td>1742</td>\n",
              "      <td>01742.png</td>\n",
              "      <td>0</td>\n",
              "      <td>in just one hour from now i'll only have 4 hou...</td>\n",
              "      <td>one hour ill hour left work mere hour</td>\n",
              "      <td>[0.8190234, 0.49838206, 0.8504915, 0.44808054,...</td>\n",
              "    </tr>\n",
              "    <tr>\n",
              "      <th>4</th>\n",
              "      <td>1765</td>\n",
              "      <td>01765.png</td>\n",
              "      <td>1</td>\n",
              "      <td>after a girl dies, what organ in her body stay...</td>\n",
              "      <td>girl dy organ body stay warm dick</td>\n",
              "      <td>[0.85232306, 0.46574005, 0.7150654, 0.40895066...</td>\n",
              "    </tr>\n",
              "    <tr>\n",
              "      <th>...</th>\n",
              "      <td>...</td>\n",
              "      <td>...</td>\n",
              "      <td>...</td>\n",
              "      <td>...</td>\n",
              "      <td>...</td>\n",
              "      <td>...</td>\n",
              "    </tr>\n",
              "    <tr>\n",
              "      <th>495</th>\n",
              "      <td>98235</td>\n",
              "      <td>98235.png</td>\n",
              "      <td>0</td>\n",
              "      <td>fashion forward !</td>\n",
              "      <td>fashion forward</td>\n",
              "      <td>[0.7852769, 0.48783457, 0.8366222, 0.45380473,...</td>\n",
              "    </tr>\n",
              "    <tr>\n",
              "      <th>496</th>\n",
              "      <td>98543</td>\n",
              "      <td>98543.png</td>\n",
              "      <td>1</td>\n",
              "      <td>upper downer</td>\n",
              "      <td>upper downer</td>\n",
              "      <td>[0.80557775, 0.46072176, 0.8657845, 0.4993673,...</td>\n",
              "    </tr>\n",
              "    <tr>\n",
              "      <th>497</th>\n",
              "      <td>98547</td>\n",
              "      <td>98547.png</td>\n",
              "      <td>0</td>\n",
              "      <td>waves mexican flag doesn't want to live in mexico</td>\n",
              "      <td>wave mexican flag doesnt want live mexico</td>\n",
              "      <td>[0.83897704, 0.51914185, 0.860897, 0.417642, 0...</td>\n",
              "    </tr>\n",
              "    <tr>\n",
              "      <th>498</th>\n",
              "      <td>98701</td>\n",
              "      <td>98701.png</td>\n",
              "      <td>1</td>\n",
              "      <td>oh no i can't steal anymore</td>\n",
              "      <td>oh cant steal anymore</td>\n",
              "      <td>[0.8463239, 0.52804404, 0.87455803, 0.46315646...</td>\n",
              "    </tr>\n",
              "    <tr>\n",
              "      <th>499</th>\n",
              "      <td>98720</td>\n",
              "      <td>98720.png</td>\n",
              "      <td>0</td>\n",
              "      <td>when your wife just died giving birth to your ...</td>\n",
              "      <td>wife died giving birth daughter youre alone ro...</td>\n",
              "      <td>[0.7125783, 0.48747504, 0.7889395, 0.4683179, ...</td>\n",
              "    </tr>\n",
              "  </tbody>\n",
              "</table>\n",
              "<p>500 rows × 6 columns</p>\n",
              "</div>\n",
              "      <button class=\"colab-df-convert\" onclick=\"convertToInteractive('df-88b5910f-9077-4b49-899e-dae09d1eee11')\"\n",
              "              title=\"Convert this dataframe to an interactive table.\"\n",
              "              style=\"display:none;\">\n",
              "        \n",
              "  <svg xmlns=\"http://www.w3.org/2000/svg\" height=\"24px\"viewBox=\"0 0 24 24\"\n",
              "       width=\"24px\">\n",
              "    <path d=\"M0 0h24v24H0V0z\" fill=\"none\"/>\n",
              "    <path d=\"M18.56 5.44l.94 2.06.94-2.06 2.06-.94-2.06-.94-.94-2.06-.94 2.06-2.06.94zm-11 1L8.5 8.5l.94-2.06 2.06-.94-2.06-.94L8.5 2.5l-.94 2.06-2.06.94zm10 10l.94 2.06.94-2.06 2.06-.94-2.06-.94-.94-2.06-.94 2.06-2.06.94z\"/><path d=\"M17.41 7.96l-1.37-1.37c-.4-.4-.92-.59-1.43-.59-.52 0-1.04.2-1.43.59L10.3 9.45l-7.72 7.72c-.78.78-.78 2.05 0 2.83L4 21.41c.39.39.9.59 1.41.59.51 0 1.02-.2 1.41-.59l7.78-7.78 2.81-2.81c.8-.78.8-2.07 0-2.86zM5.41 20L4 18.59l7.72-7.72 1.47 1.35L5.41 20z\"/>\n",
              "  </svg>\n",
              "      </button>\n",
              "      \n",
              "  <style>\n",
              "    .colab-df-container {\n",
              "      display:flex;\n",
              "      flex-wrap:wrap;\n",
              "      gap: 12px;\n",
              "    }\n",
              "\n",
              "    .colab-df-convert {\n",
              "      background-color: #E8F0FE;\n",
              "      border: none;\n",
              "      border-radius: 50%;\n",
              "      cursor: pointer;\n",
              "      display: none;\n",
              "      fill: #1967D2;\n",
              "      height: 32px;\n",
              "      padding: 0 0 0 0;\n",
              "      width: 32px;\n",
              "    }\n",
              "\n",
              "    .colab-df-convert:hover {\n",
              "      background-color: #E2EBFA;\n",
              "      box-shadow: 0px 1px 2px rgba(60, 64, 67, 0.3), 0px 1px 3px 1px rgba(60, 64, 67, 0.15);\n",
              "      fill: #174EA6;\n",
              "    }\n",
              "\n",
              "    [theme=dark] .colab-df-convert {\n",
              "      background-color: #3B4455;\n",
              "      fill: #D2E3FC;\n",
              "    }\n",
              "\n",
              "    [theme=dark] .colab-df-convert:hover {\n",
              "      background-color: #434B5C;\n",
              "      box-shadow: 0px 1px 3px 1px rgba(0, 0, 0, 0.15);\n",
              "      filter: drop-shadow(0px 1px 2px rgba(0, 0, 0, 0.3));\n",
              "      fill: #FFFFFF;\n",
              "    }\n",
              "  </style>\n",
              "\n",
              "      <script>\n",
              "        const buttonEl =\n",
              "          document.querySelector('#df-88b5910f-9077-4b49-899e-dae09d1eee11 button.colab-df-convert');\n",
              "        buttonEl.style.display =\n",
              "          google.colab.kernel.accessAllowed ? 'block' : 'none';\n",
              "\n",
              "        async function convertToInteractive(key) {\n",
              "          const element = document.querySelector('#df-88b5910f-9077-4b49-899e-dae09d1eee11');\n",
              "          const dataTable =\n",
              "            await google.colab.kernel.invokeFunction('convertToInteractive',\n",
              "                                                     [key], {});\n",
              "          if (!dataTable) return;\n",
              "\n",
              "          const docLinkHtml = 'Like what you see? Visit the ' +\n",
              "            '<a target=\"_blank\" href=https://colab.research.google.com/notebooks/data_table.ipynb>data table notebook</a>'\n",
              "            + ' to learn more about interactive tables.';\n",
              "          element.innerHTML = '';\n",
              "          dataTable['output_type'] = 'display_data';\n",
              "          await google.colab.output.renderOutput(dataTable, element);\n",
              "          const docLink = document.createElement('div');\n",
              "          docLink.innerHTML = docLinkHtml;\n",
              "          element.appendChild(docLink);\n",
              "        }\n",
              "      </script>\n",
              "    </div>\n",
              "  </div>\n",
              "  "
            ]
          },
          "metadata": {},
          "execution_count": 13
        }
      ],
      "source": [
        "dev_image"
      ]
    },
    {
      "cell_type": "code",
      "execution_count": 14,
      "metadata": {
        "id": "aCBhjPmyWQ6E"
      },
      "outputs": [],
      "source": [
        "X_train=[]\n",
        "for i in range(train_image.shape[0]):\n",
        "  X_train.append(np.array(train_image['features'][i]))\n",
        "X_train=np.array(X_train)"
      ]
    },
    {
      "cell_type": "code",
      "execution_count": 15,
      "metadata": {
        "id": "_Xlkv8UbW6FN"
      },
      "outputs": [],
      "source": [
        "X_dev=[]\n",
        "for i in range(dev_image.shape[0]):\n",
        "  X_dev.append(np.array(dev_image['features'][i]))\n",
        "X_dev=np.array(X_dev)"
      ]
    },
    {
      "cell_type": "code",
      "execution_count": 16,
      "metadata": {
        "colab": {
          "base_uri": "https://localhost:8080/"
        },
        "id": "CAYsa6sIVchA",
        "outputId": "43b4d7b8-1f83-497e-99c8-8d720b0dcbcf"
      },
      "outputs": [
        {
          "output_type": "execute_result",
          "data": {
            "text/plain": [
              "(8499, 2048)"
            ]
          },
          "metadata": {},
          "execution_count": 16
        }
      ],
      "source": [
        "X_train.shape"
      ]
    },
    {
      "cell_type": "code",
      "execution_count": 17,
      "metadata": {
        "colab": {
          "base_uri": "https://localhost:8080/"
        },
        "id": "ZTohsWUlXLb_",
        "outputId": "9201ff79-fa8d-4efd-a2fb-46fdc6175d78"
      },
      "outputs": [
        {
          "output_type": "execute_result",
          "data": {
            "text/plain": [
              "(500, 2048)"
            ]
          },
          "metadata": {},
          "execution_count": 17
        }
      ],
      "source": [
        "X_dev.shape"
      ]
    },
    {
      "cell_type": "code",
      "execution_count": 18,
      "metadata": {
        "id": "2VyaLP5iJ5gn"
      },
      "outputs": [],
      "source": [
        "y_train=np.array(train_image['label'])"
      ]
    },
    {
      "cell_type": "code",
      "execution_count": 19,
      "metadata": {
        "id": "AE--jMkh7QjB"
      },
      "outputs": [],
      "source": [
        "y_dev=np.array(dev_image['label'])"
      ]
    },
    {
      "cell_type": "code",
      "execution_count": 20,
      "metadata": {
        "id": "1xU6g4aK4TTo"
      },
      "outputs": [],
      "source": [
        "from sklearn.linear_model import LogisticRegression\n",
        "from sklearn.metrics import accuracy_score\n",
        "from sklearn.metrics import f1_score\n",
        "from sklearn.metrics import confusion_matrix\n",
        "from sklearn.svm import LinearSVC\n",
        "from sklearn.metrics import roc_curve, auc\n",
        "from sklearn.model_selection import learning_curve"
      ]
    },
    {
      "cell_type": "markdown",
      "metadata": {
        "id": "WiM_8qJnNJSk"
      },
      "source": [
        "Model1-Logistic Regression"
      ]
    },
    {
      "cell_type": "code",
      "execution_count": 21,
      "metadata": {
        "id": "goWsW8wE5pXC"
      },
      "outputs": [],
      "source": [
        "model=LogisticRegression(max_iter=1000)"
      ]
    },
    {
      "cell_type": "code",
      "execution_count": 22,
      "metadata": {
        "id": "usbBalPl5uOR"
      },
      "outputs": [],
      "source": [
        "history=model.fit(X_train,y_train)"
      ]
    },
    {
      "cell_type": "code",
      "execution_count": 23,
      "metadata": {
        "id": "e-L2ptD069ug"
      },
      "outputs": [],
      "source": [
        "X_predication=model.predict(X_dev)"
      ]
    },
    {
      "cell_type": "code",
      "execution_count": 24,
      "metadata": {
        "colab": {
          "base_uri": "https://localhost:8080/"
        },
        "id": "Q3MVEJaR9Mrl",
        "outputId": "a8334305-9637-4cca-d898-6c0f931e16ae"
      },
      "outputs": [
        {
          "output_type": "execute_result",
          "data": {
            "text/plain": [
              "0.496"
            ]
          },
          "metadata": {},
          "execution_count": 24
        }
      ],
      "source": [
        "accuracy_score(X_predication,y_dev)"
      ]
    },
    {
      "cell_type": "code",
      "execution_count": 25,
      "metadata": {
        "colab": {
          "base_uri": "https://localhost:8080/"
        },
        "id": "auWuqluCPJGN",
        "outputId": "02e0590f-850e-49ec-88dc-2394744e56a2"
      },
      "outputs": [
        {
          "output_type": "execute_result",
          "data": {
            "text/plain": [
              "array([[208, 210],\n",
              "       [ 42,  40]])"
            ]
          },
          "metadata": {},
          "execution_count": 25
        }
      ],
      "source": [
        "confusion_matrix(X_predication,y_dev)"
      ]
    },
    {
      "cell_type": "code",
      "source": [
        "fpr, tpr, thresholds = roc_curve(X_predication,y_dev)\n",
        "aucroc = auc(fpr, tpr)\n",
        "print(\"AUCROC: \", aucroc)"
      ],
      "metadata": {
        "colab": {
          "base_uri": "https://localhost:8080/"
        },
        "id": "dHju4fmXydqW",
        "outputId": "5be06702-7fe7-4ab5-bf16-56078a56f5e4"
      },
      "execution_count": 26,
      "outputs": [
        {
          "output_type": "stream",
          "name": "stdout",
          "text": [
            "AUCROC:  0.49270626677558643\n"
          ]
        }
      ]
    },
    {
      "cell_type": "markdown",
      "metadata": {
        "id": "WvBnWdlCNOd_"
      },
      "source": [
        "Model2-XgboostClassifier"
      ]
    },
    {
      "cell_type": "code",
      "execution_count": 27,
      "metadata": {
        "id": "k3jfUaVyNA3z"
      },
      "outputs": [],
      "source": [
        "from xgboost import XGBClassifier"
      ]
    },
    {
      "cell_type": "code",
      "execution_count": 28,
      "metadata": {
        "id": "Oj3sTA-mNaze"
      },
      "outputs": [],
      "source": [
        "model2=XGBClassifier()"
      ]
    },
    {
      "cell_type": "code",
      "execution_count": 29,
      "metadata": {
        "colab": {
          "base_uri": "https://localhost:8080/",
          "height": 248
        },
        "id": "RS56g89DNibJ",
        "outputId": "67d6bb0b-037b-4070-e20e-4acfdb0ed43e"
      },
      "outputs": [
        {
          "output_type": "execute_result",
          "data": {
            "text/plain": [
              "XGBClassifier(base_score=None, booster=None, callbacks=None,\n",
              "              colsample_bylevel=None, colsample_bynode=None,\n",
              "              colsample_bytree=None, early_stopping_rounds=None,\n",
              "              enable_categorical=False, eval_metric=None, feature_types=None,\n",
              "              gamma=None, gpu_id=None, grow_policy=None, importance_type=None,\n",
              "              interaction_constraints=None, learning_rate=None, max_bin=None,\n",
              "              max_cat_threshold=None, max_cat_to_onehot=None,\n",
              "              max_delta_step=None, max_depth=None, max_leaves=None,\n",
              "              min_child_weight=None, missing=nan, monotone_constraints=None,\n",
              "              n_estimators=100, n_jobs=None, num_parallel_tree=None,\n",
              "              predictor=None, random_state=None, ...)"
            ],
            "text/html": [
              "<style>#sk-container-id-1 {color: black;background-color: white;}#sk-container-id-1 pre{padding: 0;}#sk-container-id-1 div.sk-toggleable {background-color: white;}#sk-container-id-1 label.sk-toggleable__label {cursor: pointer;display: block;width: 100%;margin-bottom: 0;padding: 0.3em;box-sizing: border-box;text-align: center;}#sk-container-id-1 label.sk-toggleable__label-arrow:before {content: \"▸\";float: left;margin-right: 0.25em;color: #696969;}#sk-container-id-1 label.sk-toggleable__label-arrow:hover:before {color: black;}#sk-container-id-1 div.sk-estimator:hover label.sk-toggleable__label-arrow:before {color: black;}#sk-container-id-1 div.sk-toggleable__content {max-height: 0;max-width: 0;overflow: hidden;text-align: left;background-color: #f0f8ff;}#sk-container-id-1 div.sk-toggleable__content pre {margin: 0.2em;color: black;border-radius: 0.25em;background-color: #f0f8ff;}#sk-container-id-1 input.sk-toggleable__control:checked~div.sk-toggleable__content {max-height: 200px;max-width: 100%;overflow: auto;}#sk-container-id-1 input.sk-toggleable__control:checked~label.sk-toggleable__label-arrow:before {content: \"▾\";}#sk-container-id-1 div.sk-estimator input.sk-toggleable__control:checked~label.sk-toggleable__label {background-color: #d4ebff;}#sk-container-id-1 div.sk-label input.sk-toggleable__control:checked~label.sk-toggleable__label {background-color: #d4ebff;}#sk-container-id-1 input.sk-hidden--visually {border: 0;clip: rect(1px 1px 1px 1px);clip: rect(1px, 1px, 1px, 1px);height: 1px;margin: -1px;overflow: hidden;padding: 0;position: absolute;width: 1px;}#sk-container-id-1 div.sk-estimator {font-family: monospace;background-color: #f0f8ff;border: 1px dotted black;border-radius: 0.25em;box-sizing: border-box;margin-bottom: 0.5em;}#sk-container-id-1 div.sk-estimator:hover {background-color: #d4ebff;}#sk-container-id-1 div.sk-parallel-item::after {content: \"\";width: 100%;border-bottom: 1px solid gray;flex-grow: 1;}#sk-container-id-1 div.sk-label:hover label.sk-toggleable__label {background-color: #d4ebff;}#sk-container-id-1 div.sk-serial::before {content: \"\";position: absolute;border-left: 1px solid gray;box-sizing: border-box;top: 0;bottom: 0;left: 50%;z-index: 0;}#sk-container-id-1 div.sk-serial {display: flex;flex-direction: column;align-items: center;background-color: white;padding-right: 0.2em;padding-left: 0.2em;position: relative;}#sk-container-id-1 div.sk-item {position: relative;z-index: 1;}#sk-container-id-1 div.sk-parallel {display: flex;align-items: stretch;justify-content: center;background-color: white;position: relative;}#sk-container-id-1 div.sk-item::before, #sk-container-id-1 div.sk-parallel-item::before {content: \"\";position: absolute;border-left: 1px solid gray;box-sizing: border-box;top: 0;bottom: 0;left: 50%;z-index: -1;}#sk-container-id-1 div.sk-parallel-item {display: flex;flex-direction: column;z-index: 1;position: relative;background-color: white;}#sk-container-id-1 div.sk-parallel-item:first-child::after {align-self: flex-end;width: 50%;}#sk-container-id-1 div.sk-parallel-item:last-child::after {align-self: flex-start;width: 50%;}#sk-container-id-1 div.sk-parallel-item:only-child::after {width: 0;}#sk-container-id-1 div.sk-dashed-wrapped {border: 1px dashed gray;margin: 0 0.4em 0.5em 0.4em;box-sizing: border-box;padding-bottom: 0.4em;background-color: white;}#sk-container-id-1 div.sk-label label {font-family: monospace;font-weight: bold;display: inline-block;line-height: 1.2em;}#sk-container-id-1 div.sk-label-container {text-align: center;}#sk-container-id-1 div.sk-container {/* jupyter's `normalize.less` sets `[hidden] { display: none; }` but bootstrap.min.css set `[hidden] { display: none !important; }` so we also need the `!important` here to be able to override the default hidden behavior on the sphinx rendered scikit-learn.org. See: https://github.com/scikit-learn/scikit-learn/issues/21755 */display: inline-block !important;position: relative;}#sk-container-id-1 div.sk-text-repr-fallback {display: none;}</style><div id=\"sk-container-id-1\" class=\"sk-top-container\"><div class=\"sk-text-repr-fallback\"><pre>XGBClassifier(base_score=None, booster=None, callbacks=None,\n",
              "              colsample_bylevel=None, colsample_bynode=None,\n",
              "              colsample_bytree=None, early_stopping_rounds=None,\n",
              "              enable_categorical=False, eval_metric=None, feature_types=None,\n",
              "              gamma=None, gpu_id=None, grow_policy=None, importance_type=None,\n",
              "              interaction_constraints=None, learning_rate=None, max_bin=None,\n",
              "              max_cat_threshold=None, max_cat_to_onehot=None,\n",
              "              max_delta_step=None, max_depth=None, max_leaves=None,\n",
              "              min_child_weight=None, missing=nan, monotone_constraints=None,\n",
              "              n_estimators=100, n_jobs=None, num_parallel_tree=None,\n",
              "              predictor=None, random_state=None, ...)</pre><b>In a Jupyter environment, please rerun this cell to show the HTML representation or trust the notebook. <br />On GitHub, the HTML representation is unable to render, please try loading this page with nbviewer.org.</b></div><div class=\"sk-container\" hidden><div class=\"sk-item\"><div class=\"sk-estimator sk-toggleable\"><input class=\"sk-toggleable__control sk-hidden--visually\" id=\"sk-estimator-id-1\" type=\"checkbox\" checked><label for=\"sk-estimator-id-1\" class=\"sk-toggleable__label sk-toggleable__label-arrow\">XGBClassifier</label><div class=\"sk-toggleable__content\"><pre>XGBClassifier(base_score=None, booster=None, callbacks=None,\n",
              "              colsample_bylevel=None, colsample_bynode=None,\n",
              "              colsample_bytree=None, early_stopping_rounds=None,\n",
              "              enable_categorical=False, eval_metric=None, feature_types=None,\n",
              "              gamma=None, gpu_id=None, grow_policy=None, importance_type=None,\n",
              "              interaction_constraints=None, learning_rate=None, max_bin=None,\n",
              "              max_cat_threshold=None, max_cat_to_onehot=None,\n",
              "              max_delta_step=None, max_depth=None, max_leaves=None,\n",
              "              min_child_weight=None, missing=nan, monotone_constraints=None,\n",
              "              n_estimators=100, n_jobs=None, num_parallel_tree=None,\n",
              "              predictor=None, random_state=None, ...)</pre></div></div></div></div></div>"
            ]
          },
          "metadata": {},
          "execution_count": 29
        }
      ],
      "source": [
        "model2.fit(X_train,y_train)"
      ]
    },
    {
      "cell_type": "code",
      "execution_count": 30,
      "metadata": {
        "id": "krhTDYmwNo2e"
      },
      "outputs": [],
      "source": [
        "X_predication=model2.predict(X_dev)"
      ]
    },
    {
      "cell_type": "code",
      "execution_count": 31,
      "metadata": {
        "colab": {
          "base_uri": "https://localhost:8080/"
        },
        "id": "jIt4MoJJNrcW",
        "outputId": "b3ecaec1-2b27-4eb4-c04a-52ffc7e9bf8c"
      },
      "outputs": [
        {
          "output_type": "execute_result",
          "data": {
            "text/plain": [
              "0.5"
            ]
          },
          "metadata": {},
          "execution_count": 31
        }
      ],
      "source": [
        "accuracy_score(X_predication,y_dev)"
      ]
    },
    {
      "cell_type": "code",
      "execution_count": 32,
      "metadata": {
        "colab": {
          "base_uri": "https://localhost:8080/"
        },
        "id": "oYFOeDIEPE4L",
        "outputId": "895be022-ac12-4e43-e6cc-70a544fb2fdd"
      },
      "outputs": [
        {
          "output_type": "execute_result",
          "data": {
            "text/plain": [
              "array([[214, 214],\n",
              "       [ 36,  36]])"
            ]
          },
          "metadata": {},
          "execution_count": 32
        }
      ],
      "source": [
        "confusion_matrix(X_predication,y_dev)"
      ]
    },
    {
      "cell_type": "code",
      "source": [
        "fpr, tpr, thresholds = roc_curve(X_predication,y_dev)\n",
        "aucroc = auc(fpr, tpr)\n",
        "print(\"AUCROC: \", aucroc)"
      ],
      "metadata": {
        "colab": {
          "base_uri": "https://localhost:8080/"
        },
        "id": "DrQO1pQ2zDVj",
        "outputId": "26215190-826c-41fb-aad0-59709fc508ae"
      },
      "execution_count": 33,
      "outputs": [
        {
          "output_type": "stream",
          "name": "stdout",
          "text": [
            "AUCROC:  0.5\n"
          ]
        }
      ]
    },
    {
      "cell_type": "markdown",
      "metadata": {
        "id": "KglTx3xfO1w9"
      },
      "source": [
        "Model3-SVM"
      ]
    },
    {
      "cell_type": "code",
      "execution_count": 34,
      "metadata": {
        "id": "zvuYB42LO0or"
      },
      "outputs": [],
      "source": [
        "model3=LinearSVC(max_iter=10000,penalty='l2')"
      ]
    },
    {
      "cell_type": "code",
      "execution_count": 35,
      "metadata": {
        "colab": {
          "base_uri": "https://localhost:8080/",
          "height": 129
        },
        "id": "z3lvq03_P2sA",
        "outputId": "62e297b0-2a6a-4c28-9de2-2e2608f5abcf"
      },
      "outputs": [
        {
          "output_type": "stream",
          "name": "stderr",
          "text": [
            "/usr/local/lib/python3.10/dist-packages/sklearn/svm/_base.py:1244: ConvergenceWarning: Liblinear failed to converge, increase the number of iterations.\n",
            "  warnings.warn(\n"
          ]
        },
        {
          "output_type": "execute_result",
          "data": {
            "text/plain": [
              "LinearSVC(max_iter=10000)"
            ],
            "text/html": [
              "<style>#sk-container-id-2 {color: black;background-color: white;}#sk-container-id-2 pre{padding: 0;}#sk-container-id-2 div.sk-toggleable {background-color: white;}#sk-container-id-2 label.sk-toggleable__label {cursor: pointer;display: block;width: 100%;margin-bottom: 0;padding: 0.3em;box-sizing: border-box;text-align: center;}#sk-container-id-2 label.sk-toggleable__label-arrow:before {content: \"▸\";float: left;margin-right: 0.25em;color: #696969;}#sk-container-id-2 label.sk-toggleable__label-arrow:hover:before {color: black;}#sk-container-id-2 div.sk-estimator:hover label.sk-toggleable__label-arrow:before {color: black;}#sk-container-id-2 div.sk-toggleable__content {max-height: 0;max-width: 0;overflow: hidden;text-align: left;background-color: #f0f8ff;}#sk-container-id-2 div.sk-toggleable__content pre {margin: 0.2em;color: black;border-radius: 0.25em;background-color: #f0f8ff;}#sk-container-id-2 input.sk-toggleable__control:checked~div.sk-toggleable__content {max-height: 200px;max-width: 100%;overflow: auto;}#sk-container-id-2 input.sk-toggleable__control:checked~label.sk-toggleable__label-arrow:before {content: \"▾\";}#sk-container-id-2 div.sk-estimator input.sk-toggleable__control:checked~label.sk-toggleable__label {background-color: #d4ebff;}#sk-container-id-2 div.sk-label input.sk-toggleable__control:checked~label.sk-toggleable__label {background-color: #d4ebff;}#sk-container-id-2 input.sk-hidden--visually {border: 0;clip: rect(1px 1px 1px 1px);clip: rect(1px, 1px, 1px, 1px);height: 1px;margin: -1px;overflow: hidden;padding: 0;position: absolute;width: 1px;}#sk-container-id-2 div.sk-estimator {font-family: monospace;background-color: #f0f8ff;border: 1px dotted black;border-radius: 0.25em;box-sizing: border-box;margin-bottom: 0.5em;}#sk-container-id-2 div.sk-estimator:hover {background-color: #d4ebff;}#sk-container-id-2 div.sk-parallel-item::after {content: \"\";width: 100%;border-bottom: 1px solid gray;flex-grow: 1;}#sk-container-id-2 div.sk-label:hover label.sk-toggleable__label {background-color: #d4ebff;}#sk-container-id-2 div.sk-serial::before {content: \"\";position: absolute;border-left: 1px solid gray;box-sizing: border-box;top: 0;bottom: 0;left: 50%;z-index: 0;}#sk-container-id-2 div.sk-serial {display: flex;flex-direction: column;align-items: center;background-color: white;padding-right: 0.2em;padding-left: 0.2em;position: relative;}#sk-container-id-2 div.sk-item {position: relative;z-index: 1;}#sk-container-id-2 div.sk-parallel {display: flex;align-items: stretch;justify-content: center;background-color: white;position: relative;}#sk-container-id-2 div.sk-item::before, #sk-container-id-2 div.sk-parallel-item::before {content: \"\";position: absolute;border-left: 1px solid gray;box-sizing: border-box;top: 0;bottom: 0;left: 50%;z-index: -1;}#sk-container-id-2 div.sk-parallel-item {display: flex;flex-direction: column;z-index: 1;position: relative;background-color: white;}#sk-container-id-2 div.sk-parallel-item:first-child::after {align-self: flex-end;width: 50%;}#sk-container-id-2 div.sk-parallel-item:last-child::after {align-self: flex-start;width: 50%;}#sk-container-id-2 div.sk-parallel-item:only-child::after {width: 0;}#sk-container-id-2 div.sk-dashed-wrapped {border: 1px dashed gray;margin: 0 0.4em 0.5em 0.4em;box-sizing: border-box;padding-bottom: 0.4em;background-color: white;}#sk-container-id-2 div.sk-label label {font-family: monospace;font-weight: bold;display: inline-block;line-height: 1.2em;}#sk-container-id-2 div.sk-label-container {text-align: center;}#sk-container-id-2 div.sk-container {/* jupyter's `normalize.less` sets `[hidden] { display: none; }` but bootstrap.min.css set `[hidden] { display: none !important; }` so we also need the `!important` here to be able to override the default hidden behavior on the sphinx rendered scikit-learn.org. See: https://github.com/scikit-learn/scikit-learn/issues/21755 */display: inline-block !important;position: relative;}#sk-container-id-2 div.sk-text-repr-fallback {display: none;}</style><div id=\"sk-container-id-2\" class=\"sk-top-container\"><div class=\"sk-text-repr-fallback\"><pre>LinearSVC(max_iter=10000)</pre><b>In a Jupyter environment, please rerun this cell to show the HTML representation or trust the notebook. <br />On GitHub, the HTML representation is unable to render, please try loading this page with nbviewer.org.</b></div><div class=\"sk-container\" hidden><div class=\"sk-item\"><div class=\"sk-estimator sk-toggleable\"><input class=\"sk-toggleable__control sk-hidden--visually\" id=\"sk-estimator-id-2\" type=\"checkbox\" checked><label for=\"sk-estimator-id-2\" class=\"sk-toggleable__label sk-toggleable__label-arrow\">LinearSVC</label><div class=\"sk-toggleable__content\"><pre>LinearSVC(max_iter=10000)</pre></div></div></div></div></div>"
            ]
          },
          "metadata": {},
          "execution_count": 35
        }
      ],
      "source": [
        "model3.fit(X_train,y_train)"
      ]
    },
    {
      "cell_type": "code",
      "execution_count": 36,
      "metadata": {
        "id": "AxZtFNtgP41B"
      },
      "outputs": [],
      "source": [
        "X_predication=model3.predict(X_dev)"
      ]
    },
    {
      "cell_type": "code",
      "execution_count": 37,
      "metadata": {
        "colab": {
          "base_uri": "https://localhost:8080/"
        },
        "id": "E-K_ILObP7YO",
        "outputId": "e19b9f1d-76ff-41c6-f982-55a90e0f3de8"
      },
      "outputs": [
        {
          "output_type": "execute_result",
          "data": {
            "text/plain": [
              "0.502"
            ]
          },
          "metadata": {},
          "execution_count": 37
        }
      ],
      "source": [
        "accuracy_score(X_predication,y_dev)"
      ]
    },
    {
      "cell_type": "code",
      "execution_count": 38,
      "metadata": {
        "colab": {
          "base_uri": "https://localhost:8080/"
        },
        "id": "uI-_2BkMP971",
        "outputId": "9b8df38d-14c7-4f6b-a180-ef2214891fde"
      },
      "outputs": [
        {
          "output_type": "execute_result",
          "data": {
            "text/plain": [
              "array([[181, 180],\n",
              "       [ 69,  70]])"
            ]
          },
          "metadata": {},
          "execution_count": 38
        }
      ],
      "source": [
        "confusion_matrix(X_predication,y_dev)"
      ]
    },
    {
      "cell_type": "code",
      "source": [
        "fpr, tpr, thresholds = roc_curve(y_dev,X_predication)\n",
        "aucroc = auc(fpr, tpr)\n",
        "print(\"AUCROC: \", aucroc)"
      ],
      "metadata": {
        "colab": {
          "base_uri": "https://localhost:8080/"
        },
        "id": "pSEt-Cu0zKZb",
        "outputId": "870176e4-33c6-4b72-90d1-d8e55172cc7f"
      },
      "execution_count": 39,
      "outputs": [
        {
          "output_type": "stream",
          "name": "stdout",
          "text": [
            "AUCROC:  0.502\n"
          ]
        }
      ]
    }
  ],
  "metadata": {
    "accelerator": "GPU",
    "colab": {
      "provenance": [],
      "mount_file_id": "1ZRFXDi4-fugMLi4Srcvdk-zOGbX4Uyxu",
      "authorship_tag": "ABX9TyO/I1s86XZqI6sOkMjtHAmN",
      "include_colab_link": true
    },
    "gpuClass": "standard",
    "kernelspec": {
      "display_name": "Python 3",
      "name": "python3"
    },
    "language_info": {
      "name": "python"
    }
  },
  "nbformat": 4,
  "nbformat_minor": 0
}