{
  "cells": [
    {
      "cell_type": "markdown",
      "metadata": {
        "id": "view-in-github",
        "colab_type": "text"
      },
      "source": [
        "<a href=\"https://colab.research.google.com/github/AmarnadhReddy055/Multi-Model-Hate-Speech-Detection-In-Memes/blob/main/ImageFeatures.ipynb\" target=\"_parent\"><img src=\"https://colab.research.google.com/assets/colab-badge.svg\" alt=\"Open In Colab\"/></a>"
      ]
    },
    {
      "cell_type": "code",
      "execution_count": null,
      "metadata": {
        "id": "UFRhKeKoYwik"
      },
      "outputs": [],
      "source": [
        "import torch\n",
        "import torchvision.transforms as transforms\n",
        "from PIL import Image\n",
        "import torchvision.models as models\n",
        "import os\n",
        "import pandas as pd\n",
        "import numpy as np"
      ]
    },
    {
      "cell_type": "code",
      "execution_count": null,
      "metadata": {
        "id": "M1Js5_f0eZLu"
      },
      "outputs": [],
      "source": [
        "files=os.listdir('/content/drive/MyDrive/project_images/img')"
      ]
    },
    {
      "cell_type": "code",
      "source": [
        "model = models.resnet152(pretrained=True)"
      ],
      "metadata": {
        "colab": {
          "base_uri": "https://localhost:8080/"
        },
        "id": "SevB73hHUWDe",
        "outputId": "4383a0c2-f1d6-4715-9215-154930a1adaf"
      },
      "execution_count": null,
      "outputs": [
        {
          "output_type": "stream",
          "name": "stderr",
          "text": [
            "/usr/local/lib/python3.8/dist-packages/torchvision/models/_utils.py:208: UserWarning: The parameter 'pretrained' is deprecated since 0.13 and may be removed in the future, please use 'weights' instead.\n",
            "  warnings.warn(\n",
            "/usr/local/lib/python3.8/dist-packages/torchvision/models/_utils.py:223: UserWarning: Arguments other than a weight enum or `None` for 'weights' are deprecated since 0.13 and may be removed in the future. The current behavior is equivalent to passing `weights=ResNet152_Weights.IMAGENET1K_V1`. You can also use `weights=ResNet152_Weights.DEFAULT` to get the most up-to-date weights.\n",
            "  warnings.warn(msg)\n"
          ]
        }
      ]
    },
    {
      "cell_type": "code",
      "source": [
        "features_extractor = torch.nn.Sequential(*list(model.children())[:-1])"
      ],
      "metadata": {
        "id": "71e8WicyeU0Y"
      },
      "execution_count": null,
      "outputs": []
    },
    {
      "cell_type": "code",
      "execution_count": null,
      "metadata": {
        "id": "tHMenb8tZBHm"
      },
      "outputs": [],
      "source": [
        "preprocess =transforms.Compose([\n",
        "    transforms.Resize(256),\n",
        "    transforms.CenterCrop(224),\n",
        "    transforms.ToTensor(),\n",
        "    transforms.Normalize(mean=[0.485, 0.456, 0.406], std=[0.229, 0.224, 0.225])\n",
        "])"
      ]
    },
    {
      "cell_type": "code",
      "execution_count": null,
      "metadata": {
        "id": "BN5RNwJjg0Tc"
      },
      "outputs": [],
      "source": [
        "lst=[]\n",
        "for file in files:\n",
        "  image = Image.open('/content/drive/MyDrive/project_images/img/'+file).convert('RGB')\n",
        "  image=preprocess(image)\n",
        "  image = image.unsqueeze(0)\n",
        "  features = features_extractor(image)\n",
        "  features = torch.flatten(features, start_dim=1)\n",
        "  features_vector = features.detach().numpy().squeeze()\n",
        "  features_vector=list(features_vector)\n",
        "  lst.append(features_vector)"
      ]
    },
    {
      "cell_type": "code",
      "source": [
        "len(lst)"
      ],
      "metadata": {
        "colab": {
          "base_uri": "https://localhost:8080/"
        },
        "id": "kqLYx4syfgXC",
        "outputId": "d6ddf421-1a7a-478e-ddb4-21f34d479674"
      },
      "execution_count": null,
      "outputs": [
        {
          "output_type": "execute_result",
          "data": {
            "text/plain": [
              "9999"
            ]
          },
          "metadata": {},
          "execution_count": 22
        }
      ]
    },
    {
      "cell_type": "code",
      "source": [
        "type(lst[0])"
      ],
      "metadata": {
        "colab": {
          "base_uri": "https://localhost:8080/"
        },
        "id": "M6pw71Ohfjhl",
        "outputId": "4de22869-a09a-4717-8727-01057d207587"
      },
      "execution_count": null,
      "outputs": [
        {
          "output_type": "execute_result",
          "data": {
            "text/plain": [
              "list"
            ]
          },
          "metadata": {},
          "execution_count": 23
        }
      ]
    },
    {
      "cell_type": "code",
      "execution_count": null,
      "metadata": {
        "id": "U2Nt90kcbV8b"
      },
      "outputs": [],
      "source": [
        "image_features=pd.DataFrame({'id':files, 'features': lst})"
      ]
    },
    {
      "cell_type": "code",
      "execution_count": null,
      "metadata": {
        "id": "IiMR1JSESCdd"
      },
      "outputs": [],
      "source": [
        "image_features = pd.DataFrame(image_features[['id','features']], columns=['id','features'])"
      ]
    },
    {
      "cell_type": "code",
      "execution_count": null,
      "metadata": {
        "id": "4i8TLGiQcaly"
      },
      "outputs": [],
      "source": [
        "image_features.to_csv('/content/drive/MyDrive/image_features_2048.csv',index=False)"
      ]
    },
    {
      "cell_type": "code",
      "source": [
        "csv=pd.read_csv('/content/drive/MyDrive/image_features_2048.csv')"
      ],
      "metadata": {
        "id": "zhRfq8uxVnMq"
      },
      "execution_count": null,
      "outputs": []
    }
  ],
  "metadata": {
    "accelerator": "GPU",
    "colab": {
      "provenance": [],
      "mount_file_id": "1wvFiVyZ4uymJ-RjKzGY0arQlMh0BTPAy",
      "authorship_tag": "ABX9TyPPJTtXBdhG8X7pdCA+dVeY",
      "include_colab_link": true
    },
    "gpuClass": "standard",
    "kernelspec": {
      "display_name": "Python 3",
      "name": "python3"
    },
    "language_info": {
      "name": "python"
    }
  },
  "nbformat": 4,
  "nbformat_minor": 0
}